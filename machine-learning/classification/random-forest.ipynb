{
  "nbformat": 4,
  "nbformat_minor": 0,
  "metadata": {
    "colab": {
      "name": "Lojistik Regresyon.ipynb",
      "provenance": [],
      "collapsed_sections": [],
      "authorship_tag": "ABX9TyP/A7ElMnI+gjzHOpzF6UsI",
      "include_colab_link": true
    },
    "kernelspec": {
      "name": "python3",
      "display_name": "Python 3"
    },
    "language_info": {
      "name": "python"
    }
  },
  "cells": [
    {
      "cell_type": "markdown",
      "metadata": {
        "id": "view-in-github",
        "colab_type": "text"
      },
      "source": [
        "<a href=\"https://colab.research.google.com/github/qraxiss/learning-data-science/blob/main/machine-learning/classification/random-forest.ipynb\" target=\"_parent\"><img src=\"https://colab.research.google.com/assets/colab-badge.svg\" alt=\"Open In Colab\"/></a>"
      ]
    },
    {
      "cell_type": "markdown",
      "source": [
        "# Data & Libs"
      ],
      "metadata": {
        "id": "w4oYWyu2_UbM"
      }
    },
    {
      "cell_type": "code",
      "source": [
        "!pip install skompiler"
      ],
      "metadata": {
        "id": "uaY_54Zf7cON"
      },
      "execution_count": null,
      "outputs": []
    },
    {
      "cell_type": "code",
      "source": [
        "# Libs\n",
        "import numpy as np\n",
        "import pandas as pd \n",
        "from sklearn.model_selection import train_test_split, cross_val_score, GridSearchCV\n",
        "from sklearn.metrics import confusion_matrix, accuracy_score, classification_report\n",
        "from sklearn.metrics import roc_auc_score,roc_curve\n",
        "import matplotlib.pyplot as plt\n",
        "from sklearn.ensemble import RandomForestClassifier\n",
        "from google.colab import drive\n",
        "from skompiler import skompile\n",
        "from warnings import filterwarnings\n",
        "filterwarnings('ignore')\n",
        "\n",
        "# Data\n",
        "drive.mount('/content/gdrive')\n",
        "df = pd.read_csv(\"/content/gdrive/MyDrive/Colab Notebooks/learning-data-science-main/machine-learning/datas/diabetes.csv\")\n",
        "df = df.dropna()\n",
        "df.index = np.arange(df.shape[0])\n",
        "\n",
        "# X&y\n",
        "y = df[\"Outcome\"]\n",
        "X = df.drop([\"Outcome\"], axis=1)\n",
        "\n",
        "# Test Train\n",
        "X_train, X_test, y_train, y_test = train_test_split(X, y, test_size = 0.30, random_state=31)"
      ],
      "metadata": {
        "id": "dZ25M-qc9ZrU"
      },
      "execution_count": null,
      "outputs": []
    },
    {
      "cell_type": "markdown",
      "source": [
        "# Model"
      ],
      "metadata": {
        "id": "ksdKpa-v_Vkq"
      }
    },
    {
      "cell_type": "code",
      "source": [
        "rf_model = RandomForestClassifier().fit(X_train, y_train)"
      ],
      "metadata": {
        "id": "9qgcaMxn_Yry"
      },
      "execution_count": 27,
      "outputs": []
    },
    {
      "cell_type": "markdown",
      "source": [
        "# Predict"
      ],
      "metadata": {
        "id": "2_ExYe1f_1Us"
      }
    },
    {
      "cell_type": "code",
      "source": [
        "print(\"Basic Accuracy Score\",accuracy_score(y_test, rf_model.predict(X_test)))\n",
        "print(\"CV Accuracy Score\",cross_val_score(rf_model,\n",
        "                                          X_test, \n",
        "                                          y_test, \n",
        "                                          cv=10).mean())"
      ],
      "metadata": {
        "colab": {
          "base_uri": "https://localhost:8080/"
        },
        "id": "2SE1Fde_eKi-",
        "outputId": "c8db4698-8da5-47cd-e136-85aa30d4b7bd"
      },
      "execution_count": 28,
      "outputs": [
        {
          "output_type": "stream",
          "name": "stdout",
          "text": [
            "Basic Accuracy Score 0.7445887445887446\n",
            "CV Accuracy Score 0.7440217391304348\n"
          ]
        }
      ]
    },
    {
      "cell_type": "markdown",
      "source": [
        "# Python Code"
      ],
      "metadata": {
        "id": "WubKlOYf70Wl"
      }
    },
    {
      "cell_type": "code",
      "source": [
        "print(skompile(rf_model.predict).to(\"python/code\"))"
      ],
      "metadata": {
        "id": "aN8omiyD72RF"
      },
      "execution_count": null,
      "outputs": []
    },
    {
      "cell_type": "markdown",
      "source": [
        "# Model Tuning"
      ],
      "metadata": {
        "id": "qJdPA5QviKN7"
      }
    },
    {
      "cell_type": "code",
      "source": [
        "rf_params = {\"max_depth\": [2,5],\n",
        "            \"max_features\": [2,5],\n",
        "            \"n_estimators\": [10,500],\n",
        "            \"min_samples_split\": [5,10]}\n",
        "\n",
        "rf = RandomForestClassifier()\n",
        "rf_cv = GridSearchCV(rf, rf_params, cv = 2, n_jobs = -1, verbose = 2)\n",
        "rf_cv_model = rf_cv.fit(X_train, y_train)"
      ],
      "metadata": {
        "colab": {
          "base_uri": "https://localhost:8080/"
        },
        "id": "YwpW0KibiOY6",
        "outputId": "f3ae91e2-bbe1-437b-f701-d6b349b72fb5"
      },
      "execution_count": 32,
      "outputs": [
        {
          "output_type": "stream",
          "name": "stdout",
          "text": [
            "Fitting 2 folds for each of 16 candidates, totalling 32 fits\n"
          ]
        }
      ]
    },
    {
      "cell_type": "code",
      "source": [
        "print(\"En iyi skor:\" + str(rf_cv_model.best_score_))\n",
        "print(\"En iyi parametreler: \" + str(rf_cv_model.best_params_))\n",
        "params = pd.Series(rf_cv_model.best_params_)\n",
        "params"
      ],
      "metadata": {
        "colab": {
          "base_uri": "https://localhost:8080/"
        },
        "id": "LB8yIVaFiZSK",
        "outputId": "0178a2f0-0d6d-474d-e94d-e2943969f9ab"
      },
      "execution_count": 34,
      "outputs": [
        {
          "output_type": "stream",
          "name": "stdout",
          "text": [
            "En iyi skor:0.7784081451478666\n",
            "En iyi parametreler: {'max_depth': 5, 'max_features': 5, 'min_samples_split': 10, 'n_estimators': 10}\n"
          ]
        },
        {
          "output_type": "execute_result",
          "data": {
            "text/plain": [
              "max_depth             5\n",
              "max_features          5\n",
              "min_samples_split    10\n",
              "n_estimators         10\n",
              "dtype: int64"
            ]
          },
          "metadata": {},
          "execution_count": 34
        }
      ]
    },
    {
      "cell_type": "markdown",
      "source": [
        "## Tuned Model"
      ],
      "metadata": {
        "id": "ZFBjYB9EilAI"
      }
    },
    {
      "cell_type": "code",
      "source": [
        "rf = RandomForestClassifier(max_depth = params[0], max_features=params[1], min_samples_split = params[2], n_estimators=params[3])\n",
        "rf_tuned = rf.fit(X_train, y_train) "
      ],
      "metadata": {
        "id": "FdmezHKKimdO"
      },
      "execution_count": 36,
      "outputs": []
    },
    {
      "cell_type": "code",
      "source": [
        "print(\"Basic Accuracy Score\",accuracy_score(y_test, rf_tuned.predict(X_test)))\n",
        "print(\"CV Accuracy Score\",cross_val_score(rf_tuned,\n",
        "                                          X_test, \n",
        "                                          y_test, \n",
        "                                          cv=10).mean())"
      ],
      "metadata": {
        "colab": {
          "base_uri": "https://localhost:8080/"
        },
        "id": "_GqIvAyXjCGh",
        "outputId": "c71a11e9-f0e4-497b-ac45-4d829927ea39"
      },
      "execution_count": 37,
      "outputs": [
        {
          "output_type": "stream",
          "name": "stdout",
          "text": [
            "Basic Accuracy Score 0.7445887445887446\n",
            "CV Accuracy Score 0.7353260869565219\n"
          ]
        }
      ]
    },
    {
      "cell_type": "code",
      "source": [
        "# Yüzdesel Oranlar\n",
        "y_probs = pd.DataFrame(rf_tuned.predict_proba(X_test))\n",
        "max = []\n",
        "for j in np.arange(0,1,0.01):\n",
        "  y_pred = np.array([1 if i > j else 0 for i in list(y_probs[1])])\n",
        "  max.append([j ,accuracy_score(y_test, y_pred)])\n",
        "\n",
        "max = np.array(max)\n",
        "\n",
        "# Plot\n",
        "import seaborn as sns\n",
        "sns.lineplot(y=max[:,1], x=max[:,0])"
      ],
      "metadata": {
        "colab": {
          "base_uri": "https://localhost:8080/",
          "height": 286
        },
        "id": "4DiXsqfEB6tQ",
        "outputId": "027764a3-eaeb-4d6d-849e-b851bac9dd2d"
      },
      "execution_count": 38,
      "outputs": [
        {
          "output_type": "execute_result",
          "data": {
            "text/plain": [
              "<matplotlib.axes._subplots.AxesSubplot at 0x7f8a4c266710>"
            ]
          },
          "metadata": {},
          "execution_count": 38
        },
        {
          "output_type": "display_data",
          "data": {
            "image/png": "[encoded data removed]",
            "text/plain": [
              "<Figure size 432x288 with 1 Axes>"
            ]
          },
          "metadata": {
            "needs_background": "light"
          }
        }
      ]
    },
    {
      "cell_type": "markdown",
      "source": [
        "# Plot"
      ],
      "metadata": {
        "id": "UA68TYhdaAld"
      }
    },
    {
      "cell_type": "code",
      "source": [
        "logit_roc_auc = roc_auc_score(y_test, rf_tuned.predict(X_test))\n",
        "\n",
        "fpr, tpr, thresholds = roc_curve(y_test, rf_tuned.predict_proba(X_test)[:,1])\n",
        "plt.figure()\n",
        "plt.plot(fpr, tpr, label='AUC (area = %0.2f)' % logit_roc_auc)\n",
        "plt.plot([0, 1], [0, 1],'r--')\n",
        "plt.xlim([0.0, 1.0])\n",
        "plt.ylim([0.0, 1.05])\n",
        "plt.xlabel('False Positive Oranı')\n",
        "plt.ylabel('True Positive Oranı')\n",
        "plt.title('ROC')\n",
        "plt.show()"
      ],
      "metadata": {
        "colab": {
          "base_uri": "https://localhost:8080/",
          "height": 295
        },
        "id": "5WzkYHvgb44g",
        "outputId": "1c464fee-207d-4756-b3d0-033150646b77"
      },
      "execution_count": 39,
      "outputs": [
        {
          "output_type": "display_data",
          "data": {
            "image/png": "[encoded data removed]",
            "text/plain": [
              "<Figure size 432x288 with 1 Axes>"
            ]
          },
          "metadata": {
            "needs_background": "light"
          }
        }
      ]
    },
    {
      "cell_type": "code",
      "source": [
        ""
      ],
      "metadata": {
        "id": "66JkI6dZ6iVt"
      },
      "execution_count": null,
      "outputs": []
    }
  ]
}