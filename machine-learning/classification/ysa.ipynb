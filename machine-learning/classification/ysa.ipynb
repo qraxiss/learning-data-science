{
  "nbformat": 4,
  "nbformat_minor": 0,
  "metadata": {
    "colab": {
      "name": "Lojistik Regresyon.ipynb",
      "provenance": [],
      "collapsed_sections": [],
      "authorship_tag": "ABX9TyPZvjLsmoYLtiM0H0t9//WX",
      "include_colab_link": true
    },
    "kernelspec": {
      "name": "python3",
      "display_name": "Python 3"
    },
    "language_info": {
      "name": "python"
    }
  },
  "cells": [
    {
      "cell_type": "markdown",
      "metadata": {
        "id": "view-in-github",
        "colab_type": "text"
      },
      "source": [
        "<a href=\"https://colab.research.google.com/github/qraxiss/learning-data-science/blob/main/machine-learning/classification/ysa.ipynb\" target=\"_parent\"><img src=\"https://colab.research.google.com/assets/colab-badge.svg\" alt=\"Open In Colab\"/></a>"
      ]
    },
    {
      "cell_type": "markdown",
      "source": [
        "# Data & Libs"
      ],
      "metadata": {
        "id": "w4oYWyu2_UbM"
      }
    },
    {
      "cell_type": "code",
      "source": [
        "# Libs\n",
        "import numpy as np\n",
        "import pandas as pd \n",
        "from sklearn.model_selection import train_test_split, cross_val_score, GridSearchCV\n",
        "from sklearn.metrics import confusion_matrix, accuracy_score, classification_report\n",
        "from sklearn.metrics import roc_auc_score,roc_curve\n",
        "import matplotlib.pyplot as plt\n",
        "from sklearn.neural_network import MLPClassifier \n",
        "from sklearn.preprocessing import StandardScaler\n",
        "\n",
        "from warnings import filterwarnings\n",
        "filterwarnings('ignore')\n",
        "\n",
        "# Data\n",
        "drive.mount('/content/gdrive')\n",
        "df = pd.read_csv(\"/content/gdrive/MyDrive/Colab Notebooks/learning-data-science-main/machine-learning/datas/diabetes.csv\")\n",
        "df = df.dropna()\n",
        "df.index = np.arange(df.shape[0])\n",
        "\n",
        "# X&y\n",
        "y = df[\"Outcome\"]\n",
        "X = df.drop([\"Outcome\"], axis=1)\n",
        "\n",
        "# Test Train\n",
        "X_train, X_test, y_train, y_test = train_test_split(X, y, test_size = 0.30, random_state=31)\n",
        "\n",
        "# Scale\n",
        "scaler = StandardScaler()\n",
        "scaler.fit(X_train)\n",
        "X_train_scaled = scaler.transform(X_train)\n",
        "\n",
        "scaler = StandardScaler()\n",
        "scaler.fit(X_test)\n",
        "X_test_scaled = scaler.transform(X_test)"
      ],
      "metadata": {
        "id": "dZ25M-qc9ZrU",
        "colab": {
          "base_uri": "https://localhost:8080/"
        },
        "outputId": "ffe39c16-50c0-4920-8e21-0372210309ec"
      },
      "execution_count": 141,
      "outputs": [
        {
          "output_type": "stream",
          "name": "stdout",
          "text": [
            "Drive already mounted at /content/gdrive; to attempt to forcibly remount, call drive.mount(\"/content/gdrive\", force_remount=True).\n"
          ]
        }
      ]
    },
    {
      "cell_type": "markdown",
      "source": [
        "# Model"
      ],
      "metadata": {
        "id": "ksdKpa-v_Vkq"
      }
    },
    {
      "cell_type": "code",
      "source": [
        "mlpc_model = MLPClassifier().fit(X_train_scaled, y_train)"
      ],
      "metadata": {
        "id": "9qgcaMxn_Yry"
      },
      "execution_count": 144,
      "outputs": []
    },
    {
      "cell_type": "markdown",
      "source": [
        "# Predict"
      ],
      "metadata": {
        "id": "2_ExYe1f_1Us"
      }
    },
    {
      "cell_type": "code",
      "source": [
        "print(\"Basic Accuracy Score\",accuracy_score(y_test, mlpc_model.predict(X_test_scaled)))\n",
        "print(\"CV Accuracy Score\",cross_val_score(mlpc_model,\n",
        "                                          X_test_scaled, \n",
        "                                          y_test, \n",
        "                                          cv=10).mean())"
      ],
      "metadata": {
        "colab": {
          "base_uri": "https://localhost:8080/"
        },
        "id": "2SE1Fde_eKi-",
        "outputId": "1dd54b1c-fd55-4639-91b8-fcf94fac9a87"
      },
      "execution_count": 145,
      "outputs": [
        {
          "output_type": "stream",
          "name": "stdout",
          "text": [
            "Basic Accuracy Score 0.7705627705627706\n",
            "CV Accuracy Score 0.7704710144927536\n"
          ]
        }
      ]
    },
    {
      "cell_type": "markdown",
      "source": [
        "# Model Tuning"
      ],
      "metadata": {
        "id": "qJdPA5QviKN7"
      }
    },
    {
      "cell_type": "code",
      "source": [
        "mlpc_params = {\"alpha\": [0.1, 0.01, 0.02, 0.005, 0.0001,0.00001],\n",
        "              \"hidden_layer_sizes\": [(10,10,10),\n",
        "                                     (100,100,100),\n",
        "                                     (100,100),\n",
        "                                     (3,5), \n",
        "                                     (5, 3)],\n",
        "              \"solver\" : [\"lbfgs\",\"adam\",\"sgd\"],\n",
        "              \"activation\": [\"relu\",\"logistic\"]}\n",
        "\n",
        "mlpc = MLPClassifier()\n",
        "mlpc_cv = GridSearchCV(mlpc, mlpc_params, cv=3, n_jobs=-1, verbose=2).fit(X_train_scaled, y_train)"
      ],
      "metadata": {
        "colab": {
          "base_uri": "https://localhost:8080/"
        },
        "id": "YwpW0KibiOY6",
        "outputId": "9cd98904-0da1-425f-a298-467621a92097"
      },
      "execution_count": 149,
      "outputs": [
        {
          "output_type": "stream",
          "name": "stdout",
          "text": [
            "Fitting 3 folds for each of 180 candidates, totalling 540 fits\n"
          ]
        }
      ]
    },
    {
      "cell_type": "code",
      "source": [
        "print(\"En iyi skor:\" + str(mlpc_cv.best_score_))\n",
        "print(\"En iyi parametreler: \" + str(mlpc_cv.best_params_))\n",
        "params = pd.Series(mlpc_cv.best_params_)"
      ],
      "metadata": {
        "colab": {
          "base_uri": "https://localhost:8080/"
        },
        "id": "LB8yIVaFiZSK",
        "outputId": "e4971ded-0ebf-4cab-c6d1-bc9d71c86c86"
      },
      "execution_count": 152,
      "outputs": [
        {
          "output_type": "stream",
          "name": "stdout",
          "text": [
            "En iyi skor:0.7635009310986964\n",
            "En iyi parametreler: {'activation': 'relu', 'alpha': 0.0001, 'hidden_layer_sizes': (100, 100), 'solver': 'sgd'}\n"
          ]
        }
      ]
    },
    {
      "cell_type": "markdown",
      "source": [
        "## Tuned Model"
      ],
      "metadata": {
        "id": "ZFBjYB9EilAI"
      }
    },
    {
      "cell_type": "code",
      "source": [
        "mlpc = MLPClassifier(activation=\"relu\", \n",
        "                    alpha=0.0001,\n",
        "                    hidden_layer_sizes=(100, 100),\n",
        "                    solver=\"sgd\")\n",
        "mlpc_tuned = svc.fit(X_train_scaled, y_train)"
      ],
      "metadata": {
        "id": "FdmezHKKimdO"
      },
      "execution_count": 157,
      "outputs": []
    },
    {
      "cell_type": "code",
      "source": [
        "print(\"Basic Accuracy Score\",accuracy_score(y_test, mlpc_tuned.predict(X_test_scaled)))\n",
        "print(\"CV Accuracy Score\",cross_val_score(mlpc_tuned,\n",
        "                                          X_test, \n",
        "                                          y_test, \n",
        "                                          cv=10).mean())"
      ],
      "metadata": {
        "colab": {
          "base_uri": "https://localhost:8080/"
        },
        "id": "_GqIvAyXjCGh",
        "outputId": "24d61310-854e-4b32-b2da-d5cde32d86f4"
      },
      "execution_count": 158,
      "outputs": [
        {
          "output_type": "stream",
          "name": "stdout",
          "text": [
            "Basic Accuracy Score 0.7662337662337663\n",
            "CV Accuracy Score 0.643840579710145\n"
          ]
        }
      ]
    },
    {
      "cell_type": "code",
      "source": [
        "# Yüzdesel Oranlar\n",
        "y_probs = pd.DataFrame(mlpc_tuned.predict_proba(X_test_scaled))\n",
        "max = []\n",
        "for j in np.arange(0,1,0.01):\n",
        "  y_pred = np.array([1 if i > j else 0 for i in list(y_probs[1])])\n",
        "  max.append([j ,accuracy_score(y_test, y_pred)])\n",
        "\n",
        "max = np.array(max)\n",
        "\n",
        "# Plot\n",
        "import seaborn as sns\n",
        "sns.lineplot(y=max[:,1], x=max[:,0])"
      ],
      "metadata": {
        "colab": {
          "base_uri": "https://localhost:8080/",
          "height": 282
        },
        "id": "4DiXsqfEB6tQ",
        "outputId": "86dd7321-0e3c-405e-c1a7-c76d17f86e52"
      },
      "execution_count": 160,
      "outputs": [
        {
          "output_type": "execute_result",
          "data": {
            "text/plain": [
              "<matplotlib.axes._subplots.AxesSubplot at 0x7ff24aacad90>"
            ]
          },
          "metadata": {},
          "execution_count": 160
        },
        {
          "output_type": "display_data",
          "data": {
            "image/png": "[encoded data removed]",
            "text/plain": [
              "<Figure size 432x288 with 1 Axes>"
            ]
          },
          "metadata": {
            "needs_background": "light"
          }
        }
      ]
    },
    {
      "cell_type": "markdown",
      "source": [
        "# Plot"
      ],
      "metadata": {
        "id": "UA68TYhdaAld"
      }
    },
    {
      "cell_type": "code",
      "source": [
        "logit_roc_auc = roc_auc_score(y_test, svc_tuned.predict(X_test_scaled))\n",
        "\n",
        "fpr, tpr, thresholds = roc_curve(y_test, svc_tuned.predict_proba(X_test_scaled)[:,1])\n",
        "plt.figure()\n",
        "plt.plot(fpr, tpr, label='AUC (area = %0.2f)' % logit_roc_auc)\n",
        "plt.plot([0, 1], [0, 1],'r--')\n",
        "plt.xlim([0.0, 1.0])\n",
        "plt.ylim([0.0, 1.05])\n",
        "plt.xlabel('False Positive Oranı')\n",
        "plt.ylabel('True Positive Oranı')\n",
        "plt.title('ROC')\n",
        "plt.show()"
      ],
      "metadata": {
        "colab": {
          "base_uri": "https://localhost:8080/",
          "height": 295
        },
        "id": "5WzkYHvgb44g",
        "outputId": "f0d9acfe-56ff-4af2-935c-9757fb310e5f"
      },
      "execution_count": 163,
      "outputs": [
        {
          "output_type": "display_data",
          "data": {
            "image/png": "[encoded data removed]",
            "text/plain": [
              "<Figure size 432x288 with 1 Axes>"
            ]
          },
          "metadata": {
            "needs_background": "light"
          }
        }
      ]
    },
    {
      "cell_type": "code",
      "source": [
        ""
      ],
      "metadata": {
        "id": "sbBSXf-WcGL4"
      },
      "execution_count": null,
      "outputs": []
    }
  ]
}