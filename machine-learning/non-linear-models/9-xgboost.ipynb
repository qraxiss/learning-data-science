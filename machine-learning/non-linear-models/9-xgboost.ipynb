{
  "cells": [
    {
      "cell_type": "code",
      "source": [
        "!pip install xgboost"
      ],
      "metadata": {
        "id": "6xve5YqIgikz"
      },
      "execution_count": null,
      "outputs": []
    },
    {
      "cell_type": "code",
      "execution_count": 68,
      "metadata": {
        "id": "3ljygJZqa8YA"
      },
      "outputs": [],
      "source": [
        "# Model\n",
        "from sklearn.model_selection import GridSearchCV\n",
        "from sklearn.metrics import mean_squared_error\n",
        "from xgboost import XGBRegressor\n",
        "\n",
        "# Plot\n",
        "import matplotlib.pyplot as plt\n",
        "\n",
        "# Datas\n",
        "from sklearn.model_selection import train_test_split\n",
        "from google.colab import drive\n",
        "import xgboost as xgb\n",
        "import pandas as pd \n",
        "import numpy as np\n",
        "\n",
        "from warnings import filterwarnings\n",
        "filterwarnings('ignore')"
      ]
    },
    {
      "cell_type": "markdown",
      "metadata": {
        "id": "2aDs9Z1Aa8YD"
      },
      "source": [
        "# Prepare"
      ]
    },
    {
      "cell_type": "code",
      "execution_count": 48,
      "metadata": {
        "colab": {
          "base_uri": "https://localhost:8080/"
        },
        "id": "KCCY_tCca8YF",
        "outputId": "89777d22-2938-437b-8a3a-8dfd1dd61797"
      },
      "outputs": [
        {
          "output_type": "stream",
          "name": "stdout",
          "text": [
            "Drive already mounted at /content/gdrive; to attempt to forcibly remount, call drive.mount(\"/content/gdrive\", force_remount=True).\n"
          ]
        }
      ],
      "source": [
        "# Data\n",
        "drive.mount('/content/gdrive')\n",
        "df = pd.read_csv(\"/content/gdrive/MyDrive/Colab Notebooks/learning-data-science-main/machine-learning/datas/Hitters.csv\")\n",
        "df = df.dropna()\n",
        "df.index = np.arange(df.shape[0])\n",
        "\n",
        "# Dummie\n",
        "dms = pd.get_dummies(df[['League', 'Division', 'NewLeague']])\n",
        "y = df[\"Salary\"]\n",
        "X = df.drop(['Salary', 'League', 'Division', 'NewLeague'], axis=1)\n",
        "X = pd.concat([X, dms[[\"League_N\", \"Division_W\", \"NewLeague_N\"]]], axis=1)\n",
        "\n",
        "# Test Train\n",
        "X_train, X_test, y_train, y_test = train_test_split(X, y, test_size = 0.25, random_state=42)\n",
        "\n",
        "# Xgboost Special Datatype Transform\n",
        "DM_train = xgb.DMatrix(data= X_train, label=y_train)\n",
        "DM_test = xgb.DMatrix(data= X_test, label=y_test)"
      ]
    },
    {
      "cell_type": "markdown",
      "metadata": {
        "id": "Zt5oJJr5a8YG"
      },
      "source": [
        "# Model"
      ]
    },
    {
      "cell_type": "code",
      "execution_count": null,
      "metadata": {
        "id": "w1Nqxinha8YH"
      },
      "outputs": [],
      "source": [
        "xgb_model = XGBRegressor().fit(X_train, y_train)"
      ]
    },
    {
      "cell_type": "markdown",
      "metadata": {
        "id": "Da9izGR6a8YI"
      },
      "source": [
        "# Predict"
      ]
    },
    {
      "cell_type": "code",
      "execution_count": 53,
      "metadata": {
        "colab": {
          "base_uri": "https://localhost:8080/"
        },
        "id": "GRJXAV39a8YI",
        "outputId": "911695e4-eb19-4122-d79a-35b91136f2b6"
      },
      "outputs": [
        {
          "output_type": "execute_result",
          "data": {
            "text/plain": [
              "359.91750599447033"
            ]
          },
          "metadata": {},
          "execution_count": 53
        }
      ],
      "source": [
        "y_pred = xgb_model.predict(X_test)\n",
        "np.sqrt(mean_squared_error(y_test, y_pred))"
      ]
    },
    {
      "cell_type": "markdown",
      "metadata": {
        "id": "hFypN247a8YK"
      },
      "source": [
        "# Model Tuning"
      ]
    },
    {
      "cell_type": "code",
      "execution_count": 57,
      "metadata": {
        "colab": {
          "base_uri": "https://localhost:8080/"
        },
        "id": "PU5wHShda8YK",
        "outputId": "844233b6-6ab1-4403-eb1b-aae0a57e2313"
      },
      "outputs": [
        {
          "output_type": "stream",
          "name": "stdout",
          "text": [
            "Fitting 5 folds for each of 300 candidates, totalling 1500 fits\n",
            "[14:46:22] WARNING: /workspace/src/objective/regression_obj.cu:152: reg:linear is now deprecated in favor of reg:squarederror.\n"
          ]
        }
      ],
      "source": [
        "xgb_grid = {\n",
        "     'colsample_bytree': [0.4, 0.5,0.6,0.9,1], \n",
        "     'n_estimators':[100, 200, 500, 1000],\n",
        "     'max_depth': [2,3,4,5,6],\n",
        "     'learning_rate': [0.1, 0.01, 0.5]}\n",
        "\n",
        "xgb_model = XGBRegressor()\n",
        "xgb_cv_model = GridSearchCV(xgb_model, \n",
        "                            param_grid = xgb_grid, \n",
        "                            cv=5, \n",
        "                            n_jobs = -1, \n",
        "                            verbose=2).fit(X_train, y_train)"
      ]
    },
    {
      "cell_type": "code",
      "source": [
        "xgb_model\n",
        "xgb_grid = {\n",
        "     'colsample_bytree': [0.4,0.5,1], \n",
        "     'n_estimators':[500, 1000],\n",
        "     'max_depth': [2,3,6],\n",
        "     'learning_rate': [0.1, 0.5]\n",
        "}\n",
        "xgb = XGBRegressor()\n",
        "\n",
        "xgb_cv = GridSearchCV(xgb, \n",
        "                      param_grid = xgb_grid, \n",
        "                      cv = 3, \n",
        "                      n_jobs = -1,\n",
        "                      verbose = 2)\n",
        "\n",
        "\n",
        "xgb_cv.fit(X_train, y_train)\n",
        "xgb_cv.best_params_\n",
        "xgb_tuned = XGBRegressor(colsample_bytree = 0.9, \n",
        "                         learning_rate = 0.01, \n",
        "                         max_depth = 5, \n",
        "                         n_estimators = 1000) \n",
        "\n",
        "xgb_tuned = xgb_tuned.fit(X_train,y_train)\n",
        "y_pred = xgb_tuned.predict(X_test)\n",
        "np.sqrt(mean_squared_error(y_test, y_pred))"
      ],
      "metadata": {
        "id": "CzrDPaCxlhhd",
        "outputId": "5c07be86-d0bf-4042-936f-63e65900dd29",
        "colab": {
          "base_uri": "https://localhost:8080/"
        }
      },
      "execution_count": 56,
      "outputs": [
        {
          "output_type": "stream",
          "name": "stdout",
          "text": [
            "Fitting 3 folds for each of 36 candidates, totalling 108 fits\n",
            "[14:42:51] WARNING: /workspace/src/objective/regression_obj.cu:152: reg:linear is now deprecated in favor of reg:squarederror.\n",
            "[14:42:51] WARNING: /workspace/src/objective/regression_obj.cu:152: reg:linear is now deprecated in favor of reg:squarederror.\n"
          ]
        },
        {
          "output_type": "execute_result",
          "data": {
            "text/plain": [
              "366.8356029309698"
            ]
          },
          "metadata": {},
          "execution_count": 56
        }
      ]
    },
    {
      "cell_type": "markdown",
      "metadata": {
        "id": "hdQxHFx0a8YL"
      },
      "source": [
        "### Tuned Model"
      ]
    },
    {
      "cell_type": "code",
      "execution_count": 70,
      "metadata": {
        "colab": {
          "base_uri": "https://localhost:8080/"
        },
        "id": "8DK0fcyAa8YL",
        "outputId": "34044e7b-5faa-404c-ec15-d882daf70489"
      },
      "outputs": [
        {
          "output_type": "stream",
          "name": "stdout",
          "text": [
            "[14:51:50] WARNING: /workspace/src/objective/regression_obj.cu:152: reg:linear is now deprecated in favor of reg:squarederror.\n"
          ]
        },
        {
          "output_type": "execute_result",
          "data": {
            "text/plain": [
              "343.5566804929871"
            ]
          },
          "metadata": {},
          "execution_count": 70
        }
      ],
      "source": [
        "# Params\n",
        "params=pd.Series(xgb_cv_model.best_params_)\n",
        "xgb_tuned = XGBRegressor(colsample_bytree=float(params[0]), \n",
        "                         n_estimators=int(params[3]), \n",
        "                         max_depth=int(params[2]), \n",
        "                         learning_rate=float(params[1]))\n",
        "xgb_tuned.fit(X_train, y_train)\n",
        "\n",
        "# Validated Error\n",
        "y_pred = xgb_tuned.predict(X_test)\n",
        "np.sqrt(mean_squared_error(y_test, y_pred))"
      ]
    },
    {
      "cell_type": "code",
      "execution_count": 67,
      "metadata": {
        "colab": {
          "base_uri": "https://localhost:8080/",
          "height": 281
        },
        "id": "DjtNatuWa8YM",
        "outputId": "845796cf-c010-4f85-c7fd-47085057a5e8"
      },
      "outputs": [
        {
          "output_type": "display_data",
          "data": {
            "image/png": "[encoded data removed]",
            "text/plain": [
              "<Figure size 432x288 with 1 Axes>"
            ]
          },
          "metadata": {
            "needs_background": "light"
          }
        }
      ],
      "source": [
        "Importance = pd.DataFrame({\"Importance\": xgb_tuned.feature_importances_*1000},\n",
        "                         index = X_train.columns)\n",
        "Importance.sort_values(by = \"Importance\", \n",
        "                       axis = 0, \n",
        "                       ascending = True).plot(kind =\"barh\", color = \"r\")\n",
        "\n",
        "plt.xlabel(\"Değişken Önem Düzeyleri\");\n",
        "plt.ylabel(\"Değişkenler\");"
      ]
    },
    {
      "cell_type": "code",
      "execution_count": null,
      "metadata": {
        "id": "sUIKg_hTa8YM"
      },
      "outputs": [],
      "source": [
        ""
      ]
    }
  ],
  "metadata": {
    "interpreter": {
      "hash": "3079d289965526a5670b083c2e31f1fa7e5a3c5f280ce501604a1ddbcd6b6c1d"
    },
    "kernelspec": {
      "display_name": "Python 3.8.8 64-bit ('base': conda)",
      "language": "python",
      "name": "python3"
    },
    "language_info": {
      "codemirror_mode": {
        "name": "ipython",
        "version": 3
      },
      "file_extension": ".py",
      "mimetype": "text/x-python",
      "name": "python",
      "nbconvert_exporter": "python",
      "pygments_lexer": "ipython3",
      "version": "3.8.8"
    },
    "orig_nbformat": 4,
    "colab": {
      "name": "7-random-forest.ipynb",
      "provenance": []
    }
  },
  "nbformat": 4,
  "nbformat_minor": 0
}