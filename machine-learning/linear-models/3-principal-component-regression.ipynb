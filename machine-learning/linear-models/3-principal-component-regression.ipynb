{
 "cells": [
  {
   "cell_type": "code",
   "execution_count": 1,
   "metadata": {},
   "outputs": [],
   "source": [
    "import pandas as pd\n",
    "import numpy as np\n",
    "from sklearn.decomposition import PCA\n",
    "from sklearn.preprocessing import scale\n",
    "from sklearn.metrics import mean_squared_error, r2_score\n",
    "from sklearn import model_selection\n",
    "import matplotlib.pyplot as plt\n",
    "from sklearn .model_selection import train_test_split\n",
    "from sklearn.linear_model import LinearRegression"
   ]
  },
  {
   "cell_type": "markdown",
   "metadata": {},
   "source": [
    "# Data Prepare"
   ]
  },
  {
   "cell_type": "code",
   "execution_count": 2,
   "metadata": {},
   "outputs": [
    {
     "name": "stdout",
     "output_type": "stream",
     "text": [
      "[38.18 59.88 70.88 78.88 84.18 88.45 92.05 94.86 96.34 97.28]\n",
      "[39.74 62.29 71.86 80.34 86.24 90.47 93.78 95.85 97.04 97.8 ]\n"
     ]
    }
   ],
   "source": [
    "# Prepare\n",
    "df = pd.read_csv(\"../datas/Hitters.csv\")\n",
    "df = df.dropna()\n",
    "\n",
    "# Dummie\n",
    "dms = pd.get_dummies(df[['League', 'Division', 'NewLeague']])\n",
    "y = df[\"Salary\"]\n",
    "X = df.drop(['Salary', 'League', 'Division', 'NewLeague'], axis=1)\n",
    "X = pd.concat([X, dms[[\"League_N\", \"Division_W\", \"NewLeague_N\"]]], axis=1)\n",
    "\n",
    "# Test Train\n",
    "X_train, X_test, y_train, y_test = train_test_split(X, y, test_size = 0.25, random_state=42)\n",
    "\n",
    "# Reduce\n",
    "pca = PCA()\n",
    "\n",
    "X_reduced_train = pca.fit_transform(scale(X_train))\n",
    "print(np.cumsum(np.round(pca.explained_variance_ratio_, decimals=4)*100)[:10])\n",
    "\n",
    "X_reduced_test = pca.fit_transform(scale(X_test))\n",
    "print(np.cumsum(np.round(pca.explained_variance_ratio_, decimals=4)*100)[:10])"
   ]
  },
  {
   "cell_type": "markdown",
   "metadata": {},
   "source": [
    "# Model"
   ]
  },
  {
   "cell_type": "code",
   "execution_count": 3,
   "metadata": {},
   "outputs": [
    {
     "name": "stdout",
     "output_type": "stream",
     "text": [
      "Train Mse: 289.3292825564976\n",
      "Test Mse: 405.1575364149965\n",
      "Train R2: 0.5770075250410179\n",
      "Test R2: 0.24170463640313256\n"
     ]
    }
   ],
   "source": [
    "# Model\n",
    "lm = LinearRegression()\n",
    "pcr_model = lm.fit(X_reduced_train, y_train)\n",
    "\n",
    "# Predict\n",
    "y_pred_train = pcr_model.predict(X_reduced_train)\n",
    "y_pred_test = pcr_model.predict(X_reduced_test)\n",
    "\n",
    "# Errors\n",
    "print(f\"Train Mse: {np.sqrt(mean_squared_error(y_train, y_pred_train))}\\n\"\n",
    "      f\"Test Mse: {np.sqrt(mean_squared_error(y_test, y_pred_test))}\\n\"\n",
    "      f\"Train R2: {r2_score(y_train, y_pred_train)}\\n\"\n",
    "      f\"Test R2: {r2_score(y_test, y_pred_test)}\")"
   ]
  },
  {
   "cell_type": "markdown",
   "metadata": {},
   "source": [
    "# Model Tuning"
   ]
  },
  {
   "cell_type": "code",
   "execution_count": 4,
   "metadata": {},
   "outputs": [
    {
     "data": {
      "image/png": "[encoded data removed]",
      "text/plain": [
       "<Figure size 432x288 with 1 Axes>"
      ]
     },
     "metadata": {
      "needs_background": "light"
     },
     "output_type": "display_data"
    }
   ],
   "source": [
    "# Cross Valudation\n",
    "cv_10 = model_selection.KFold(n_splits=10, shuffle=True, random_state=1)\n",
    "\n",
    "# Loop for calculate errors\n",
    "lm = LinearRegression()\n",
    "RMSE = []\n",
    "for i in range(1,X_reduced_train.shape[1]+1):\n",
    "    score = np.sqrt(-1*model_selection.cross_val_score(lm,\n",
    "                                                     X_reduced_train[:,:i],\n",
    "                                                     y_train.ravel(),\n",
    "                                                     cv=cv_10,\n",
    "                                                     scoring='neg_mean_squared_error').mean())\n",
    "    RMSE.append(score)\n",
    "\n",
    "\n",
    "plt.plot(RMSE, '-v')\n",
    "plt.xlabel('Bilesen Sayisi')\n",
    "plt.ylabel('RMSE')\n",
    "plt.title('Tuning');"
   ]
  },
  {
   "cell_type": "markdown",
   "metadata": {},
   "source": [
    "6"
   ]
  },
  {
   "cell_type": "markdown",
   "metadata": {},
   "source": [
    "# Final Model"
   ]
  },
  {
   "cell_type": "code",
   "execution_count": 5,
   "metadata": {},
   "outputs": [
    {
     "name": "stdout",
     "output_type": "stream",
     "text": [
      "Train R2 Error Mean: 308.8265983094501\n",
      "Test R2 Error Mean: 393.1198700096223\n"
     ]
    }
   ],
   "source": [
    "# New Model\n",
    "lm = LinearRegression()\n",
    "pcr_model = lm.fit(X_reduced_train[:,0:6], y_train)\n",
    "\n",
    "# Predict\n",
    "y_pred_train = pcr_model.predict(X_reduced_train[:,0:6])\n",
    "y_pred_test = pcr_model.predict(X_reduced_test[:,0:6])\n",
    "\n",
    "# Errors\n",
    "print(f\"Train R2 Error Mean: {np.sqrt(mean_squared_error(y_train, y_pred_train))}\")\n",
    "print(f\"Test R2 Error Mean: {np.sqrt(mean_squared_error(y_test, y_pred_test))}\")"
   ]
  }
 ],
 "metadata": {
  "interpreter": {
   "hash": "3079d289965526a5670b083c2e31f1fa7e5a3c5f280ce501604a1ddbcd6b6c1d"
  },
  "kernelspec": {
   "display_name": "Python 3.8.8 64-bit ('base': conda)",
   "language": "python",
   "name": "python3"
  },
  "language_info": {
   "codemirror_mode": {
    "name": "ipython",
    "version": 3
   },
   "file_extension": ".py",
   "mimetype": "text/x-python",
   "name": "python",
   "nbconvert_exporter": "python",
   "pygments_lexer": "ipython3",
   "version": "3.8.8"
  },
  "orig_nbformat": 4
 },
 "nbformat": 4,
 "nbformat_minor": 2
}
