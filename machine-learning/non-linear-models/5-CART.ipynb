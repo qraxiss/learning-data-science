{
 "cells": [
  {
   "cell_type": "code",
   "execution_count": 30,
   "metadata": {},
   "outputs": [],
   "source": [
    "import numpy as np\n",
    "import pandas as pd \n",
    "from sklearn.model_selection import train_test_split, GridSearchCV,cross_val_score\n",
    "from sklearn.metrics import mean_squared_error, r2_score\n",
    "import matplotlib.pyplot as plt\n",
    "from sklearn.preprocessing import scale \n",
    "from sklearn import model_selection\n",
    "from sklearn.tree import DecisionTreeRegressor, DecisionTreeClassifier\n",
    "from sklearn.neighbors import KNeighborsRegressor\n",
    "from sklearn.ensemble import BaggingRegressor\n",
    "from sklearn.model_selection import GridSearchCV\n",
    "from sklearn.svm import SVR\n",
    "from skompiler import skompile\n",
    "from warnings import filterwarnings\n",
    "filterwarnings('ignore')"
   ]
  },
  {
   "cell_type": "markdown",
   "metadata": {},
   "source": [
    "# Prepare"
   ]
  },
  {
   "cell_type": "code",
   "execution_count": 53,
   "metadata": {},
   "outputs": [],
   "source": [
    "# Data\n",
    "df = pd.read_csv(\"../datas/Hitters.csv\")\n",
    "df = df.dropna()\n",
    "\n",
    "# Dummie\n",
    "dms = pd.get_dummies(df[['League', 'Division', 'NewLeague']])\n",
    "y = df[\"Salary\"]\n",
    "X = df.drop(['Salary', 'League', 'Division', 'NewLeague'], axis=1)\n",
    "X = pd.concat([X, dms[[\"League_N\", \"Division_W\", \"NewLeague_N\"]]], axis=1)\n",
    "\n",
    "# Test Train\n",
    "X_train, X_test, y_train, y_test = train_test_split(X, y, test_size = 0.25, random_state=42)"
   ]
  },
  {
   "cell_type": "markdown",
   "metadata": {},
   "source": [
    "# Model"
   ]
  },
  {
   "cell_type": "code",
   "execution_count": 48,
   "metadata": {},
   "outputs": [
    {
     "data": {
      "text/plain": [
       "465.8273358944115"
      ]
     },
     "execution_count": 48,
     "metadata": {},
     "output_type": "execute_result"
    }
   ],
   "source": [
    "cart_model = DecisionTreeRegressor().fit(X_train, y_train)\n",
    "y_pred = cart_model.predict(X_test)\n",
    "np.sqrt(mean_squared_error(y_test, y_pred))"
   ]
  },
  {
   "cell_type": "code",
   "execution_count": 39,
   "metadata": {},
   "outputs": [],
   "source": [
    "a=(skompile(cart_model.predict).to('python/code'))"
   ]
  },
  {
   "cell_type": "code",
   "execution_count": 34,
   "metadata": {},
   "outputs": [
    {
     "name": "stdout",
     "output_type": "stream",
     "text": [
      "920.0\n",
      "500.0\n",
      "215.55566666666664\n",
      "650.0\n",
      "500.0\n"
     ]
    }
   ],
   "source": [
    "x = [12,32,43,65,32]\n",
    "for i in range(len(x)):\n",
    "    print((920.0 if x[i] <= 18.0 else ((500.0 if x[i] <= 34.5 else (70.0 if x[i] <= \n",
    "        38.0 else 175.0) if x[i] <= 39.5 else 90.0 if x[i] <= 40.5 else 67.5) if\n",
    "        x[i] <= 41.5 else 900.0 if x[i] <= 42.5 else (((((215.55566666666664 if\n",
    "        x[i] <= 44.5 else 180.0) if x[i] <= 46.5 else 347.5 if x[i] <= 48.0 else\n",
    "        337.5) if x[i] <= 50.0 else 70.0) if x[i] <= 51.5 else 507.5) if x[i] <=\n",
    "        52.5 else 150.0 if x[i] <= 53.5 else 146.83333333333334) if x[i] <= \n",
    "        54.5 else 1300.0 if x[i] <= 55.5 else (170.0 if x[i] <= 56.5 else \n",
    "        193.75) if x[i] <= 57.5 else ((((((340.0 if x[i] <= 59.0 else 418.5) if\n",
    "        x[i] <= 60.5 else 235.0 if x[i] <= 62.0 else 341.667) if x[i] <= 63.5 else\n",
    "        75.0) if x[i] <= 64.5 else 650.0) if x[i] <= 65.5 else 170.0 if x[i] <=\n",
    "        67.0 else 228.66666666666666) if x[i] <= 69.0 else 472.5) if x[i] <= \n",
    "        70.5 else (100.0 if x[i] <= 71.5 else 130.0) if x[i] <= 72.5 else \n",
    "        409.1665 if x[i] <= 74.5 else 215.0) if x[i] <= 76.5 else (((505.0 if x\n",
    "        [i] <= 77.5 else ((((328.88899999999995 if x[i] <= 79.0 else 700.0) if \n",
    "        x[i] <= 80.5 else 348.75 if x[i] <= 81.5 else 267.5) if x[i] <= 82.5 else\n",
    "        600.0 if x[i] <= 83.5 else 600.0) if x[i] <= 84.5 else (331.25 if x[i] <=\n",
    "        85.5 else (180.0 if x[i] <= 86.5 else 91.5) if x[i] <= 88.5 else 450.0 if\n",
    "        x[i] <= 90.5 else 125.0) if x[i] <= 91.5 else 411.25 if x[i] <= 92.5 else\n",
    "        250.0) if x[i] <= 93.5 else 670.0 if x[i] <= 94.5 else ((100.0 if x[i] <=\n",
    "        95.5 else 504.1665) if x[i] <= 96.5 else 210.0 if x[i] <= 98.0 else \n",
    "        87.5) if x[i] <= 100.0 else 466.0) if x[i] <= 101.5 else 247.5 if x[i] <=\n",
    "        102.5 else 257.3334) if x[i] <= 103.5 else (750.0 if x[i] <= 105.0 else\n",
    "        850.0) if x[i] <= 107.0 else 162.5 if x[i] <= 109.0 else (560.0 if x[i] <=\n",
    "        111.0 else 442.5 if x[i] <= 112.5 else 487.5) if x[i] <= 114.0 else \n",
    "        300.0) if x[i] <= 116.0 else 110.0) if x[i] <= 117.5 else ((((1300.0 if\n",
    "        x[i] <= 118.5 else 773.3333333333334 if x[i] <= 120.5 else 442.5) if x[\n",
    "        0] <= 122.5 else 1240.0 if x[i] <= 124.0 else 1925.571) if x[i] <= \n",
    "        125.5 else (561.25 if x[i] <= 126.5 else (695.2776666666667 if x[i] <= \n",
    "        127.5 else 1043.75) if x[i] <= 128.5 else (750.0 if x[i] <= 129.5 else \n",
    "        480.0) if x[i] <= 130.5 else 726.6666666666666) if x[i] <= 131.5 else (\n",
    "        ((611.6665 if x[i] <= 133.5 else 461.0) if x[i] <= 135.5 else 725.0) if\n",
    "        x[i] <= 137.0 else 152.5 if x[i] <= 138.5 else 555.0 if x[i] <= 139.5 else\n",
    "        200.0) if x[i] <= 140.5 else 712.5 if x[i] <= 141.5 else 777.5) if x[i] <=\n",
    "        143.0 else (((1021.6666666666666 if x[i] <= 144.5 else 500.0 if x[i] <=\n",
    "        145.5 else 815.0) if x[i] <= 146.5 else 1230.0 if x[i] <= 148.0 else \n",
    "        787.5 if x[i] <= 149.5 else 1000.0) if x[i] <= 150.5 else 2460.0) if x[\n",
    "        0] <= 151.5 else (451.6666666666667 if x[i] <= 153.0 else 580.0 if x[i] <=\n",
    "        155.5 else 530.0) if x[i] <= 157.5 else (((((775.0 if x[i] <= 158.5 else\n",
    "        759.1665) if x[i] <= 159.5 else 1670.0 if x[i] <= 161.5 else 923.0 if x\n",
    "        [i] <= 165.5 else 863.0556666666666) if x[i] <= 168.5 else \n",
    "        743.3333333333334) if x[i] <= 169.5 else 1118.75 if x[i] <= 170.5 else \n",
    "        1350.0) if x[i] <= 171.5 else 165.0 if x[i] <= 173.0 else (849.3335 if \n",
    "        x[i] <= 175.5 else 1350.0) if x[i] <= 177.5 else (740.0 if x[i] <= \n",
    "        178.5 else 575.0 if x[i] <= 181.5 else 630.0) if x[i] <= 185.0 else \n",
    "        1300.0 if x[i] <= 198.5 else 740.0) if x[i] <= 212.0 else 350.0) if x[i] \n",
    "        <= 225.5 else 1975.0)"
   ]
  },
  {
   "cell_type": "markdown",
   "metadata": {},
   "source": [
    "# Model Tuning"
   ]
  },
  {
   "cell_type": "code",
   "execution_count": 49,
   "metadata": {},
   "outputs": [],
   "source": [
    "cart_params = {\"min_samples_split\": range(2,100),\n",
    "               \"max_leaf_nodes\": range(2,10) }\n",
    "\n",
    "cart_cv_model =  GridSearchCV(cart_model, cart_params, cv=10).fit(X_train, y_train)"
   ]
  },
  {
   "cell_type": "code",
   "execution_count": 50,
   "metadata": {},
   "outputs": [
    {
     "data": {
      "text/plain": [
       "{'max_leaf_nodes': 9, 'min_samples_split': 37}"
      ]
     },
     "execution_count": 50,
     "metadata": {},
     "output_type": "execute_result"
    }
   ],
   "source": [
    "cart_cv_model.best_params_"
   ]
  },
  {
   "cell_type": "code",
   "execution_count": 51,
   "metadata": {},
   "outputs": [],
   "source": [
    "cart_tuned = DecisionTreeRegressor(max_leaf_nodes=9, min_samples_split=37).fit(X_train, y_train)"
   ]
  },
  {
   "cell_type": "code",
   "execution_count": 52,
   "metadata": {},
   "outputs": [
    {
     "data": {
      "text/plain": [
       "376.3978820710986"
      ]
     },
     "execution_count": 52,
     "metadata": {},
     "output_type": "execute_result"
    }
   ],
   "source": [
    "y_pred = cart_tuned.predict(X_test)\n",
    "np.sqrt(mean_squared_error(y_test, y_pred))"
   ]
  },
  {
   "cell_type": "code",
   "execution_count": null,
   "metadata": {},
   "outputs": [],
   "source": []
  }
 ],
 "metadata": {
  "interpreter": {
   "hash": "3079d289965526a5670b083c2e31f1fa7e5a3c5f280ce501604a1ddbcd6b6c1d"
  },
  "kernelspec": {
   "display_name": "Python 3.8.8 64-bit ('base': conda)",
   "language": "python",
   "name": "python3"
  },
  "language_info": {
   "codemirror_mode": {
    "name": "ipython",
    "version": 3
   },
   "file_extension": ".py",
   "mimetype": "text/x-python",
   "name": "python",
   "nbconvert_exporter": "python",
   "pygments_lexer": "ipython3",
   "version": "3.8.8"
  },
  "orig_nbformat": 4
 },
 "nbformat": 4,
 "nbformat_minor": 2
}
