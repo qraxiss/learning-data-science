{
 "cells": [
  {
   "cell_type": "code",
   "execution_count": 26,
   "metadata": {},
   "outputs": [],
   "source": [
    "import pandas as pd\n",
    "import numpy as np\n",
    "from sklearn.metrics import mean_squared_error, r2_score\n",
    "import matplotlib.pyplot as plt\n",
    "from sklearn .model_selection import train_test_split\n",
    "from sklearn.linear_model import LinearRegression, Ridge, RidgeCV"
   ]
  },
  {
   "cell_type": "markdown",
   "metadata": {},
   "source": [
    "# Prepare"
   ]
  },
  {
   "cell_type": "code",
   "execution_count": 3,
   "metadata": {},
   "outputs": [],
   "source": [
    "# Data\n",
    "df = pd.read_csv(\"../datas/Hitters.csv\")\n",
    "df = df.dropna()\n",
    "df.head(3)\n",
    "\n",
    "# Dummie\n",
    "dms = pd.get_dummies(df[['League', 'Division', 'NewLeague']])\n",
    "y = df[\"Salary\"]\n",
    "X = df.drop(['Salary', 'League', 'Division', 'NewLeague'], axis=1)\n",
    "X = pd.concat([X, dms[[\"League_N\", \"Division_W\", \"NewLeague_N\"]]], axis=1)\n",
    "\n",
    "# Test Train\n",
    "X_train, X_test, y_train, y_test = train_test_split(X, y, test_size = 0.25, random_state=42)"
   ]
  },
  {
   "cell_type": "markdown",
   "metadata": {},
   "source": [
    "# Model"
   ]
  },
  {
   "cell_type": "code",
   "execution_count": 21,
   "metadata": {},
   "outputs": [
    {
     "data": {
      "image/png": "[encoded data removed]",
      "text/plain": [
       "<Figure size 432x288 with 1 Axes>"
      ]
     },
     "metadata": {
      "needs_background": "light"
     },
     "output_type": "display_data"
    }
   ],
   "source": [
    "lambdas = 10**np.linspace(10,-2,100)*0.5\n",
    "factors = []\n",
    "\n",
    "for i in lambdas:\n",
    "    ridge_model = Ridge(alpha=i).fit(X_train, y_train)\n",
    "    factors.append(ridge_model.coef_)\n",
    "\n",
    "ax = plt.gca()\n",
    "ax.plot(lambdas, factors)\n",
    "ax.set_xscale('log')\n",
    "\n",
    "plt.xlabel('Lamba')\n",
    "plt.ylabel('Factors')\n",
    "plt.title('Ridge');"
   ]
  },
  {
   "cell_type": "markdown",
   "metadata": {},
   "source": [
    "# Predict"
   ]
  },
  {
   "cell_type": "code",
   "execution_count": 24,
   "metadata": {},
   "outputs": [
    {
     "name": "stdout",
     "output_type": "stream",
     "text": [
      "R2 Score: 0.6411587092965059\n",
      "MSE Score: 357.0517922282843\n"
     ]
    }
   ],
   "source": [
    "y_pred_test = ridge_model.predict(X_test)\n",
    "print(f\"R2 Score: {np.sqrt(r2_score(y_test, y_pred_test))}\\n\"\n",
    "      f\"MSE Score: {np.sqrt(mean_squared_error(y_test, y_pred_test))}\")"
   ]
  },
  {
   "cell_type": "markdown",
   "metadata": {},
   "source": [
    "# Model Tuning "
   ]
  },
  {
   "cell_type": "code",
   "execution_count": 44,
   "metadata": {},
   "outputs": [
    {
     "name": "stdout",
     "output_type": "stream",
     "text": [
      "Optimized Alpha: 0.7599555414764666\n",
      "R2 Score: 0.5561325091145405\n",
      "MSE Score: 386.6826429756415\n"
     ]
    }
   ],
   "source": [
    "ridge_cv = RidgeCV(alphas = lambdas, \n",
    "                      scoring = \"neg_mean_squared_error\", \n",
    "                      normalize=True).fit(X_train, y_train)\n",
    "print(\"Optimized Alpha:\",ridge_cv.alpha_)\n",
    "\n",
    "ridge_tuned =  Ridge(alpha=ridge_cv.alpha_, normalize=True).fit(X_train, y_train)\n",
    "\n",
    "print(f\"R2 Score: {np.sqrt(r2_score(y_test, ridge_tuned.predict(X_test)))}\\n\"\n",
    "      f\"MSE Score: {np.sqrt(mean_squared_error(y_test, ridge_tuned.predict(X_test)))}\")"
   ]
  }
 ],
 "metadata": {
  "interpreter": {
   "hash": "3079d289965526a5670b083c2e31f1fa7e5a3c5f280ce501604a1ddbcd6b6c1d"
  },
  "kernelspec": {
   "display_name": "Python 3.8.8 64-bit ('base': conda)",
   "language": "python",
   "name": "python3"
  },
  "language_info": {
   "codemirror_mode": {
    "name": "ipython",
    "version": 3
   },
   "file_extension": ".py",
   "mimetype": "text/x-python",
   "name": "python",
   "nbconvert_exporter": "python",
   "pygments_lexer": "ipython3",
   "version": "3.8.8"
  },
  "orig_nbformat": 4
 },
 "nbformat": 4,
 "nbformat_minor": 2
}
