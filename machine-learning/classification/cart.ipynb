{
  "nbformat": 4,
  "nbformat_minor": 0,
  "metadata": {
    "colab": {
      "name": "Lojistik Regresyon.ipynb",
      "provenance": [],
      "collapsed_sections": [],
      "authorship_tag": "ABX9TyPU8cxqY3YMftxDqnJ9iEzT",
      "include_colab_link": true
    },
    "kernelspec": {
      "name": "python3",
      "display_name": "Python 3"
    },
    "language_info": {
      "name": "python"
    }
  },
  "cells": [
    {
      "cell_type": "markdown",
      "metadata": {
        "id": "view-in-github",
        "colab_type": "text"
      },
      "source": [
        "<a href=\"https://colab.research.google.com/github/qraxiss/learning-data-science/blob/main/machine-learning/classification/cart.ipynb\" target=\"_parent\"><img src=\"https://colab.research.google.com/assets/colab-badge.svg\" alt=\"Open In Colab\"/></a>"
      ]
    },
    {
      "cell_type": "markdown",
      "source": [
        "# Data & Libs"
      ],
      "metadata": {
        "id": "w4oYWyu2_UbM"
      }
    },
    {
      "cell_type": "code",
      "source": [
        "!pip install skompiler"
      ],
      "metadata": {
        "id": "uaY_54Zf7cON"
      },
      "execution_count": null,
      "outputs": []
    },
    {
      "cell_type": "code",
      "source": [
        "# Libs\n",
        "import numpy as np\n",
        "import pandas as pd \n",
        "from sklearn.model_selection import train_test_split, cross_val_score, GridSearchCV\n",
        "from sklearn.metrics import confusion_matrix, accuracy_score, classification_report\n",
        "from sklearn.metrics import roc_auc_score,roc_curve\n",
        "import matplotlib.pyplot as plt\n",
        "from sklearn.tree import DecisionTreeClassifier\n",
        "from google.colab import drive\n",
        "from skompiler import skompile\n",
        "from warnings import filterwarnings\n",
        "filterwarnings('ignore')\n",
        "\n",
        "# Data\n",
        "drive.mount('/content/gdrive')\n",
        "df = pd.read_csv(\"/content/gdrive/MyDrive/Colab Notebooks/learning-data-science-main/machine-learning/datas/diabetes.csv\")\n",
        "df = df.dropna()\n",
        "df.index = np.arange(df.shape[0])\n",
        "\n",
        "# X&y\n",
        "y = df[\"Outcome\"]\n",
        "X = df.drop([\"Outcome\"], axis=1)\n",
        "\n",
        "# Test Train\n",
        "X_train, X_test, y_train, y_test = train_test_split(X, y, test_size = 0.30, random_state=31)"
      ],
      "metadata": {
        "id": "dZ25M-qc9ZrU",
        "colab": {
          "base_uri": "https://localhost:8080/"
        },
        "outputId": "2666cb81-afb6-4ba1-b82e-d850a30a3720"
      },
      "execution_count": 7,
      "outputs": [
        {
          "output_type": "stream",
          "name": "stdout",
          "text": [
            "Drive already mounted at /content/gdrive; to attempt to forcibly remount, call drive.mount(\"/content/gdrive\", force_remount=True).\n"
          ]
        }
      ]
    },
    {
      "cell_type": "markdown",
      "source": [
        "# Model"
      ],
      "metadata": {
        "id": "ksdKpa-v_Vkq"
      }
    },
    {
      "cell_type": "code",
      "source": [
        "cart_model = DecisionTreeClassifier().fit(X_train, y_train)"
      ],
      "metadata": {
        "id": "9qgcaMxn_Yry"
      },
      "execution_count": 9,
      "outputs": []
    },
    {
      "cell_type": "markdown",
      "source": [
        "# Predict"
      ],
      "metadata": {
        "id": "2_ExYe1f_1Us"
      }
    },
    {
      "cell_type": "code",
      "source": [
        "print(\"Basic Accuracy Score\",accuracy_score(y_test, cart_model.predict(X_test)))\n",
        "print(\"CV Accuracy Score\",cross_val_score(cart_model,\n",
        "                                          X_test, \n",
        "                                          y_test, \n",
        "                                          cv=10).mean())"
      ],
      "metadata": {
        "colab": {
          "base_uri": "https://localhost:8080/"
        },
        "id": "2SE1Fde_eKi-",
        "outputId": "bf57f789-f25a-4a41-dcc0-c289b480fa31"
      },
      "execution_count": 10,
      "outputs": [
        {
          "output_type": "stream",
          "name": "stdout",
          "text": [
            "Basic Accuracy Score 0.683982683982684\n",
            "CV Accuracy Score 0.718659420289855\n"
          ]
        }
      ]
    },
    {
      "cell_type": "markdown",
      "source": [
        "# Python Code"
      ],
      "metadata": {
        "id": "WubKlOYf70Wl"
      }
    },
    {
      "cell_type": "code",
      "source": [
        "print(skompile(cart_model.predict).to(\"python/code\"))"
      ],
      "metadata": {
        "id": "aN8omiyD72RF"
      },
      "execution_count": null,
      "outputs": []
    },
    {
      "cell_type": "markdown",
      "source": [
        "# Model Tuning"
      ],
      "metadata": {
        "id": "qJdPA5QviKN7"
      }
    },
    {
      "cell_type": "code",
      "source": [
        "cart_grid = {\"max_depth\": range(1,10),\n",
        "            \"min_samples_split\" : list(range(2,50)) }\n",
        "\n",
        "cart = DecisionTreeClassifier()\n",
        "cart_cv = GridSearchCV(cart, cart_grid, cv = 3, n_jobs = -1, verbose = 2)\n",
        "cart_cv_model = cart_cv.fit(X_train, y_train)"
      ],
      "metadata": {
        "colab": {
          "base_uri": "https://localhost:8080/"
        },
        "id": "YwpW0KibiOY6",
        "outputId": "cd30bc6e-20b6-42b8-ea66-2ea00babf1c8"
      },
      "execution_count": 17,
      "outputs": [
        {
          "output_type": "stream",
          "name": "stdout",
          "text": [
            "Fitting 3 folds for each of 432 candidates, totalling 1296 fits\n"
          ]
        }
      ]
    },
    {
      "cell_type": "code",
      "source": [
        "print(\"En iyi skor:\" + str(cart_cv_model.best_score_))\n",
        "print(\"En iyi parametreler: \" + str(cart_cv_model.best_params_))\n",
        "params = pd.Series(cart_cv_model.best_params_)"
      ],
      "metadata": {
        "colab": {
          "base_uri": "https://localhost:8080/"
        },
        "id": "LB8yIVaFiZSK",
        "outputId": "bbadfe9c-360c-42b7-8bb2-41d9b125149c"
      },
      "execution_count": 18,
      "outputs": [
        {
          "output_type": "stream",
          "name": "stdout",
          "text": [
            "En iyi skor:0.7728119180633147\n",
            "En iyi parametreler: {'max_depth': 5, 'min_samples_split': 48}\n"
          ]
        }
      ]
    },
    {
      "cell_type": "markdown",
      "source": [
        "## Tuned Model"
      ],
      "metadata": {
        "id": "ZFBjYB9EilAI"
      }
    },
    {
      "cell_type": "code",
      "source": [
        "cart = DecisionTreeClassifier(max_depth = params[0], min_samples_split = params[1])\n",
        "cart_tuned = cart.fit(X_train, y_train) "
      ],
      "metadata": {
        "id": "FdmezHKKimdO"
      },
      "execution_count": 20,
      "outputs": []
    },
    {
      "cell_type": "code",
      "source": [
        "print(\"Basic Accuracy Score\",accuracy_score(y_test, cart_tuned.predict(X_test)))\n",
        "print(\"CV Accuracy Score\",cross_val_score(cart_tuned,\n",
        "                                          X_test, \n",
        "                                          y_test, \n",
        "                                          cv=10).mean())"
      ],
      "metadata": {
        "colab": {
          "base_uri": "https://localhost:8080/"
        },
        "id": "_GqIvAyXjCGh",
        "outputId": "afa23626-4d69-44d2-e101-b4d1a2002069"
      },
      "execution_count": 23,
      "outputs": [
        {
          "output_type": "stream",
          "name": "stdout",
          "text": [
            "Basic Accuracy Score 0.7142857142857143\n",
            "CV Accuracy Score 0.7007246376811593\n"
          ]
        }
      ]
    },
    {
      "cell_type": "code",
      "source": [
        "# Yüzdesel Oranlar\n",
        "y_probs = pd.DataFrame(cart_tuned.predict_proba(X_test))\n",
        "max = []\n",
        "for j in np.arange(0,1,0.01):\n",
        "  y_pred = np.array([1 if i > j else 0 for i in list(y_probs[1])])\n",
        "  max.append([j ,accuracy_score(y_test, y_pred)])\n",
        "\n",
        "max = np.array(max)\n",
        "\n",
        "# Plot\n",
        "import seaborn as sns\n",
        "sns.lineplot(y=max[:,1], x=max[:,0])"
      ],
      "metadata": {
        "colab": {
          "base_uri": "https://localhost:8080/",
          "height": 282
        },
        "id": "4DiXsqfEB6tQ",
        "outputId": "77dd6c06-bdcd-4f00-db7d-5e3b1ceb269e"
      },
      "execution_count": 24,
      "outputs": [
        {
          "output_type": "execute_result",
          "data": {
            "text/plain": [
              "<matplotlib.axes._subplots.AxesSubplot at 0x7f8a51959590>"
            ]
          },
          "metadata": {},
          "execution_count": 24
        },
        {
          "output_type": "display_data",
          "data": {
            "image/png": "[encoded data removed]",
            "text/plain": [
              "<Figure size 432x288 with 1 Axes>"
            ]
          },
          "metadata": {
            "needs_background": "light"
          }
        }
      ]
    },
    {
      "cell_type": "markdown",
      "source": [
        "# Plot"
      ],
      "metadata": {
        "id": "UA68TYhdaAld"
      }
    },
    {
      "cell_type": "code",
      "source": [
        "logit_roc_auc = roc_auc_score(y_test, cart_tuned.predict(X_test))\n",
        "\n",
        "fpr, tpr, thresholds = roc_curve(y_test, cart_tuned.predict_proba(X_test)[:,1])\n",
        "plt.figure()\n",
        "plt.plot(fpr, tpr, label='AUC (area = %0.2f)' % logit_roc_auc)\n",
        "plt.plot([0, 1], [0, 1],'r--')\n",
        "plt.xlim([0.0, 1.0])\n",
        "plt.ylim([0.0, 1.05])\n",
        "plt.xlabel('False Positive Oranı')\n",
        "plt.ylabel('True Positive Oranı')\n",
        "plt.title('ROC')\n",
        "plt.show()"
      ],
      "metadata": {
        "colab": {
          "base_uri": "https://localhost:8080/",
          "height": 295
        },
        "id": "5WzkYHvgb44g",
        "outputId": "368fb512-4002-4883-825a-96b452c2e0d5"
      },
      "execution_count": 25,
      "outputs": [
        {
          "output_type": "display_data",
          "data": {
            "image/png": "[encoded data removed]",
            "text/plain": [
              "<Figure size 432x288 with 1 Axes>"
            ]
          },
          "metadata": {
            "needs_background": "light"
          }
        }
      ]
    },
    {
      "cell_type": "code",
      "source": [
        ""
      ],
      "metadata": {
        "id": "66JkI6dZ6iVt"
      },
      "execution_count": null,
      "outputs": []
    }
  ]
}