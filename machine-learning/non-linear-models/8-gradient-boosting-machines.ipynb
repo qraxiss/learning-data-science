{
  "cells": [
    {
      "cell_type": "code",
      "execution_count": 11,
      "metadata": {
        "id": "3ljygJZqa8YA"
      },
      "outputs": [],
      "source": [
        "# Model\n",
        "from sklearn.model_selection import GridSearchCV\n",
        "from sklearn.metrics import mean_squared_error\n",
        "from sklearn.ensemble import GradientBoostingRegressor\n",
        "\n",
        "# Plot\n",
        "import matplotlib.pyplot as plt\n",
        "\n",
        "# Datas\n",
        "from sklearn.model_selection import train_test_split\n",
        "from google.colab import drive\n",
        "import pandas as pd \n",
        "import numpy as np\n"
      ]
    },
    {
      "cell_type": "markdown",
      "metadata": {
        "id": "2aDs9Z1Aa8YD"
      },
      "source": [
        "# Prepare"
      ]
    },
    {
      "cell_type": "code",
      "execution_count": 12,
      "metadata": {
        "colab": {
          "base_uri": "https://localhost:8080/"
        },
        "id": "KCCY_tCca8YF",
        "outputId": "5ceafd7a-6c65-42ff-c34d-f206725ee945"
      },
      "outputs": [
        {
          "output_type": "stream",
          "name": "stdout",
          "text": [
            "Drive already mounted at /content/gdrive; to attempt to forcibly remount, call drive.mount(\"/content/gdrive\", force_remount=True).\n"
          ]
        }
      ],
      "source": [
        "# Data\n",
        "drive.mount('/content/gdrive')\n",
        "df = pd.read_csv(\"/content/gdrive/MyDrive/Colab Notebooks/learning-data-science-main/machine-learning/datas/Hitters.csv\")\n",
        "df = df.dropna()\n",
        "\n",
        "# Dummie\n",
        "dms = pd.get_dummies(df[['League', 'Division', 'NewLeague']])\n",
        "y = df[\"Salary\"]\n",
        "X = df.drop(['Salary', 'League', 'Division', 'NewLeague'], axis=1)\n",
        "X = pd.concat([X, dms[[\"League_N\", \"Division_W\", \"NewLeague_N\"]]], axis=1)\n",
        "\n",
        "# Test Train\n",
        "X_train, X_test, y_train, y_test = train_test_split(X, y, test_size = 0.25, random_state=42)"
      ]
    },
    {
      "cell_type": "markdown",
      "metadata": {
        "id": "Zt5oJJr5a8YG"
      },
      "source": [
        "# Model"
      ]
    },
    {
      "cell_type": "code",
      "execution_count": 13,
      "metadata": {
        "id": "w1Nqxinha8YH"
      },
      "outputs": [],
      "source": [
        "gbm_model = GradientBoostingRegressor(random_state = 42).fit(X_train, y_train)"
      ]
    },
    {
      "cell_type": "markdown",
      "metadata": {
        "id": "Da9izGR6a8YI"
      },
      "source": [
        "# Predict"
      ]
    },
    {
      "cell_type": "code",
      "execution_count": 14,
      "metadata": {
        "colab": {
          "base_uri": "https://localhost:8080/"
        },
        "id": "GRJXAV39a8YI",
        "outputId": "5eabb21c-e6b6-4b6f-e5ff-39136eebf692"
      },
      "outputs": [
        {
          "output_type": "execute_result",
          "data": {
            "text/plain": [
              "355.2571883779714"
            ]
          },
          "metadata": {},
          "execution_count": 14
        }
      ],
      "source": [
        "y_pred = gbm_model.predict(X_test)\n",
        "np.sqrt(mean_squared_error(y_test, y_pred))"
      ]
    },
    {
      "cell_type": "markdown",
      "metadata": {
        "id": "hFypN247a8YK"
      },
      "source": [
        "# Model Tuning"
      ]
    },
    {
      "cell_type": "code",
      "execution_count": 15,
      "metadata": {
        "id": "PU5wHShda8YK"
      },
      "outputs": [],
      "source": [
        "gbm_params = {\"learning_rate\": [0.001, 0.01, 0.1, 0.2],\n",
        "             \"max_depth\": [3,5,8,50,100],\n",
        "             \"n_estimators\": [100, 200, 500],\n",
        "             \"subsample\": [1,0.5,0.75]}\n",
        "\n",
        "gmb_model = GradientBoostingRegressor(random_state=42)\n",
        "gbm_cv_model = GridSearchCV(gmb_model, gbm_params, cv=5, n_jobs = -1).fit(X_train, y_train)"
      ]
    },
    {
      "cell_type": "markdown",
      "metadata": {
        "id": "hdQxHFx0a8YL"
      },
      "source": [
        "### Tuned Model"
      ]
    },
    {
      "cell_type": "code",
      "execution_count": 23,
      "metadata": {
        "colab": {
          "base_uri": "https://localhost:8080/"
        },
        "id": "8DK0fcyAa8YL",
        "outputId": "4aab2c1e-2edc-4ee3-ba74-b621a5a7a2ad"
      },
      "outputs": [
        {
          "output_type": "execute_result",
          "data": {
            "text/plain": [
              "330.00159519295244"
            ]
          },
          "metadata": {},
          "execution_count": 23
        }
      ],
      "source": [
        "params=pd.Series(gbm_cv_model.best_params_)\n",
        "gbm_tuned = GradientBoostingRegressor(random_state=42, learning_rate=params[0], max_depth=params[1], n_estimators=int(params[2]), subsample=params[3]).fit(X_train, y_train)\n",
        "y_pred = gbm_tuned.predict(X_test)\n",
        "np.sqrt(mean_squared_error(y_test, y_pred))"
      ]
    },
    {
      "cell_type": "code",
      "execution_count": 24,
      "metadata": {
        "colab": {
          "base_uri": "https://localhost:8080/",
          "height": 281
        },
        "id": "DjtNatuWa8YM",
        "outputId": "9e58f70f-7f16-49a4-e82d-8847bc6ecb21"
      },
      "outputs": [
        {
          "output_type": "display_data",
          "data": {
            "image/png": "[encoded data removed]",
            "text/plain": [
              "<Figure size 432x288 with 1 Axes>"
            ]
          },
          "metadata": {
            "needs_background": "light"
          }
        }
      ],
      "source": [
        "Importance = pd.DataFrame({\"Importance\": gbm_tuned.feature_importances_*1000},\n",
        "                         index = X_train.columns)\n",
        "Importance.sort_values(by = \"Importance\", \n",
        "                       axis = 0, \n",
        "                       ascending = True).plot(kind =\"barh\", color = \"r\")\n",
        "\n",
        "plt.xlabel(\"Değişken Önem Düzeyleri\");\n",
        "plt.ylabel(\"Değişkenler\");"
      ]
    },
    {
      "cell_type": "code",
      "execution_count": null,
      "metadata": {
        "id": "sUIKg_hTa8YM"
      },
      "outputs": [],
      "source": [
        ""
      ]
    }
  ],
  "metadata": {
    "interpreter": {
      "hash": "3079d289965526a5670b083c2e31f1fa7e5a3c5f280ce501604a1ddbcd6b6c1d"
    },
    "kernelspec": {
      "display_name": "Python 3.8.8 64-bit ('base': conda)",
      "language": "python",
      "name": "python3"
    },
    "language_info": {
      "codemirror_mode": {
        "name": "ipython",
        "version": 3
      },
      "file_extension": ".py",
      "mimetype": "text/x-python",
      "name": "python",
      "nbconvert_exporter": "python",
      "pygments_lexer": "ipython3",
      "version": "3.8.8"
    },
    "orig_nbformat": 4,
    "colab": {
      "name": "7-random-forest.ipynb",
      "provenance": []
    }
  },
  "nbformat": 4,
  "nbformat_minor": 0
}