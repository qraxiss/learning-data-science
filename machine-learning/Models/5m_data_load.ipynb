{
 "cells": [
  {
   "cell_type": "code",
   "execution_count": 7,
   "metadata": {},
   "outputs": [],
   "source": [
    "import datetime as dt\n",
    "import yfinance as yf\n",
    "import ta"
   ]
  },
  {
   "cell_type": "code",
   "execution_count": 8,
   "metadata": {},
   "outputs": [],
   "source": [
    "#BTD.D, ETH.D, DXY, CANDLE, RSI, BOLLINGER AVG., Next Candle, BTC/PARITE"
   ]
  },
  {
   "cell_type": "code",
   "execution_count": 9,
   "metadata": {},
   "outputs": [],
   "source": [
    "# Load Data\n",
    "\n",
    "exchangeBTC = 'BTC-USD'\n",
    "indicesDXY = 'DX-Y.NYB'\n",
    "\n",
    "start = dt.datetime(2021, 12, 1)\n",
    "end = dt.datetime(2022, 1, 1)\n",
    "\n",
    "btc, dxy = yf.Ticker(exchangeBTC), yf.Ticker(indicesDXY)\n",
    "\n",
    "\n",
    "data = btc.history(interval=\"5m\",start=start,end=end).drop([\"Dividends\", \"Stock Splits\"], axis=1)\n",
    "data['DXY'] = dxy.history(interval=\"5m\",start=start,end=end)[\"Close\"]\n",
    "data['RSI'] = ta.momentum.RSIIndicator(data['Close']).rsi()\n",
    "data['Bollinger'] = ta.volatility.bollinger_mavg(data['Close'])\n",
    "\n",
    "data = data[19:]"
   ]
  },
  {
   "cell_type": "code",
   "execution_count": 4,
   "metadata": {},
   "outputs": [],
   "source": [
    "#Index Esitleme\n",
    "\n",
    "start = dt.datetime(2021,12,1)\n",
    "end = dt.datetime(2022,1,2)\n",
    "\n",
    "NextCandle = btc.history(interval=\"5m\",start=start,end=end)[[\"Close\"]]\n",
    "NextCandle = NextCandle[20:8868]\n",
    "NextCandle.set_index(data.index, inplace=True)\n",
    "data[\"Next Day\"] = NextCandle[\"Close\"]"
   ]
  },
  {
   "cell_type": "code",
   "execution_count": 5,
   "metadata": {},
   "outputs": [
    {
     "data": {
      "text/plain": "                                   Open          High           Low  \\\nDatetime                                                              \n2021-11-30 22:35:00+00:00  57356.476562  57379.742188  57320.277344   \n2021-11-30 22:40:00+00:00  57338.656250  57367.007812  57268.773438   \n2021-11-30 22:45:00+00:00  57409.292969  57409.292969  57287.613281   \n2021-11-30 22:50:00+00:00  57217.937500  57321.019531  57217.937500   \n2021-11-30 22:55:00+00:00  57312.058594  57335.792969  57296.972656   \n...                                 ...           ...           ...   \n2021-12-31 20:35:00+00:00  46071.226562  46071.226562  46011.390625   \n2021-12-31 20:40:00+00:00  46040.875000  46040.875000  45981.453125   \n2021-12-31 20:45:00+00:00  46016.601562  46016.601562  45989.558594   \n2021-12-31 20:50:00+00:00  46010.656250  46010.656250  45971.246094   \n2021-12-31 20:55:00+00:00  45991.742188  46005.335938  45990.980469   \n\n                                  Close     Volume        DXY        RSI  \\\nDatetime                                                                   \n2021-11-30 22:35:00+00:00  57320.277344          0  95.899002  45.341769   \n2021-11-30 22:40:00+00:00  57367.007812          0  95.900002  47.975869   \n2021-11-30 22:45:00+00:00  57287.613281          0  95.906998  44.088324   \n2021-11-30 22:50:00+00:00  57309.859375          0  95.912003  45.422803   \n2021-11-30 22:55:00+00:00  57296.972656          0  95.913002  44.756399   \n...                                 ...        ...        ...        ...   \n2021-12-31 20:35:00+00:00  46022.531250    4165632  95.595001  31.705549   \n2021-12-31 20:40:00+00:00  45981.453125   12091392  95.584000  30.360325   \n2021-12-31 20:45:00+00:00  46008.539062          0  95.588997  32.397099   \n2021-12-31 20:50:00+00:00  45982.441406  132796416  95.600998  31.442874   \n2021-12-31 20:55:00+00:00  46005.335938          0  95.646004  33.298935   \n\n                              Bollinger      Next Day  \nDatetime                                               \n2021-11-30 22:35:00+00:00  57350.560156  57367.007812  \n2021-11-30 22:40:00+00:00  57335.338672  57287.613281  \n2021-11-30 22:45:00+00:00  57320.089258  57309.859375  \n2021-11-30 22:50:00+00:00  57303.152734  57296.972656  \n2021-11-30 22:55:00+00:00  57286.494922  57304.253906  \n...                                 ...           ...  \n2021-12-31 20:35:00+00:00  46203.396289  45981.453125  \n2021-12-31 20:40:00+00:00  46167.058984  46008.539062  \n2021-12-31 20:45:00+00:00  46133.319141  45982.441406  \n2021-12-31 20:50:00+00:00  46106.973633  46005.335938  \n2021-12-31 20:55:00+00:00  46082.566406  46060.488281  \n\n[8848 rows x 9 columns]",
      "text/html": "<div>\n<style scoped>\n    .dataframe tbody tr th:only-of-type {\n        vertical-align: middle;\n    }\n\n    .dataframe tbody tr th {\n        vertical-align: top;\n    }\n\n    .dataframe thead th {\n        text-align: right;\n    }\n</style>\n<table border=\"1\" class=\"dataframe\">\n  <thead>\n    <tr style=\"text-align: right;\">\n      <th></th>\n      <th>Open</th>\n      <th>High</th>\n      <th>Low</th>\n      <th>Close</th>\n      <th>Volume</th>\n      <th>DXY</th>\n      <th>RSI</th>\n      <th>Bollinger</th>\n      <th>Next Day</th>\n    </tr>\n    <tr>\n      <th>Datetime</th>\n      <th></th>\n      <th></th>\n      <th></th>\n      <th></th>\n      <th></th>\n      <th></th>\n      <th></th>\n      <th></th>\n      <th></th>\n    </tr>\n  </thead>\n  <tbody>\n    <tr>\n      <th>2021-11-30 22:35:00+00:00</th>\n      <td>57356.476562</td>\n      <td>57379.742188</td>\n      <td>57320.277344</td>\n      <td>57320.277344</td>\n      <td>0</td>\n      <td>95.899002</td>\n      <td>45.341769</td>\n      <td>57350.560156</td>\n      <td>57367.007812</td>\n    </tr>\n    <tr>\n      <th>2021-11-30 22:40:00+00:00</th>\n      <td>57338.656250</td>\n      <td>57367.007812</td>\n      <td>57268.773438</td>\n      <td>57367.007812</td>\n      <td>0</td>\n      <td>95.900002</td>\n      <td>47.975869</td>\n      <td>57335.338672</td>\n      <td>57287.613281</td>\n    </tr>\n    <tr>\n      <th>2021-11-30 22:45:00+00:00</th>\n      <td>57409.292969</td>\n      <td>57409.292969</td>\n      <td>57287.613281</td>\n      <td>57287.613281</td>\n      <td>0</td>\n      <td>95.906998</td>\n      <td>44.088324</td>\n      <td>57320.089258</td>\n      <td>57309.859375</td>\n    </tr>\n    <tr>\n      <th>2021-11-30 22:50:00+00:00</th>\n      <td>57217.937500</td>\n      <td>57321.019531</td>\n      <td>57217.937500</td>\n      <td>57309.859375</td>\n      <td>0</td>\n      <td>95.912003</td>\n      <td>45.422803</td>\n      <td>57303.152734</td>\n      <td>57296.972656</td>\n    </tr>\n    <tr>\n      <th>2021-11-30 22:55:00+00:00</th>\n      <td>57312.058594</td>\n      <td>57335.792969</td>\n      <td>57296.972656</td>\n      <td>57296.972656</td>\n      <td>0</td>\n      <td>95.913002</td>\n      <td>44.756399</td>\n      <td>57286.494922</td>\n      <td>57304.253906</td>\n    </tr>\n    <tr>\n      <th>...</th>\n      <td>...</td>\n      <td>...</td>\n      <td>...</td>\n      <td>...</td>\n      <td>...</td>\n      <td>...</td>\n      <td>...</td>\n      <td>...</td>\n      <td>...</td>\n    </tr>\n    <tr>\n      <th>2021-12-31 20:35:00+00:00</th>\n      <td>46071.226562</td>\n      <td>46071.226562</td>\n      <td>46011.390625</td>\n      <td>46022.531250</td>\n      <td>4165632</td>\n      <td>95.595001</td>\n      <td>31.705549</td>\n      <td>46203.396289</td>\n      <td>45981.453125</td>\n    </tr>\n    <tr>\n      <th>2021-12-31 20:40:00+00:00</th>\n      <td>46040.875000</td>\n      <td>46040.875000</td>\n      <td>45981.453125</td>\n      <td>45981.453125</td>\n      <td>12091392</td>\n      <td>95.584000</td>\n      <td>30.360325</td>\n      <td>46167.058984</td>\n      <td>46008.539062</td>\n    </tr>\n    <tr>\n      <th>2021-12-31 20:45:00+00:00</th>\n      <td>46016.601562</td>\n      <td>46016.601562</td>\n      <td>45989.558594</td>\n      <td>46008.539062</td>\n      <td>0</td>\n      <td>95.588997</td>\n      <td>32.397099</td>\n      <td>46133.319141</td>\n      <td>45982.441406</td>\n    </tr>\n    <tr>\n      <th>2021-12-31 20:50:00+00:00</th>\n      <td>46010.656250</td>\n      <td>46010.656250</td>\n      <td>45971.246094</td>\n      <td>45982.441406</td>\n      <td>132796416</td>\n      <td>95.600998</td>\n      <td>31.442874</td>\n      <td>46106.973633</td>\n      <td>46005.335938</td>\n    </tr>\n    <tr>\n      <th>2021-12-31 20:55:00+00:00</th>\n      <td>45991.742188</td>\n      <td>46005.335938</td>\n      <td>45990.980469</td>\n      <td>46005.335938</td>\n      <td>0</td>\n      <td>95.646004</td>\n      <td>33.298935</td>\n      <td>46082.566406</td>\n      <td>46060.488281</td>\n    </tr>\n  </tbody>\n</table>\n<p>8848 rows × 9 columns</p>\n</div>"
     },
     "execution_count": 5,
     "metadata": {},
     "output_type": "execute_result"
    }
   ],
   "source": [
    "data"
   ]
  },
  {
   "cell_type": "code",
   "execution_count": null,
   "metadata": {},
   "outputs": [],
   "source": []
  }
 ],
 "metadata": {
  "interpreter": {
   "hash": "3079d289965526a5670b083c2e31f1fa7e5a3c5f280ce501604a1ddbcd6b6c1d"
  },
  "kernelspec": {
   "display_name": "Python 3.8.8 64-bit ('base': conda)",
   "language": "python",
   "name": "python3"
  },
  "language_info": {
   "codemirror_mode": {
    "name": "ipython",
    "version": 3
   },
   "file_extension": ".py",
   "mimetype": "text/x-python",
   "name": "python",
   "nbconvert_exporter": "python",
   "pygments_lexer": "ipython3",
   "version": "3.8.8"
  },
  "orig_nbformat": 4
 },
 "nbformat": 4,
 "nbformat_minor": 2
}