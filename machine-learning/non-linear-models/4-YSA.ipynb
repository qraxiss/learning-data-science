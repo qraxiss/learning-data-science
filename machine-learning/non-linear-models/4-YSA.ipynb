{
 "cells": [
  {
   "cell_type": "code",
   "execution_count": 7,
   "metadata": {},
   "outputs": [],
   "source": [
    "import numpy as np\n",
    "import pandas as pd \n",
    "from sklearn.model_selection import train_test_split, GridSearchCV\n",
    "from sklearn.metrics import mean_squared_error\n",
    "from sklearn.model_selection import GridSearchCV\n",
    "from warnings import filterwarnings\n",
    "from sklearn.preprocessing import StandardScaler\n",
    "from sklearn.neural_network import MLPRegressor\n",
    "filterwarnings('ignore')"
   ]
  },
  {
   "cell_type": "markdown",
   "metadata": {},
   "source": [
    "# Prepare"
   ]
  },
  {
   "cell_type": "code",
   "execution_count": 3,
   "metadata": {},
   "outputs": [],
   "source": [
    "# Data\n",
    "df = pd.read_csv(\"../datas/Hitters.csv\")\n",
    "df = df.dropna()\n",
    "\n",
    "# Dummie\n",
    "dms = pd.get_dummies(df[['League', 'Division', 'NewLeague']])\n",
    "y = df[\"Salary\"]\n",
    "X = df.drop(['Salary', 'League', 'Division', 'NewLeague'], axis=1)\n",
    "X = pd.concat([X, dms[[\"League_N\", \"Division_W\", \"NewLeague_N\"]]], axis=1)\n",
    "\n",
    "# Test Train\n",
    "X_train, X_test, y_train, y_test = train_test_split(X, y, test_size = 0.25, random_state=42)\n",
    "\n",
    "# Scale\n",
    "scaler = StandardScaler()\n",
    "X_train_scaled = scaler.fit_transform(X_train)\n",
    "X_test_scaled = scaler.fit_transform(X_test)"
   ]
  },
  {
   "cell_type": "markdown",
   "metadata": {},
   "source": [
    "# Model"
   ]
  },
  {
   "cell_type": "code",
   "execution_count": 4,
   "metadata": {},
   "outputs": [],
   "source": [
    "mlp_model = MLPRegressor(hidden_layer_sizes=(100,20,10,5)).fit(X_train_scaled, y_train)"
   ]
  },
  {
   "cell_type": "markdown",
   "metadata": {},
   "source": [
    "# Predict"
   ]
  },
  {
   "cell_type": "code",
   "execution_count": 5,
   "metadata": {},
   "outputs": [
    {
     "data": {
      "text/plain": [
       "355.24979264866465"
      ]
     },
     "execution_count": 5,
     "metadata": {},
     "output_type": "execute_result"
    }
   ],
   "source": [
    "y_pred = mlp_model.predict(X_test_scaled)\n",
    "np.sqrt(mean_squared_error(y_test, y_pred))"
   ]
  },
  {
   "cell_type": "markdown",
   "metadata": {},
   "source": [
    "# Model Tuning"
   ]
  },
  {
   "cell_type": "code",
   "execution_count": 6,
   "metadata": {},
   "outputs": [
    {
     "name": "stdout",
     "output_type": "stream",
     "text": [
      "activation                      relu\n",
      "alpha                           0.02\n",
      "hidden_layer_sizes    (100, 50, 150)\n",
      "dtype: object\n",
      "MSE: 349.6816206268958\n"
     ]
    }
   ],
   "source": [
    "# Cross Validition\n",
    "mlp_params = {'alpha': [0.1, 0.01,0.02,0.005],\n",
    "             'hidden_layer_sizes': [(20,20),(100,50,150),(300,200,150)],\n",
    "             'activation': ['relu','logistic']}\n",
    "\n",
    "mlp_cv_model = GridSearchCV(mlp_model, mlp_params, cv=10).fit(X_train_scaled, y_train)\n",
    "params=pd.Series(mlp_cv_model.best_params_)\n",
    "\n",
    "# Tuned Model\n",
    "mlp_tuned = MLPRegressor(alpha=params[1], hidden_layer_sizes=params[2], activation=params[0]).fit(X_train_scaled, y_train)\n",
    "y_pred = mlp_tuned.predict(X_test_scaled)\n",
    "\n",
    "# Print Values\n",
    "print(f\"{params}\\n\"\n",
    "      f\"MSE: {np.sqrt(mean_squared_error(y_test, y_pred))}\")"
   ]
  }
 ],
 "metadata": {
  "interpreter": {
   "hash": "3079d289965526a5670b083c2e31f1fa7e5a3c5f280ce501604a1ddbcd6b6c1d"
  },
  "kernelspec": {
   "display_name": "Python 3.8.8 64-bit ('base': conda)",
   "language": "python",
   "name": "python3"
  },
  "language_info": {
   "codemirror_mode": {
    "name": "ipython",
    "version": 3
   },
   "file_extension": ".py",
   "mimetype": "text/x-python",
   "name": "python",
   "nbconvert_exporter": "python",
   "pygments_lexer": "ipython3",
   "version": "3.8.8"
  },
  "orig_nbformat": 4
 },
 "nbformat": 4,
 "nbformat_minor": 2
}
