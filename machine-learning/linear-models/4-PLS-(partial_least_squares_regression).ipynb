{
 "cells": [
  {
   "cell_type": "code",
   "execution_count": 54,
   "metadata": {},
   "outputs": [],
   "source": [
    "import pandas as pd\n",
    "import numpy as np\n",
    "from sklearn import model_selection\n",
    "from sklearn.metrics import mean_squared_error, r2_score\n",
    "from sklearn.model_selection import train_test_split\n",
    "from sklearn.cross_decomposition import PLSRegression, PLSSVD\n",
    "import matplotlib.pyplot as plt"
   ]
  },
  {
   "cell_type": "markdown",
   "metadata": {},
   "source": [
    "# Prepare"
   ]
  },
  {
   "cell_type": "code",
   "execution_count": 55,
   "metadata": {},
   "outputs": [],
   "source": [
    "df = pd.read_csv(\"../datas/Hitters.csv\")\n",
    "df = df.dropna()\n",
    "df.head(3)\n",
    "\n",
    "#Dummie\n",
    "dms = pd.get_dummies(df[['League', 'Division', 'NewLeague']])\n",
    "y = df[\"Salary\"]\n",
    "X = df.drop(['Salary', 'League', 'Division', 'NewLeague'], axis=1)\n",
    "X = pd.concat([X, dms[[\"League_N\", \"Division_W\", \"NewLeague_N\"]]], axis=1)\n",
    "\n",
    "#Test Train\n",
    "X_train, X_test, y_train, y_test = train_test_split(X, y, test_size = 0.25, random_state=42)"
   ]
  },
  {
   "cell_type": "markdown",
   "metadata": {},
   "source": [
    "# Model"
   ]
  },
  {
   "cell_type": "code",
   "execution_count": 56,
   "metadata": {},
   "outputs": [
    {
     "data": {
      "text/plain": [
       "array([[35.32916493],\n",
       "       [48.83425857],\n",
       "       [18.50240933],\n",
       "       [39.28117603],\n",
       "       [30.59952998]])"
      ]
     },
     "execution_count": 56,
     "metadata": {},
     "output_type": "execute_result"
    }
   ],
   "source": [
    "pls_model = PLSRegression().fit(X_train, y_train)\n",
    "pls_model.coef_[:5]"
   ]
  },
  {
   "cell_type": "markdown",
   "metadata": {},
   "source": [
    "# Predict"
   ]
  },
  {
   "cell_type": "code",
   "execution_count": 57,
   "metadata": {},
   "outputs": [
    {
     "name": "stdout",
     "output_type": "stream",
     "text": [
      "Train MSE: 310.1167593109696\n",
      "Train R2: 0.5140424486535481\n",
      "Test MSE: 398.09956327448526\n",
      "Test R2: 0.2678940112232916\n"
     ]
    }
   ],
   "source": [
    "y_pred_train = pls_model.predict(X_train)\n",
    "print(f\"Train MSE: {np.sqrt(mean_squared_error(y_train, y_pred_train))}\\n\"\n",
    "      f\"Train R2: {r2_score(y_train, y_pred_train)}\")\n",
    "y_pred_test = pls_model.predict(X_test)\n",
    "print(f\"Test MSE: {np.sqrt(mean_squared_error(y_test, y_pred_test))}\\n\"\n",
    "      f\"Test R2: {r2_score(y_test, y_pred_test)}\")"
   ]
  },
  {
   "cell_type": "markdown",
   "metadata": {},
   "source": [
    "# Model Tuning"
   ]
  },
  {
   "cell_type": "code",
   "execution_count": 58,
   "metadata": {},
   "outputs": [
    {
     "data": {
      "image/png": "[encoded data removed]",
      "text/plain": [
       "<Figure size 432x288 with 1 Axes>"
      ]
     },
     "metadata": {
      "needs_background": "light"
     },
     "output_type": "display_data"
    }
   ],
   "source": [
    "# Cross Validition\n",
    "cv_10 = model_selection.KFold(n_splits=10, shuffle=True, random_state=42)\n",
    "\n",
    "# Loop for calculate errors\n",
    "RSME = []\n",
    "for i in np.arange(1, X_train.shape[1]+1):\n",
    "    pls_model = PLSRegression(n_components= i)\n",
    "    score = np.sqrt(-1*model_selection.cross_val_score(pls_model, X_train, y_train, cv=cv_10, scoring=\"neg_mean_squared_error\")).mean()\n",
    "    RSME.append(score)\n",
    "\n",
    "# Plot\n",
    "plt.plot(np.arange(1, X_train.shape[1]+1), np.array(RSME), '-v', c = \"r\");"
   ]
  },
  {
   "cell_type": "markdown",
   "metadata": {},
   "source": [
    "# Final Model"
   ]
  },
  {
   "cell_type": "code",
   "execution_count": 62,
   "metadata": {},
   "outputs": [
    {
     "data": {
      "text/plain": [
       "398.09956327448526"
      ]
     },
     "execution_count": 62,
     "metadata": {},
     "output_type": "execute_result"
    }
   ],
   "source": [
    "pls_model = PLSRegression(n_components=2).fit(X_train, y_train)\n",
    "y_pred_test = pls_model.predict(X_test)\n",
    "np.sqrt(mean_squared_error(y_test, y_pred_test))"
   ]
  }
 ],
 "metadata": {
  "interpreter": {
   "hash": "3079d289965526a5670b083c2e31f1fa7e5a3c5f280ce501604a1ddbcd6b6c1d"
  },
  "kernelspec": {
   "display_name": "Python 3.8.8 64-bit ('base': conda)",
   "language": "python",
   "name": "python3"
  },
  "language_info": {
   "codemirror_mode": {
    "name": "ipython",
    "version": 3
   },
   "file_extension": ".py",
   "mimetype": "text/x-python",
   "name": "python",
   "nbconvert_exporter": "python",
   "pygments_lexer": "ipython3",
   "version": "3.8.8"
  },
  "orig_nbformat": 4
 },
 "nbformat": 4,
 "nbformat_minor": 2
}
