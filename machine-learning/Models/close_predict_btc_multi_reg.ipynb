{
 "cells": [
  {
   "cell_type": "markdown",
   "metadata": {},
   "source": [
    "# Train Data"
   ]
  },
  {
   "cell_type": "code",
   "execution_count": 1,
   "metadata": {},
   "outputs": [],
   "source": [
    "import datetime as dt\n",
    "import yfinance as yf\n",
    "import pandas as pd\n",
    "from ta.volatility import BollingerBands"
   ]
  },
  {
   "cell_type": "code",
   "execution_count": 2,
   "metadata": {},
   "outputs": [
    {
     "data": {
      "text/html": [
       "<div>\n",
       "<style scoped>\n",
       "    .dataframe tbody tr th:only-of-type {\n",
       "        vertical-align: middle;\n",
       "    }\n",
       "\n",
       "    .dataframe tbody tr th {\n",
       "        vertical-align: top;\n",
       "    }\n",
       "\n",
       "    .dataframe thead th {\n",
       "        text-align: right;\n",
       "    }\n",
       "</style>\n",
       "<table border=\"1\" class=\"dataframe\">\n",
       "  <thead>\n",
       "    <tr style=\"text-align: right;\">\n",
       "      <th></th>\n",
       "      <th>Open</th>\n",
       "      <th>High</th>\n",
       "      <th>Low</th>\n",
       "      <th>Close</th>\n",
       "      <th>Bollinger</th>\n",
       "      <th>Next Day</th>\n",
       "    </tr>\n",
       "    <tr>\n",
       "      <th>Date</th>\n",
       "      <th></th>\n",
       "      <th></th>\n",
       "      <th></th>\n",
       "      <th></th>\n",
       "      <th></th>\n",
       "      <th></th>\n",
       "    </tr>\n",
       "  </thead>\n",
       "  <tbody>\n",
       "    <tr>\n",
       "      <th>2016-01-19</th>\n",
       "      <td>387.026001</td>\n",
       "      <td>387.730011</td>\n",
       "      <td>378.971985</td>\n",
       "      <td>380.148987</td>\n",
       "      <td>477.446889</td>\n",
       "      <td>420.230011</td>\n",
       "    </tr>\n",
       "    <tr>\n",
       "      <th>2016-01-20</th>\n",
       "      <td>379.739990</td>\n",
       "      <td>425.266998</td>\n",
       "      <td>376.598999</td>\n",
       "      <td>420.230011</td>\n",
       "      <td>476.861536</td>\n",
       "      <td>410.261993</td>\n",
       "    </tr>\n",
       "    <tr>\n",
       "      <th>2016-01-21</th>\n",
       "      <td>419.631989</td>\n",
       "      <td>422.877014</td>\n",
       "      <td>406.299988</td>\n",
       "      <td>410.261993</td>\n",
       "      <td>475.699907</td>\n",
       "      <td>382.492004</td>\n",
       "    </tr>\n",
       "    <tr>\n",
       "      <th>2016-01-22</th>\n",
       "      <td>409.751007</td>\n",
       "      <td>410.410004</td>\n",
       "      <td>375.282013</td>\n",
       "      <td>382.492004</td>\n",
       "      <td>475.558275</td>\n",
       "      <td>387.490997</td>\n",
       "    </tr>\n",
       "    <tr>\n",
       "      <th>2016-01-23</th>\n",
       "      <td>382.433990</td>\n",
       "      <td>394.542999</td>\n",
       "      <td>381.980988</td>\n",
       "      <td>387.490997</td>\n",
       "      <td>474.902889</td>\n",
       "      <td>402.971008</td>\n",
       "    </tr>\n",
       "  </tbody>\n",
       "</table>\n",
       "</div>"
      ],
      "text/plain": [
       "                  Open        High         Low       Close   Bollinger  \\\n",
       "Date                                                                     \n",
       "2016-01-19  387.026001  387.730011  378.971985  380.148987  477.446889   \n",
       "2016-01-20  379.739990  425.266998  376.598999  420.230011  476.861536   \n",
       "2016-01-21  419.631989  422.877014  406.299988  410.261993  475.699907   \n",
       "2016-01-22  409.751007  410.410004  375.282013  382.492004  475.558275   \n",
       "2016-01-23  382.433990  394.542999  381.980988  387.490997  474.902889   \n",
       "\n",
       "              Next Day  \n",
       "Date                    \n",
       "2016-01-19  420.230011  \n",
       "2016-01-20  410.261993  \n",
       "2016-01-21  382.492004  \n",
       "2016-01-22  387.490997  \n",
       "2016-01-23  402.971008  "
      ]
     },
     "execution_count": 2,
     "metadata": {},
     "output_type": "execute_result"
    }
   ],
   "source": [
    "btc = yf.Ticker(\"BTC-USD\")\n",
    "\n",
    "startDate = dt.datetime(2016,1,1)\n",
    "endDate = dt.datetime(2021,1,1)\n",
    "\n",
    "btcTrain = btc.history(start=startDate, end=endDate)[[\"Open\", \"High\", \"Low\", \"Close\"]]\n",
    "\n",
    "bollinger = BollingerBands(close=btcTrain[\"Close\"], window=20, window_dev=2)\n",
    "btcTrain['Bollinger'] = bollinger.bollinger_hband()\n",
    "\n",
    "startDate = dt.datetime(2016,1,1)\n",
    "endDate = dt.datetime(2021,1,1)\n",
    "\n",
    "btcTrain[\"Next Day\"] = btc.history(start=startDate, end=endDate)[\"Close\"]\n",
    "\n",
    "# Index Esitleme\n",
    "startDate = dt.datetime(2016,1,2)\n",
    "endDate = dt.datetime(2021,1,2)\n",
    "NextDay = btc.history(start=startDate, end=endDate)[[\"Close\"]]\n",
    "NextDay.set_index(btcTrain.index, inplace=True)\n",
    "btcTrain[\"Next Day\"] = NextDay[\"Close\"]\n",
    "\n",
    "btcTrain=btcTrain[19:]\n",
    "btcTrain.head()"
   ]
  },
  {
   "cell_type": "markdown",
   "metadata": {},
   "source": [
    "# Test Data"
   ]
  },
  {
   "cell_type": "code",
   "execution_count": 3,
   "metadata": {},
   "outputs": [
    {
     "data": {
      "text/html": [
       "<div>\n",
       "<style scoped>\n",
       "    .dataframe tbody tr th:only-of-type {\n",
       "        vertical-align: middle;\n",
       "    }\n",
       "\n",
       "    .dataframe tbody tr th {\n",
       "        vertical-align: top;\n",
       "    }\n",
       "\n",
       "    .dataframe thead th {\n",
       "        text-align: right;\n",
       "    }\n",
       "</style>\n",
       "<table border=\"1\" class=\"dataframe\">\n",
       "  <thead>\n",
       "    <tr style=\"text-align: right;\">\n",
       "      <th></th>\n",
       "      <th>Open</th>\n",
       "      <th>High</th>\n",
       "      <th>Low</th>\n",
       "      <th>Close</th>\n",
       "      <th>Bollinger</th>\n",
       "      <th>Next Day</th>\n",
       "    </tr>\n",
       "    <tr>\n",
       "      <th>Date</th>\n",
       "      <th></th>\n",
       "      <th></th>\n",
       "      <th></th>\n",
       "      <th></th>\n",
       "      <th></th>\n",
       "      <th></th>\n",
       "    </tr>\n",
       "  </thead>\n",
       "  <tbody>\n",
       "    <tr>\n",
       "      <th>2021-01-19</th>\n",
       "      <td>36642.234375</td>\n",
       "      <td>37755.890625</td>\n",
       "      <td>36069.804688</td>\n",
       "      <td>36069.804688</td>\n",
       "      <td>42125.853513</td>\n",
       "      <td>35547.750000</td>\n",
       "    </tr>\n",
       "    <tr>\n",
       "      <th>2021-01-20</th>\n",
       "      <td>36050.113281</td>\n",
       "      <td>36378.328125</td>\n",
       "      <td>33570.476562</td>\n",
       "      <td>35547.750000</td>\n",
       "      <td>41704.938542</td>\n",
       "      <td>30825.699219</td>\n",
       "    </tr>\n",
       "    <tr>\n",
       "      <th>2021-01-21</th>\n",
       "      <td>35549.398438</td>\n",
       "      <td>35552.679688</td>\n",
       "      <td>30250.750000</td>\n",
       "      <td>30825.699219</td>\n",
       "      <td>41473.107131</td>\n",
       "      <td>33005.761719</td>\n",
       "    </tr>\n",
       "    <tr>\n",
       "      <th>2021-01-22</th>\n",
       "      <td>30817.625000</td>\n",
       "      <td>33811.851562</td>\n",
       "      <td>28953.373047</td>\n",
       "      <td>33005.761719</td>\n",
       "      <td>41404.043859</td>\n",
       "      <td>32067.642578</td>\n",
       "    </tr>\n",
       "    <tr>\n",
       "      <th>2021-01-23</th>\n",
       "      <td>32985.757812</td>\n",
       "      <td>33360.976562</td>\n",
       "      <td>31493.160156</td>\n",
       "      <td>32067.642578</td>\n",
       "      <td>41464.214588</td>\n",
       "      <td>32289.378906</td>\n",
       "    </tr>\n",
       "  </tbody>\n",
       "</table>\n",
       "</div>"
      ],
      "text/plain": [
       "                    Open          High           Low         Close  \\\n",
       "Date                                                                 \n",
       "2021-01-19  36642.234375  37755.890625  36069.804688  36069.804688   \n",
       "2021-01-20  36050.113281  36378.328125  33570.476562  35547.750000   \n",
       "2021-01-21  35549.398438  35552.679688  30250.750000  30825.699219   \n",
       "2021-01-22  30817.625000  33811.851562  28953.373047  33005.761719   \n",
       "2021-01-23  32985.757812  33360.976562  31493.160156  32067.642578   \n",
       "\n",
       "               Bollinger      Next Day  \n",
       "Date                                    \n",
       "2021-01-19  42125.853513  35547.750000  \n",
       "2021-01-20  41704.938542  30825.699219  \n",
       "2021-01-21  41473.107131  33005.761719  \n",
       "2021-01-22  41404.043859  32067.642578  \n",
       "2021-01-23  41464.214588  32289.378906  "
      ]
     },
     "execution_count": 3,
     "metadata": {},
     "output_type": "execute_result"
    }
   ],
   "source": [
    "btc = yf.Ticker(\"BTC-USD\")\n",
    "\n",
    "startDate = dt.datetime(2021,1,1)\n",
    "endDate = dt.datetime(2022,1,1)\n",
    "\n",
    "btcTest = btc.history(start=startDate, end=endDate)[[\"Open\", \"High\", \"Low\", \"Close\"]]\n",
    "\n",
    "bollinger = BollingerBands(close=btcTest[\"Close\"], window=20, window_dev=2)\n",
    "btcTest[\"Bollinger\"] = pd.DataFrame(bollinger.bollinger_hband()).set_index(btcTest.index)\n",
    "\n",
    "startDate = dt.datetime(2021,1,1)\n",
    "endDate = dt.datetime(2022,1,1)\n",
    "\n",
    "btcTest[\"Next Day\"] = btc.history(start=startDate, end=endDate)[\"Close\"]\n",
    "\n",
    "# Index Esitleme\n",
    "startDate = dt.datetime(2021,1,2)\n",
    "endDate = dt.datetime(2022,1,2)\n",
    "NextDay = btc.history(start=startDate, end=endDate)[[\"Close\"]]\n",
    "NextDay.set_index(btcTest.index, inplace=True)\n",
    "btcTest[\"Next Day\"] = NextDay[\"Close\"]\n",
    "\n",
    "btcTest=btcTest[19:]\n",
    "btcTest.head()"
   ]
  },
  {
   "cell_type": "markdown",
   "metadata": {},
   "source": [
    "___"
   ]
  },
  {
   "cell_type": "code",
   "execution_count": 4,
   "metadata": {},
   "outputs": [],
   "source": [
    "y_train, X_train = btcTrain[\"Next Day\"], btcTrain.drop(\"Next Day\", axis=1)"
   ]
  },
  {
   "cell_type": "markdown",
   "metadata": {},
   "source": [
    "# Statsmodels"
   ]
  },
  {
   "cell_type": "code",
   "execution_count": 5,
   "metadata": {},
   "outputs": [],
   "source": [
    "import statsmodels.api as sm"
   ]
  },
  {
   "cell_type": "code",
   "execution_count": 6,
   "metadata": {},
   "outputs": [
    {
     "data": {
      "text/html": [
       "<table class=\"simpletable\">\n",
       "<caption>OLS Regression Results</caption>\n",
       "<tr>\n",
       "  <th>Dep. Variable:</th>        <td>Next Day</td>     <th>  R-squared (uncentered):</th>      <td>   0.998</td> \n",
       "</tr>\n",
       "<tr>\n",
       "  <th>Model:</th>                   <td>OLS</td>       <th>  Adj. R-squared (uncentered):</th> <td>   0.998</td> \n",
       "</tr>\n",
       "<tr>\n",
       "  <th>Method:</th>             <td>Least Squares</td>  <th>  F-statistic:       </th>          <td>1.888e+05</td>\n",
       "</tr>\n",
       "<tr>\n",
       "  <th>Date:</th>             <td>Thu, 13 Jan 2022</td> <th>  Prob (F-statistic):</th>           <td>  0.00</td>  \n",
       "</tr>\n",
       "<tr>\n",
       "  <th>Time:</th>                 <td>02:37:49</td>     <th>  Log-Likelihood:    </th>          <td> -13118.</td> \n",
       "</tr>\n",
       "<tr>\n",
       "  <th>No. Observations:</th>      <td>  1809</td>      <th>  AIC:               </th>          <td>2.625e+04</td>\n",
       "</tr>\n",
       "<tr>\n",
       "  <th>Df Residuals:</th>          <td>  1804</td>      <th>  BIC:               </th>          <td>2.627e+04</td>\n",
       "</tr>\n",
       "<tr>\n",
       "  <th>Df Model:</th>              <td>     5</td>      <th>                     </th>              <td> </td>    \n",
       "</tr>\n",
       "<tr>\n",
       "  <th>Covariance Type:</th>      <td>nonrobust</td>    <th>                     </th>              <td> </td>    \n",
       "</tr>\n",
       "</table>\n",
       "<table class=\"simpletable\">\n",
       "<tr>\n",
       "      <td></td>         <th>coef</th>     <th>std err</th>      <th>t</th>      <th>P>|t|</th>  <th>[0.025</th>    <th>0.975]</th>  \n",
       "</tr>\n",
       "<tr>\n",
       "  <th>Open</th>      <td>    0.0257</td> <td>    0.053</td> <td>    0.486</td> <td> 0.627</td> <td>   -0.078</td> <td>    0.130</td>\n",
       "</tr>\n",
       "<tr>\n",
       "  <th>High</th>      <td>   -0.0548</td> <td>    0.065</td> <td>   -0.848</td> <td> 0.397</td> <td>   -0.182</td> <td>    0.072</td>\n",
       "</tr>\n",
       "<tr>\n",
       "  <th>Low</th>       <td>   -0.0607</td> <td>    0.054</td> <td>   -1.131</td> <td> 0.258</td> <td>   -0.166</td> <td>    0.045</td>\n",
       "</tr>\n",
       "<tr>\n",
       "  <th>Close</th>     <td>    1.0981</td> <td>    0.064</td> <td>   17.058</td> <td> 0.000</td> <td>    0.972</td> <td>    1.224</td>\n",
       "</tr>\n",
       "<tr>\n",
       "  <th>Bollinger</th> <td>   -0.0053</td> <td>    0.009</td> <td>   -0.603</td> <td> 0.546</td> <td>   -0.022</td> <td>    0.012</td>\n",
       "</tr>\n",
       "</table>\n",
       "<table class=\"simpletable\">\n",
       "<tr>\n",
       "  <th>Omnibus:</th>       <td>444.377</td> <th>  Durbin-Watson:     </th> <td>   1.997</td> \n",
       "</tr>\n",
       "<tr>\n",
       "  <th>Prob(Omnibus):</th> <td> 0.000</td>  <th>  Jarque-Bera (JB):  </th> <td>23564.121</td>\n",
       "</tr>\n",
       "<tr>\n",
       "  <th>Skew:</th>          <td> 0.189</td>  <th>  Prob(JB):          </th> <td>    0.00</td> \n",
       "</tr>\n",
       "<tr>\n",
       "  <th>Kurtosis:</th>      <td>20.677</td>  <th>  Cond. No.          </th> <td>    237.</td> \n",
       "</tr>\n",
       "</table><br/><br/>Notes:<br/>[1] R² is computed without centering (uncentered) since the model does not contain a constant.<br/>[2] Standard Errors assume that the covariance matrix of the errors is correctly specified."
      ],
      "text/plain": [
       "<class 'statsmodels.iolib.summary.Summary'>\n",
       "\"\"\"\n",
       "                                 OLS Regression Results                                \n",
       "=======================================================================================\n",
       "Dep. Variable:               Next Day   R-squared (uncentered):                   0.998\n",
       "Model:                            OLS   Adj. R-squared (uncentered):              0.998\n",
       "Method:                 Least Squares   F-statistic:                          1.888e+05\n",
       "Date:                Thu, 13 Jan 2022   Prob (F-statistic):                        0.00\n",
       "Time:                        02:37:49   Log-Likelihood:                         -13118.\n",
       "No. Observations:                1809   AIC:                                  2.625e+04\n",
       "Df Residuals:                    1804   BIC:                                  2.627e+04\n",
       "Df Model:                           5                                                  \n",
       "Covariance Type:            nonrobust                                                  \n",
       "==============================================================================\n",
       "                 coef    std err          t      P>|t|      [0.025      0.975]\n",
       "------------------------------------------------------------------------------\n",
       "Open           0.0257      0.053      0.486      0.627      -0.078       0.130\n",
       "High          -0.0548      0.065     -0.848      0.397      -0.182       0.072\n",
       "Low           -0.0607      0.054     -1.131      0.258      -0.166       0.045\n",
       "Close          1.0981      0.064     17.058      0.000       0.972       1.224\n",
       "Bollinger     -0.0053      0.009     -0.603      0.546      -0.022       0.012\n",
       "==============================================================================\n",
       "Omnibus:                      444.377   Durbin-Watson:                   1.997\n",
       "Prob(Omnibus):                  0.000   Jarque-Bera (JB):            23564.121\n",
       "Skew:                           0.189   Prob(JB):                         0.00\n",
       "Kurtosis:                      20.677   Cond. No.                         237.\n",
       "==============================================================================\n",
       "\n",
       "Notes:\n",
       "[1] R² is computed without centering (uncentered) since the model does not contain a constant.\n",
       "[2] Standard Errors assume that the covariance matrix of the errors is correctly specified.\n",
       "\"\"\""
      ]
     },
     "execution_count": 6,
     "metadata": {},
     "output_type": "execute_result"
    }
   ],
   "source": [
    "lm = sm.OLS(y_train, X_train)\n",
    "model = lm.fit()\n",
    "model.summary()"
   ]
  },
  {
   "cell_type": "markdown",
   "metadata": {},
   "source": [
    "# Model Sklearn"
   ]
  },
  {
   "cell_type": "code",
   "execution_count": 7,
   "metadata": {},
   "outputs": [],
   "source": [
    "from sklearn.linear_model import LinearRegression"
   ]
  },
  {
   "cell_type": "code",
   "execution_count": 8,
   "metadata": {},
   "outputs": [],
   "source": [
    "skitLm = LinearRegression()\n",
    "modelSkiLm = skitLm.fit(X_train, y_train)"
   ]
  },
  {
   "cell_type": "markdown",
   "metadata": {},
   "source": [
    "## Visualitizion"
   ]
  },
  {
   "cell_type": "code",
   "execution_count": 9,
   "metadata": {},
   "outputs": [],
   "source": [
    "import seaborn as sns"
   ]
  },
  {
   "cell_type": "code",
   "execution_count": 10,
   "metadata": {},
   "outputs": [],
   "source": [
    "prediction = []\n",
    "for i in range(btcTest.shape[0]):\n",
    "    data = []\n",
    "    for j in range(5):\n",
    "        data.append([btcTest.iloc[i][j]])\n",
    "    data = pd.DataFrame(data).T\n",
    "    prediction.append(modelSkiLm.predict(data)[0])"
   ]
  },
  {
   "cell_type": "code",
   "execution_count": 11,
   "metadata": {},
   "outputs": [
    {
     "data": {
      "image/png": "[encoded data removed]",
      "text/plain": [
       "<Figure size 432x288 with 1 Axes>"
      ]
     },
     "metadata": {
      "needs_background": "light"
     },
     "output_type": "display_data"
    }
   ],
   "source": [
    "sns.lineplot(y=prediction, x=btcTest.index,color=\"red\")\n",
    "sns.lineplot(y=btcTest[\"Next Day\"], x=btcTest.index);"
   ]
  },
  {
   "cell_type": "code",
   "execution_count": null,
   "metadata": {},
   "outputs": [],
   "source": []
  }
 ],
 "metadata": {
  "interpreter": {
   "hash": "3079d289965526a5670b083c2e31f1fa7e5a3c5f280ce501604a1ddbcd6b6c1d"
  },
  "kernelspec": {
   "display_name": "Python 3.8.8 64-bit ('base': conda)",
   "language": "python",
   "name": "python3"
  },
  "language_info": {
   "codemirror_mode": {
    "name": "ipython",
    "version": 3
   },
   "file_extension": ".py",
   "mimetype": "text/x-python",
   "name": "python",
   "nbconvert_exporter": "python",
   "pygments_lexer": "ipython3",
   "version": "3.8.8"
  },
  "orig_nbformat": 4
 },
 "nbformat": 4,
 "nbformat_minor": 2
}
