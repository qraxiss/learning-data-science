{
 "cells": [
  {
   "cell_type": "code",
   "execution_count": 79,
   "metadata": {},
   "outputs": [],
   "source": [
    "import numpy as np\n",
    "import matplotlib.pyplot as plt\n",
    "import pandas as pd\n",
    "import pandas_datareader as web\n",
    "import datetime as dt"
   ]
  },
  {
   "cell_type": "code",
   "execution_count": 80,
   "metadata": {},
   "outputs": [],
   "source": [
    "from sklearn.preprocessing import MinMaxScaler\n",
    "from tensorflow.keras.models import Sequential\n",
    "from tensorflow.keras.layers import Dense, Dropout, LSTM"
   ]
  },
  {
   "cell_type": "code",
   "execution_count": 81,
   "metadata": {},
   "outputs": [],
   "source": [
    "# Load Data\n",
    "company = 'EOS-USD'\n",
    "\n",
    "start = dt.datetime(2012, 1, 1)\n",
    "end = dt.datetime(2021, 1, 1)\n",
    "\n",
    "data = web.DataReader(company, 'yahoo', start, end)"
   ]
  },
  {
   "cell_type": "code",
   "execution_count": 82,
   "metadata": {},
   "outputs": [],
   "source": [
    "# Prepare Data\n",
    "\n",
    "scaler = MinMaxScaler(feature_range=(0, 1))\n",
    "scaled_data = scaler.fit_transform(data['Close'].values.reshape(-1,1))\n",
    "predictio_days = 60\n",
    "\n",
    "X_train = []\n",
    "y_train = []\n",
    "\n",
    "for x in range(predictio_days, len(scaled_data)):\n",
    "    X_train.append(scaled_data[x-predictio_days:x, 0])\n",
    "    y_train.append(scaled_data[x, 0])\n",
    "\n",
    "X_train, y_train = np.array(X_train), np.array(y_train)\n",
    "X_train = np.reshape(X_train, (X_train.shape[0], X_train.shape[1], 1)) "
   ]
  },
  {
   "cell_type": "code",
   "execution_count": 83,
   "metadata": {},
   "outputs": [
    {
     "name": "stdout",
     "output_type": "stream",
     "text": [
      "Epoch 1/25\n",
      "35/35 [==============================] - 6s 45ms/step - loss: 0.0106\n",
      "Epoch 2/25\n",
      "35/35 [==============================] - 2s 44ms/step - loss: 0.0045\n",
      "Epoch 3/25\n",
      "35/35 [==============================] - 1s 41ms/step - loss: 0.0037\n",
      "Epoch 4/25\n",
      "35/35 [==============================] - 1s 39ms/step - loss: 0.0034\n",
      "Epoch 5/25\n",
      "35/35 [==============================] - 1s 37ms/step - loss: 0.0032\n",
      "Epoch 6/25\n",
      "35/35 [==============================] - 1s 36ms/step - loss: 0.0029\n",
      "Epoch 7/25\n",
      "35/35 [==============================] - 1s 37ms/step - loss: 0.0032\n",
      "Epoch 8/25\n",
      "35/35 [==============================] - 1s 38ms/step - loss: 0.0024\n",
      "Epoch 9/25\n",
      "35/35 [==============================] - 1s 37ms/step - loss: 0.0026\n",
      "Epoch 10/25\n",
      "35/35 [==============================] - 1s 36ms/step - loss: 0.0019\n",
      "Epoch 11/25\n",
      "35/35 [==============================] - 1s 38ms/step - loss: 0.0022\n",
      "Epoch 12/25\n",
      "35/35 [==============================] - 1s 36ms/step - loss: 0.0025\n",
      "Epoch 13/25\n",
      "35/35 [==============================] - 1s 37ms/step - loss: 0.0027\n",
      "Epoch 14/25\n",
      "35/35 [==============================] - 1s 37ms/step - loss: 0.0021\n",
      "Epoch 15/25\n",
      "35/35 [==============================] - 1s 37ms/step - loss: 0.0017\n",
      "Epoch 16/25\n",
      "35/35 [==============================] - 1s 37ms/step - loss: 0.0021\n",
      "Epoch 17/25\n",
      "35/35 [==============================] - 1s 37ms/step - loss: 0.0019\n",
      "Epoch 18/25\n",
      "35/35 [==============================] - 1s 37ms/step - loss: 0.0016\n",
      "Epoch 19/25\n",
      "35/35 [==============================] - 1s 37ms/step - loss: 0.0018\n",
      "Epoch 20/25\n",
      "35/35 [==============================] - 1s 37ms/step - loss: 0.0019\n",
      "Epoch 21/25\n",
      "35/35 [==============================] - 1s 37ms/step - loss: 0.0019\n",
      "Epoch 22/25\n",
      "35/35 [==============================] - 1s 37ms/step - loss: 0.0019\n",
      "Epoch 23/25\n",
      "35/35 [==============================] - 1s 37ms/step - loss: 0.0017\n",
      "Epoch 24/25\n",
      "35/35 [==============================] - 2s 45ms/step - loss: 0.0018\n",
      "Epoch 25/25\n",
      "35/35 [==============================] - 2s 45ms/step - loss: 0.0018\n"
     ]
    },
    {
     "data": {
      "text/plain": [
       "<keras.callbacks.History at 0x1dd90657130>"
      ]
     },
     "execution_count": 83,
     "metadata": {},
     "output_type": "execute_result"
    }
   ],
   "source": [
    "# Build The Model\n",
    "\n",
    "model = Sequential()\n",
    "\n",
    "model.add(LSTM(units=50, return_sequences=True, input_shape=(X_train.shape[1], 1)))\n",
    "model.add(Dropout(0.2))\n",
    "model.add(LSTM(units=50, return_sequences=True))\n",
    "model.add(Dropout(0.2))\n",
    "model.add(LSTM(units=50))\n",
    "model.add(Dropout(0.2))\n",
    "model.add(Dense(units=1)) # Prediction of the next close\n",
    "\n",
    "model.compile(optimizer='adam', loss='mean_squared_error')\n",
    "model.fit(X_train, y_train, epochs=25, batch_size=32)\n"
   ]
  },
  {
   "cell_type": "markdown",
   "metadata": {},
   "source": [
    "Test The Model Accuracy on Existing Data"
   ]
  },
  {
   "cell_type": "code",
   "execution_count": 84,
   "metadata": {},
   "outputs": [],
   "source": [
    "# Load Test Data\n",
    "\n",
    "test_start = dt.datetime(2021,1,1)\n",
    "test_end= dt.datetime.now()\n",
    "\n",
    "test_data = web.DataReader(company, 'yahoo', test_start, test_end)\n",
    "actual_prices = test_data['Close'].values\n",
    "\n",
    "total_dataset = pd.concat((data['Close'], test_data['Close']), axis=0)\n",
    "\n",
    "model_inputs = total_dataset[len(total_dataset) - len(test_data) - predictio_days:].values\n",
    "model_inputs = model_inputs.reshape(-1,1)\n",
    "model_inputs = scaler.transform(model_inputs)\n"
   ]
  },
  {
   "cell_type": "code",
   "execution_count": 85,
   "metadata": {},
   "outputs": [],
   "source": [
    "# Make Predictions on Test Data\n",
    "\n",
    "x_test = []\n",
    "\n",
    "for x in range(predictio_days, len(model_inputs)):\n",
    "    x_test.append(model_inputs[x-predictio_days:x,0])\n",
    "\n",
    "x_test = np.array(x_test)\n",
    "x_test = np.reshape(x_test,(x_test.shape[0], x_test.shape[1], 1))\n",
    "\n",
    "predicted_prices = model.predict(x_test)\n",
    "\n",
    "predicted_prices = scaler.inverse_transform(predicted_prices)"
   ]
  },
  {
   "cell_type": "code",
   "execution_count": 86,
   "metadata": {},
   "outputs": [
    {
     "data": {
      "image/png": "[encoded data removed]",
      "text/plain": [
       "<Figure size 432x288 with 1 Axes>"
      ]
     },
     "metadata": {
      "needs_background": "light"
     },
     "output_type": "display_data"
    }
   ],
   "source": [
    "# Plot The Test Predictions\n",
    "\n",
    "plt.plot(actual_prices, color=\"red\", label=f\"Actual {company} Price\")\n",
    "plt.plot(predicted_prices, color=\"green\", label=f\"Predict {company} Price\")\n",
    "plt.title(f\"{company} Share Price\")\n",
    "plt.xlabel('Time')\n",
    "plt.ylabel(f'{company} Share Price')\n",
    "plt.legend()\n",
    "plt.show()"
   ]
  },
  {
   "cell_type": "code",
   "execution_count": 88,
   "metadata": {},
   "outputs": [
    {
     "name": "stdout",
     "output_type": "stream",
     "text": [
      "Prediction: [[2.5684545]]\n"
     ]
    }
   ],
   "source": [
    "# Predict Next Day\n",
    "\n",
    "real_data = [model_inputs[len(model_inputs) + 1 - predictio_days:len(model_inputs+1), 0]]\n",
    "real_data = np.array(real_data)\n",
    "real_data = np.reshape(real_data, (real_data.shape[0], real_data.shape[1], 1))\n",
    "\n",
    "prediction = model.predict(real_data)\n",
    "prediction = scaler.inverse_transform(prediction)\n",
    "print(f\"Prediction: {prediction}\")"
   ]
  },
  {
   "cell_type": "code",
   "execution_count": null,
   "metadata": {},
   "outputs": [],
   "source": []
  }
 ],
 "metadata": {
  "interpreter": {
   "hash": "3079d289965526a5670b083c2e31f1fa7e5a3c5f280ce501604a1ddbcd6b6c1d"
  },
  "kernelspec": {
   "display_name": "Python 3.8.8 64-bit ('base': conda)",
   "language": "python",
   "name": "python3"
  },
  "language_info": {
   "codemirror_mode": {
    "name": "ipython",
    "version": 3
   },
   "file_extension": ".py",
   "mimetype": "text/x-python",
   "name": "python",
   "nbconvert_exporter": "python",
   "pygments_lexer": "ipython3",
   "version": "3.8.8"
  },
  "orig_nbformat": 4
 },
 "nbformat": 4,
 "nbformat_minor": 2
}
