{
 "cells": [
  {
   "cell_type": "markdown",
   "metadata": {},
   "source": [
    "# Numpy Array \n",
    "Tek veri tipine sahiptir.\n",
    "\n",
    "Bilimsel işlemler için kullanılan çok gelişmiş bir kütüphanedir."
   ]
  },
  {
   "cell_type": "markdown",
   "metadata": {},
   "source": [
    "## Numpy Array Oluşturma"
   ]
  },
  {
   "cell_type": "code",
   "execution_count": 139,
   "metadata": {},
   "outputs": [
    {
     "name": "stdout",
     "output_type": "stream",
     "text": [
      "[1 2 3 4 5 6]\n"
     ]
    }
   ],
   "source": [
    "import numpy as np\n",
    "array = np.array([1,2,3,4,5,6])\n",
    "print(array)"
   ]
  },
  {
   "cell_type": "code",
   "execution_count": 140,
   "metadata": {},
   "outputs": [
    {
     "name": "stdout",
     "output_type": "stream",
     "text": [
      "[[0. 0.]\n",
      " [0. 0.]]\n",
      "[[1. 1.]]\n",
      "[[7 7]\n",
      " [7 7]]\n",
      "[[1. 0.]\n",
      " [0. 1.]]\n",
      "[[0.3879807  0.47180724]\n",
      " [0.41468476 0.01013212]]\n",
      "[ 1  4  7 10 13 16 19 22 25 28]\n",
      "[ 9  3 11  8 12 11 19 11  7  5]\n"
     ]
    }
   ],
   "source": [
    "a = np.zeros((2,2))   # Create an array of all zeros\n",
    "print(a)             \n",
    "                     \n",
    "b = np.ones((1,2))    # Create an array of all ones\n",
    "print(b)              \n",
    "\n",
    "c = np.full((2,2), 7)  # Create a constant array\n",
    "print(c)               \n",
    "\n",
    "d = np.eye(2)         # Create a 2x2 identity matrix\n",
    "print(d)              \n",
    "\n",
    "e = np.random.random((2,2))  # Create an array random values\n",
    "print(e)       \n",
    "\n",
    "f = np.arange(1,30,3) # Create an lineer array\n",
    "print(f)\n",
    "\n",
    "g = np.random.randint(20, size = 10) # Create random intetgers\n",
    "print(g)\n",
    "\n",
    "l = np.random.normal(20,5, (3,3)) # mean 20, std 5, shape (3,3)"
   ]
  },
  {
   "cell_type": "markdown",
   "metadata": {},
   "source": [
    "## Array Methods"
   ]
  },
  {
   "cell_type": "markdown",
   "metadata": {},
   "source": [
    "### Array Info"
   ]
  },
  {
   "cell_type": "code",
   "execution_count": 141,
   "metadata": {},
   "outputs": [],
   "source": [
    "import numpy as np"
   ]
  },
  {
   "cell_type": "code",
   "execution_count": 142,
   "metadata": {},
   "outputs": [
    {
     "name": "stdout",
     "output_type": "stream",
     "text": [
      "[[3 9 8]\n",
      " [3 6 7]\n",
      " [9 4 0]]\n"
     ]
    }
   ],
   "source": [
    "matrixNp = np.random.randint(10, size = (3,3))\n",
    "print(matrixNp)"
   ]
  },
  {
   "cell_type": "code",
   "execution_count": 143,
   "metadata": {},
   "outputs": [
    {
     "name": "stdout",
     "output_type": "stream",
     "text": [
      "2\n",
      "(3, 3)\n",
      "9\n",
      "int32\n"
     ]
    }
   ],
   "source": [
    "print(matrixNp.ndim) # dimention\n",
    "print(matrixNp.shape)\n",
    "print(matrixNp.size)\n",
    "print(matrixNp.dtype)"
   ]
  },
  {
   "cell_type": "markdown",
   "metadata": {},
   "source": [
    "### Reshaping"
   ]
  },
  {
   "cell_type": "code",
   "execution_count": 144,
   "metadata": {},
   "outputs": [],
   "source": [
    "import numpy as np"
   ]
  },
  {
   "cell_type": "code",
   "execution_count": 145,
   "metadata": {},
   "outputs": [
    {
     "name": "stdout",
     "output_type": "stream",
     "text": [
      "[[ 3  6  9]\n",
      " [12 15 18]\n",
      " [21 24 27]]\n"
     ]
    }
   ],
   "source": [
    "print(np.arange(3,28,3).reshape(3,3))"
   ]
  },
  {
   "cell_type": "markdown",
   "metadata": {},
   "source": [
    "### Concat"
   ]
  },
  {
   "cell_type": "code",
   "execution_count": 146,
   "metadata": {},
   "outputs": [],
   "source": [
    "import numpy as np"
   ]
  },
  {
   "cell_type": "markdown",
   "metadata": {},
   "source": [
    "#### 1D"
   ]
  },
  {
   "cell_type": "code",
   "execution_count": 147,
   "metadata": {},
   "outputs": [
    {
     "name": "stdout",
     "output_type": "stream",
     "text": [
      "[[ 1  2  3  4  5  6  7  8]\n",
      " [ 9 10 11 12 13 14 15 16]\n",
      " [17 18 19 20 21 22 23 40]\n",
      " [39 38 37 36 35 34 33 32]\n",
      " [31 30 29 28 27 26 25 24]\n",
      " [23 22 21 40 41 42 43 44]\n",
      " [45 46 47 48 49 50 51 52]\n",
      " [53 54 55 56 57 58 59 60]]\n"
     ]
    }
   ],
   "source": [
    "x = np.arange(1,24)\n",
    "y = np.arange(40,20,-1)\n",
    "z = np.arange(40,61)\n",
    "xyz = np.concatenate([x,y,z]).reshape(8,8)\n",
    "print(xyz)"
   ]
  },
  {
   "cell_type": "markdown",
   "metadata": {},
   "source": [
    "#### 2D"
   ]
  },
  {
   "cell_type": "code",
   "execution_count": 148,
   "metadata": {},
   "outputs": [],
   "source": [
    "x2d = np.arange(1,7).reshape(2,3)\n",
    "y2d = np.arange(8,14).reshape(2,3)\n",
    "z2d = np.arange(15,21).reshape(2,3)"
   ]
  },
  {
   "cell_type": "code",
   "execution_count": 149,
   "metadata": {},
   "outputs": [
    {
     "name": "stdout",
     "output_type": "stream",
     "text": [
      "[[ 1  2  3]\n",
      " [ 4  5  6]\n",
      " [ 8  9 10]\n",
      " [11 12 13]\n",
      " [15 16 17]\n",
      " [18 19 20]]\n"
     ]
    }
   ],
   "source": [
    "xyz2d = np.concatenate([x2d,y2d,z2d])\n",
    "print(xyz2d)"
   ]
  },
  {
   "cell_type": "code",
   "execution_count": 150,
   "metadata": {},
   "outputs": [
    {
     "name": "stdout",
     "output_type": "stream",
     "text": [
      "[[ 1  2  3  8  9 10 15 16 17]\n",
      " [ 4  5  6 11 12 13 18 19 20]]\n"
     ]
    }
   ],
   "source": [
    "xyz2d = np.concatenate([x2d,y2d,z2d], axis = 1)\n",
    "print(xyz2d)"
   ]
  },
  {
   "cell_type": "markdown",
   "metadata": {},
   "source": [
    "### Splitting"
   ]
  },
  {
   "cell_type": "code",
   "execution_count": 151,
   "metadata": {},
   "outputs": [],
   "source": [
    "import numpy as np"
   ]
  },
  {
   "cell_type": "markdown",
   "metadata": {},
   "source": [
    "#### 1D"
   ]
  },
  {
   "cell_type": "code",
   "execution_count": 152,
   "metadata": {},
   "outputs": [
    {
     "name": "stdout",
     "output_type": "stream",
     "text": [
      "[2 3 4 5 6]\n",
      "[ 7  8  9 10]\n",
      "[11 12 13 14]\n",
      "[15 16 17 18]\n",
      "[19 20 21 22]\n",
      "[23 24 25 26]\n",
      "[27 28 29]\n"
     ]
    }
   ],
   "source": [
    "splitArr = np.arange(2,30)\n",
    "a,b,c,d,e,f,g,l = np.split(splitArr, np.arange(5,30,4))\n",
    "for letter in \"abcdefg\":\n",
    "    print(locals()[letter])\n"
   ]
  },
  {
   "cell_type": "markdown",
   "metadata": {},
   "source": [
    "#### 2D"
   ]
  },
  {
   "cell_type": "code",
   "execution_count": 153,
   "metadata": {},
   "outputs": [],
   "source": [
    "splitArr2d = np.arange(16).reshape(4,4)\n",
    "verticalTop, verticalBot = np.vsplit(splitArr2d, [2])\n",
    "horizonalLeft, horizonalRigth = np.hsplit(splitArr2d, [2])"
   ]
  },
  {
   "cell_type": "code",
   "execution_count": 154,
   "metadata": {},
   "outputs": [
    {
     "name": "stdout",
     "output_type": "stream",
     "text": [
      "[[0 1 2 3]\n",
      " [4 5 6 7]]\n",
      "[[ 8  9 10 11]\n",
      " [12 13 14 15]]\n",
      "[[ 2  3]\n",
      " [ 6  7]\n",
      " [10 11]\n",
      " [14 15]]\n",
      "[[ 0  1]\n",
      " [ 4  5]\n",
      " [ 8  9]\n",
      " [12 13]]\n"
     ]
    }
   ],
   "source": [
    "print(verticalTop)\n",
    "print(verticalBot)\n",
    "print(horizonalRigth)\n",
    "print(horizonalLeft)"
   ]
  },
  {
   "cell_type": "markdown",
   "metadata": {},
   "source": [
    "### Sorting"
   ]
  },
  {
   "cell_type": "code",
   "execution_count": 155,
   "metadata": {},
   "outputs": [],
   "source": [
    "import numpy as np"
   ]
  },
  {
   "cell_type": "markdown",
   "metadata": {},
   "source": [
    "#### 1D"
   ]
  },
  {
   "cell_type": "code",
   "execution_count": 156,
   "metadata": {},
   "outputs": [
    {
     "name": "stdout",
     "output_type": "stream",
     "text": [
      "[63 13 85 46 74 66 88 75 84 34 19 21 68 81 26 33 87 94 23 55] \n",
      " [13 19 21 23 26 33 34 46 55 63 66 68 74 75 81 84 85 87 88 94]\n"
     ]
    }
   ],
   "source": [
    "randomArr = np.random.randint(10,100, size = 20)\n",
    "sortedArr = np.sort(randomArr)\n",
    "print(randomArr, \"\\n\", sortedArr)"
   ]
  },
  {
   "cell_type": "markdown",
   "metadata": {},
   "source": [
    "#### 2D"
   ]
  },
  {
   "cell_type": "code",
   "execution_count": 157,
   "metadata": {},
   "outputs": [],
   "source": [
    "randomArr2d = np.random.normal(20,5, (3,3))"
   ]
  },
  {
   "cell_type": "code",
   "execution_count": 158,
   "metadata": {},
   "outputs": [
    {
     "name": "stdout",
     "output_type": "stream",
     "text": [
      "[[16.10425892 20.21417328 26.13504076]\n",
      " [ 9.29776489 20.84521013 21.49351778]\n",
      " [13.88832037 16.24977777 24.26125737]]\n",
      "[[16.24977777 13.88832037  9.29776489]\n",
      " [20.21417328 21.49351778 16.10425892]\n",
      " [20.84521013 26.13504076 24.26125737]]\n"
     ]
    }
   ],
   "source": [
    "print(np.sort(randomArr2d, axis = 1))\n",
    "print(np.sort(randomArr2d, axis = 0))"
   ]
  },
  {
   "cell_type": "markdown",
   "metadata": {},
   "source": [
    "##### 2D sort by lineer"
   ]
  },
  {
   "cell_type": "code",
   "execution_count": 159,
   "metadata": {},
   "outputs": [
    {
     "name": "stdout",
     "output_type": "stream",
     "text": [
      "[[ 9.29776489 13.88832037 16.10425892]\n",
      " [16.24977777 20.21417328 20.84521013]\n",
      " [21.49351778 24.26125737 26.13504076]]\n"
     ]
    }
   ],
   "source": [
    "print(np.sort(randomArr2d.reshape(1,randomArr2d.size)).reshape(3,3))"
   ]
  },
  {
   "cell_type": "markdown",
   "metadata": {},
   "source": [
    "### Slicing Operations"
   ]
  },
  {
   "cell_type": "code",
   "execution_count": 160,
   "metadata": {},
   "outputs": [],
   "source": [
    "import numpy as np"
   ]
  },
  {
   "cell_type": "markdown",
   "metadata": {},
   "source": [
    "#### 1D"
   ]
  },
  {
   "cell_type": "code",
   "execution_count": 161,
   "metadata": {},
   "outputs": [
    {
     "name": "stdout",
     "output_type": "stream",
     "text": [
      "[9 4 3 2 1 0 9 1 6 7 3 0 2 0 9 3 1 6 5 2]\n",
      "9 2\n"
     ]
    }
   ],
   "source": [
    "indexArr = np.random.randint(0, 10, size = 20)\n",
    "print(indexArr)\n",
    "print(indexArr[0],indexArr[-1])"
   ]
  },
  {
   "cell_type": "code",
   "execution_count": 162,
   "metadata": {},
   "outputs": [
    {
     "name": "stdout",
     "output_type": "stream",
     "text": [
      "[9 4 3 2]\n",
      "[9 4 3 2]\n",
      "[1 0 9 1 6 7 3 0 2 0 9 3 1 6 5 2]\n",
      "[4 0 7 0 6]\n",
      "[2 6 3 0 0 7 1 0 2 4]\n"
     ]
    }
   ],
   "source": [
    "print(indexArr[0:4])\n",
    "print(indexArr[:4])\n",
    "print(indexArr[4:])\n",
    "print(indexArr[1::4])\n",
    "print(indexArr[::-2])"
   ]
  },
  {
   "cell_type": "markdown",
   "metadata": {},
   "source": [
    "#### 2D"
   ]
  },
  {
   "cell_type": "code",
   "execution_count": 163,
   "metadata": {},
   "outputs": [
    {
     "name": "stdout",
     "output_type": "stream",
     "text": [
      "[[5 1 6 7 1]\n",
      " [7 1 7 3 1]\n",
      " [2 1 1 1 8]\n",
      " [5 5 6 6 0]\n",
      " [3 9 1 7 5]]\n"
     ]
    }
   ],
   "source": [
    "indexArr2d = np.random.randint(10, size = (5,5))\n",
    "print(indexArr2d)"
   ]
  },
  {
   "cell_type": "code",
   "execution_count": 164,
   "metadata": {},
   "outputs": [
    {
     "name": "stdout",
     "output_type": "stream",
     "text": [
      "1 [5 7 2 5 3]\n",
      "2 [1 1 1 5 9]\n",
      "3 [1 1 8 0 5]\n",
      "4 [5 1 6 7 1]\n",
      "5 [5 1 6 7 1]\n",
      "6 [[2 1 1]]\n",
      "7 [[5 1]\n",
      " [7 1]\n",
      " [2 1]\n",
      " [5 5]\n",
      " [3 9]]\n",
      "8 [[7 1]\n",
      " [2 1]]\n"
     ]
    }
   ],
   "source": [
    "print(\"1\", indexArr2d[:,0])\n",
    "print(\"2\",indexArr2d[:,1])\n",
    "print(\"3\",indexArr2d[:,4])\n",
    "print(\"4\",indexArr2d[0,:])\n",
    "print(\"5\",indexArr2d[0])\n",
    "print(\"6\",indexArr2d[2:3,0:3])\n",
    "print(\"7\",indexArr2d[:,0:2])\n",
    "print(\"8\",indexArr2d[1:3,0:2])"
   ]
  },
  {
   "cell_type": "markdown",
   "metadata": {},
   "source": [
    "### Fancy Index ile Elemanlara Erişmek"
   ]
  },
  {
   "cell_type": "code",
   "execution_count": 165,
   "metadata": {},
   "outputs": [],
   "source": [
    "import numpy as np"
   ]
  },
  {
   "cell_type": "markdown",
   "metadata": {},
   "source": [
    "#### 1D"
   ]
  },
  {
   "cell_type": "code",
   "execution_count": 166,
   "metadata": {},
   "outputs": [
    {
     "name": "stdout",
     "output_type": "stream",
     "text": [
      "3 9 15\n"
     ]
    },
    {
     "data": {
      "text/plain": [
       "array([ 3,  9, 15])"
      ]
     },
     "execution_count": 166,
     "metadata": {},
     "output_type": "execute_result"
    }
   ],
   "source": [
    "v = np.arange(0, 30, 3)\n",
    "print(v[1],v[3],v[5])\n",
    "[v[1], v[3], v[5]]\n",
    "\n",
    "fancy = [1,3,5]\n",
    "v[fancy]"
   ]
  },
  {
   "cell_type": "markdown",
   "metadata": {},
   "source": [
    "#### 2D"
   ]
  },
  {
   "cell_type": "code",
   "execution_count": 167,
   "metadata": {},
   "outputs": [
    {
     "name": "stdout",
     "output_type": "stream",
     "text": [
      "[[0 1 2]\n",
      " [3 4 5]\n",
      " [6 7 8]]\n",
      "[1 5]\n"
     ]
    }
   ],
   "source": [
    "m = np.arange(9).reshape((3,3))\n",
    "print(m)\n",
    "row = np.array([0,1])\n",
    "colunm = np.array([1,2])\n",
    "print(m[row, colunm])"
   ]
  },
  {
   "cell_type": "markdown",
   "metadata": {},
   "source": [
    "Basit index ile fancy index"
   ]
  },
  {
   "cell_type": "code",
   "execution_count": 168,
   "metadata": {},
   "outputs": [
    {
     "name": "stdout",
     "output_type": "stream",
     "text": [
      "[[0 1 2]\n",
      " [3 4 5]\n",
      " [6 7 8]]\n"
     ]
    }
   ],
   "source": [
    "print(m)"
   ]
  },
  {
   "cell_type": "code",
   "execution_count": 169,
   "metadata": {},
   "outputs": [
    {
     "data": {
      "text/plain": [
       "array([1, 2])"
      ]
     },
     "execution_count": 169,
     "metadata": {},
     "output_type": "execute_result"
    }
   ],
   "source": [
    "m[0, [1,2]]"
   ]
  },
  {
   "cell_type": "markdown",
   "metadata": {},
   "source": [
    "Fancy ile Slice index"
   ]
  },
  {
   "cell_type": "code",
   "execution_count": 170,
   "metadata": {},
   "outputs": [
    {
     "data": {
      "text/plain": [
       "array([[1, 2],\n",
       "       [4, 5],\n",
       "       [7, 8]])"
      ]
     },
     "execution_count": 170,
     "metadata": {},
     "output_type": "execute_result"
    }
   ],
   "source": [
    "m[0:, [1,2]]"
   ]
  }
 ],
 "metadata": {
  "interpreter": {
   "hash": "3079d289965526a5670b083c2e31f1fa7e5a3c5f280ce501604a1ddbcd6b6c1d"
  },
  "kernelspec": {
   "display_name": "Python 3.8.8 64-bit ('base': conda)",
   "language": "python",
   "name": "python3"
  },
  "language_info": {
   "codemirror_mode": {
    "name": "ipython",
    "version": 3
   },
   "file_extension": ".py",
   "mimetype": "text/x-python",
   "name": "python",
   "nbconvert_exporter": "python",
   "pygments_lexer": "ipython3",
   "version": "3.8.8"
  },
  "orig_nbformat": 4
 },
 "nbformat": 4,
 "nbformat_minor": 2
}
