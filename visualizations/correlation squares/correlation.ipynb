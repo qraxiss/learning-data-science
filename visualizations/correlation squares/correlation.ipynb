{
 "cells": [
  {
   "cell_type": "code",
   "execution_count": 151,
   "metadata": {},
   "outputs": [],
   "source": [
    "import shape as sp\n",
    "import pandas as pd\n",
    "import numpy as np"
   ]
  },
  {
   "cell_type": "code",
   "execution_count": 156,
   "metadata": {},
   "outputs": [],
   "source": [
    "poly1 = np.array([])\n",
    "poly2 = np.array([])\n",
    "poly3 = np.array([])\n",
    "poly4 = np.array([])\n",
    "for i in range(1000):\n",
    "    regularShape = sp.Regular(i,4)\n",
    "    poly1 = np.append(poly1, regularShape.config()[1])\n",
    "    regularShape = sp.Regular(i,5)\n",
    "    poly2 = np.append(poly2, regularShape.config()[1])\n",
    "    regularShape = sp.Regular(i,6)\n",
    "    poly3 = np.append(poly3, regularShape.config()[1])\n",
    "    regularShape = sp.Regular(i,7)\n",
    "    poly4 = np.append(poly4, regularShape.config()[1])\n"
   ]
  },
  {
   "cell_type": "code",
   "execution_count": 157,
   "metadata": {},
   "outputs": [
    {
     "data": {
      "text/html": [
       "<div>\n",
       "<style scoped>\n",
       "    .dataframe tbody tr th:only-of-type {\n",
       "        vertical-align: middle;\n",
       "    }\n",
       "\n",
       "    .dataframe tbody tr th {\n",
       "        vertical-align: top;\n",
       "    }\n",
       "\n",
       "    .dataframe thead th {\n",
       "        text-align: right;\n",
       "    }\n",
       "</style>\n",
       "<table border=\"1\" class=\"dataframe\">\n",
       "  <thead>\n",
       "    <tr style=\"text-align: right;\">\n",
       "      <th></th>\n",
       "      <th>square</th>\n",
       "      <th>pentagon</th>\n",
       "      <th>hexagon</th>\n",
       "      <th>heptagon</th>\n",
       "    </tr>\n",
       "  </thead>\n",
       "  <tbody>\n",
       "    <tr>\n",
       "      <th>0</th>\n",
       "      <td>0.0</td>\n",
       "      <td>0.0</td>\n",
       "      <td>0.0</td>\n",
       "      <td>0.0</td>\n",
       "    </tr>\n",
       "    <tr>\n",
       "      <th>1</th>\n",
       "      <td>1.0</td>\n",
       "      <td>1.0</td>\n",
       "      <td>2.0</td>\n",
       "      <td>3.0</td>\n",
       "    </tr>\n",
       "    <tr>\n",
       "      <th>2</th>\n",
       "      <td>4.0</td>\n",
       "      <td>6.0</td>\n",
       "      <td>10.0</td>\n",
       "      <td>14.0</td>\n",
       "    </tr>\n",
       "    <tr>\n",
       "      <th>3</th>\n",
       "      <td>9.0</td>\n",
       "      <td>15.0</td>\n",
       "      <td>23.0</td>\n",
       "      <td>32.0</td>\n",
       "    </tr>\n",
       "  </tbody>\n",
       "</table>\n",
       "</div>"
      ],
      "text/plain": [
       "   square  pentagon  hexagon  heptagon\n",
       "0     0.0       0.0      0.0       0.0\n",
       "1     1.0       1.0      2.0       3.0\n",
       "2     4.0       6.0     10.0      14.0\n",
       "3     9.0      15.0     23.0      32.0"
      ]
     },
     "execution_count": 157,
     "metadata": {},
     "output_type": "execute_result"
    }
   ],
   "source": [
    "polygon_df = pd.DataFrame(poly1, columns=[\"square\"])\n",
    "polygon_df[\"pentagon\"] = poly2\n",
    "polygon_df[\"hexagon\"] = poly3\n",
    "polygon_df[\"heptagon\"] = poly4\n",
    "\n",
    "polygon_df.head(4)"
   ]
  },
  {
   "cell_type": "code",
   "execution_count": 159,
   "metadata": {},
   "outputs": [
    {
     "data": {
      "image/png": "[encoded data removed]",
      "text/plain": [
       "<Figure size 432x288 with 1 Axes>"
      ]
     },
     "metadata": {
      "needs_background": "light"
     },
     "output_type": "display_data"
    }
   ],
   "source": [
    "import seaborn as sns\n",
    "sns.lineplot(y=polygon_df[\"square\"], x = polygon_df[\"square\"].index);\n",
    "sns.lineplot(y=polygon_df[\"pentagon\"], x = polygon_df[\"pentagon\"].index);\n",
    "sns.lineplot(y=polygon_df[\"hexagon\"], x = polygon_df[\"hexagon\"].index);\n",
    "sns.lineplot(y=polygon_df[\"heptagon\"], x = polygon_df[\"heptagon\"].index);\n",
    "\n",
    "\n"
   ]
  }
 ],
 "metadata": {
  "interpreter": {
   "hash": "3079d289965526a5670b083c2e31f1fa7e5a3c5f280ce501604a1ddbcd6b6c1d"
  },
  "kernelspec": {
   "display_name": "Python 3.8.8 64-bit ('base': conda)",
   "language": "python",
   "name": "python3"
  },
  "language_info": {
   "codemirror_mode": {
    "name": "ipython",
    "version": 3
   },
   "file_extension": ".py",
   "mimetype": "text/x-python",
   "name": "python",
   "nbconvert_exporter": "python",
   "pygments_lexer": "ipython3",
   "version": "3.8.8"
  },
  "orig_nbformat": 4
 },
 "nbformat": 4,
 "nbformat_minor": 2
}
