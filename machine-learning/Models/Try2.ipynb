{
 "cells": [
  {
   "cell_type": "markdown",
   "metadata": {},
   "source": [
    "# Train Data"
   ]
  },
  {
   "cell_type": "code",
   "execution_count": 248,
   "metadata": {},
   "outputs": [],
   "source": [
    "import datetime as dt\n",
    "import yfinance as yf\n",
    "import pandas as pd\n",
    "from ta.volatility import BollingerBands"
   ]
  },
  {
   "cell_type": "code",
   "execution_count": 249,
   "metadata": {},
   "outputs": [
    {
     "data": {
      "text/html": [
       "<div>\n",
       "<style scoped>\n",
       "    .dataframe tbody tr th:only-of-type {\n",
       "        vertical-align: middle;\n",
       "    }\n",
       "\n",
       "    .dataframe tbody tr th {\n",
       "        vertical-align: top;\n",
       "    }\n",
       "\n",
       "    .dataframe thead th {\n",
       "        text-align: right;\n",
       "    }\n",
       "</style>\n",
       "<table border=\"1\" class=\"dataframe\">\n",
       "  <thead>\n",
       "    <tr style=\"text-align: right;\">\n",
       "      <th></th>\n",
       "      <th>Bollinger</th>\n",
       "      <th>Next Day</th>\n",
       "    </tr>\n",
       "    <tr>\n",
       "      <th>Date</th>\n",
       "      <th></th>\n",
       "      <th></th>\n",
       "    </tr>\n",
       "  </thead>\n",
       "  <tbody>\n",
       "    <tr>\n",
       "      <th>2016-01-19</th>\n",
       "      <td>477.446889</td>\n",
       "      <td>420.230011</td>\n",
       "    </tr>\n",
       "    <tr>\n",
       "      <th>2016-01-20</th>\n",
       "      <td>476.861536</td>\n",
       "      <td>410.261993</td>\n",
       "    </tr>\n",
       "    <tr>\n",
       "      <th>2016-01-21</th>\n",
       "      <td>475.699907</td>\n",
       "      <td>382.492004</td>\n",
       "    </tr>\n",
       "    <tr>\n",
       "      <th>2016-01-22</th>\n",
       "      <td>475.558275</td>\n",
       "      <td>387.490997</td>\n",
       "    </tr>\n",
       "    <tr>\n",
       "      <th>2016-01-23</th>\n",
       "      <td>474.902889</td>\n",
       "      <td>402.971008</td>\n",
       "    </tr>\n",
       "  </tbody>\n",
       "</table>\n",
       "</div>"
      ],
      "text/plain": [
       "             Bollinger    Next Day\n",
       "Date                              \n",
       "2016-01-19  477.446889  420.230011\n",
       "2016-01-20  476.861536  410.261993\n",
       "2016-01-21  475.699907  382.492004\n",
       "2016-01-22  475.558275  387.490997\n",
       "2016-01-23  474.902889  402.971008"
      ]
     },
     "execution_count": 249,
     "metadata": {},
     "output_type": "execute_result"
    }
   ],
   "source": [
    "btc = yf.Ticker(\"BTC-USD\")\n",
    "\n",
    "startDate = dt.datetime(2016,1,1)\n",
    "endDate = dt.datetime(2021,1,1)\n",
    "\n",
    "btcTrain = btc.history(start=startDate, end=endDate)[[\"Open\", \"Close\"]]\n",
    "\n",
    "bollinger = BollingerBands(close=btcTrain[\"Close\"], window=20, window_dev=2)\n",
    "btcTrain['Bollinger'] = bollinger.bollinger_hband()\n",
    "\n",
    "startDate = dt.datetime(2016,1,1)\n",
    "endDate = dt.datetime(2021,1,1)\n",
    "\n",
    "btcTrain[\"Next Day\"] = btc.history(start=startDate, end=endDate)[\"Close\"]\n",
    "\n",
    "# Index Esitleme\n",
    "startDate = dt.datetime(2016,1,2)\n",
    "endDate = dt.datetime(2021,1,2)\n",
    "NextDay = btc.history(start=startDate, end=endDate)[[\"Close\"]]\n",
    "NextDay.set_index(btcTrain.index, inplace=True)\n",
    "btcTrain[\"Next Day\"] = NextDay[\"Close\"]\n",
    "\n",
    "btcTrain=btcTrain[19:]\n",
    "btcTrain.head()"
   ]
  },
  {
   "cell_type": "markdown",
   "metadata": {},
   "source": [
    "# Test Data"
   ]
  },
  {
   "cell_type": "code",
   "execution_count": 250,
   "metadata": {},
   "outputs": [
    {
     "data": {
      "text/html": [
       "<div>\n",
       "<style scoped>\n",
       "    .dataframe tbody tr th:only-of-type {\n",
       "        vertical-align: middle;\n",
       "    }\n",
       "\n",
       "    .dataframe tbody tr th {\n",
       "        vertical-align: top;\n",
       "    }\n",
       "\n",
       "    .dataframe thead th {\n",
       "        text-align: right;\n",
       "    }\n",
       "</style>\n",
       "<table border=\"1\" class=\"dataframe\">\n",
       "  <thead>\n",
       "    <tr style=\"text-align: right;\">\n",
       "      <th></th>\n",
       "      <th>Bollinger</th>\n",
       "      <th>Next Day</th>\n",
       "    </tr>\n",
       "    <tr>\n",
       "      <th>Date</th>\n",
       "      <th></th>\n",
       "      <th></th>\n",
       "    </tr>\n",
       "  </thead>\n",
       "  <tbody>\n",
       "    <tr>\n",
       "      <th>2021-01-19</th>\n",
       "      <td>42125.853513</td>\n",
       "      <td>35547.750000</td>\n",
       "    </tr>\n",
       "    <tr>\n",
       "      <th>2021-01-20</th>\n",
       "      <td>41704.938542</td>\n",
       "      <td>30825.699219</td>\n",
       "    </tr>\n",
       "    <tr>\n",
       "      <th>2021-01-21</th>\n",
       "      <td>41473.107131</td>\n",
       "      <td>33005.761719</td>\n",
       "    </tr>\n",
       "    <tr>\n",
       "      <th>2021-01-22</th>\n",
       "      <td>41404.043859</td>\n",
       "      <td>32067.642578</td>\n",
       "    </tr>\n",
       "    <tr>\n",
       "      <th>2021-01-23</th>\n",
       "      <td>41464.214588</td>\n",
       "      <td>32289.378906</td>\n",
       "    </tr>\n",
       "  </tbody>\n",
       "</table>\n",
       "</div>"
      ],
      "text/plain": [
       "               Bollinger      Next Day\n",
       "Date                                  \n",
       "2021-01-19  42125.853513  35547.750000\n",
       "2021-01-20  41704.938542  30825.699219\n",
       "2021-01-21  41473.107131  33005.761719\n",
       "2021-01-22  41404.043859  32067.642578\n",
       "2021-01-23  41464.214588  32289.378906"
      ]
     },
     "execution_count": 250,
     "metadata": {},
     "output_type": "execute_result"
    }
   ],
   "source": [
    "btc = yf.Ticker(\"BTC-USD\")\n",
    "\n",
    "startDate = dt.datetime(2021,1,1)\n",
    "endDate = dt.datetime(2022,1,1)\n",
    "\n",
    "btcTest = btc.history(start=startDate, end=endDate)[[\"Open\", \"Close\"]]\n",
    "\n",
    "bollinger = BollingerBands(close=btcTest[\"Close\"], window=20, window_dev=2)\n",
    "btcTest[\"Bollinger\"] = pd.DataFrame(bollinger.bollinger_hband()).set_index(btcTest.index)\n",
    "\n",
    "startDate = dt.datetime(2021,1,1)\n",
    "endDate = dt.datetime(2022,1,1)\n",
    "\n",
    "btcTest[\"Next Day\"] = btc.history(start=startDate, end=endDate)[\"Close\"]\n",
    "\n",
    "# Index Esitleme\n",
    "startDate = dt.datetime(2021,1,2)\n",
    "endDate = dt.datetime(2022,1,2)\n",
    "NextDay = btc.history(start=startDate, end=endDate)[[\"Close\"]]\n",
    "NextDay.set_index(btcTest.index, inplace=True)\n",
    "btcTest[\"Next Day\"] = NextDay[\"Close\"]\n",
    "\n",
    "btcTest=btcTest[19:]\n",
    "btcTest.head()"
   ]
  },
  {
   "cell_type": "markdown",
   "metadata": {},
   "source": [
    "___"
   ]
  },
  {
   "cell_type": "code",
   "execution_count": 251,
   "metadata": {},
   "outputs": [],
   "source": [
    "y_train, X_train = btcTrain[\"Next Day\"], btcTrain.drop(\"Next Day\", axis=1)"
   ]
  },
  {
   "cell_type": "markdown",
   "metadata": {},
   "source": [
    "# Statsmodels"
   ]
  },
  {
   "cell_type": "code",
   "execution_count": 252,
   "metadata": {},
   "outputs": [],
   "source": [
    "import statsmodels.api as sm"
   ]
  },
  {
   "cell_type": "code",
   "execution_count": 253,
   "metadata": {},
   "outputs": [
    {
     "data": {
      "text/html": [
       "<table class=\"simpletable\">\n",
       "<caption>OLS Regression Results</caption>\n",
       "<tr>\n",
       "  <th>Dep. Variable:</th>        <td>Next Day</td>     <th>  R-squared (uncentered):</th>      <td>   0.983</td> \n",
       "</tr>\n",
       "<tr>\n",
       "  <th>Model:</th>                   <td>OLS</td>       <th>  Adj. R-squared (uncentered):</th> <td>   0.983</td> \n",
       "</tr>\n",
       "<tr>\n",
       "  <th>Method:</th>             <td>Least Squares</td>  <th>  F-statistic:       </th>          <td>1.057e+05</td>\n",
       "</tr>\n",
       "<tr>\n",
       "  <th>Date:</th>             <td>Wed, 12 Jan 2022</td> <th>  Prob (F-statistic):</th>           <td>  0.00</td>  \n",
       "</tr>\n",
       "<tr>\n",
       "  <th>Time:</th>                 <td>22:30:11</td>     <th>  Log-Likelihood:    </th>          <td> -15086.</td> \n",
       "</tr>\n",
       "<tr>\n",
       "  <th>No. Observations:</th>      <td>  1809</td>      <th>  AIC:               </th>          <td>3.017e+04</td>\n",
       "</tr>\n",
       "<tr>\n",
       "  <th>Df Residuals:</th>          <td>  1808</td>      <th>  BIC:               </th>          <td>3.018e+04</td>\n",
       "</tr>\n",
       "<tr>\n",
       "  <th>Df Model:</th>              <td>     1</td>      <th>                     </th>              <td> </td>    \n",
       "</tr>\n",
       "<tr>\n",
       "  <th>Covariance Type:</th>      <td>nonrobust</td>    <th>                     </th>              <td> </td>    \n",
       "</tr>\n",
       "</table>\n",
       "<table class=\"simpletable\">\n",
       "<tr>\n",
       "      <td></td>         <th>coef</th>     <th>std err</th>      <th>t</th>      <th>P>|t|</th>  <th>[0.025</th>    <th>0.975]</th>  \n",
       "</tr>\n",
       "<tr>\n",
       "  <th>Bollinger</th> <td>    0.8952</td> <td>    0.003</td> <td>  325.191</td> <td> 0.000</td> <td>    0.890</td> <td>    0.901</td>\n",
       "</tr>\n",
       "</table>\n",
       "<table class=\"simpletable\">\n",
       "<tr>\n",
       "  <th>Omnibus:</th>       <td>593.302</td> <th>  Durbin-Watson:     </th> <td>   0.122</td>\n",
       "</tr>\n",
       "<tr>\n",
       "  <th>Prob(Omnibus):</th> <td> 0.000</td>  <th>  Jarque-Bera (JB):  </th> <td>3898.396</td>\n",
       "</tr>\n",
       "<tr>\n",
       "  <th>Skew:</th>          <td>-1.375</td>  <th>  Prob(JB):          </th> <td>    0.00</td>\n",
       "</tr>\n",
       "<tr>\n",
       "  <th>Kurtosis:</th>      <td> 9.645</td>  <th>  Cond. No.          </th> <td>    1.00</td>\n",
       "</tr>\n",
       "</table><br/><br/>Notes:<br/>[1] R² is computed without centering (uncentered) since the model does not contain a constant.<br/>[2] Standard Errors assume that the covariance matrix of the errors is correctly specified."
      ],
      "text/plain": [
       "<class 'statsmodels.iolib.summary.Summary'>\n",
       "\"\"\"\n",
       "                                 OLS Regression Results                                \n",
       "=======================================================================================\n",
       "Dep. Variable:               Next Day   R-squared (uncentered):                   0.983\n",
       "Model:                            OLS   Adj. R-squared (uncentered):              0.983\n",
       "Method:                 Least Squares   F-statistic:                          1.057e+05\n",
       "Date:                Wed, 12 Jan 2022   Prob (F-statistic):                        0.00\n",
       "Time:                        22:30:11   Log-Likelihood:                         -15086.\n",
       "No. Observations:                1809   AIC:                                  3.017e+04\n",
       "Df Residuals:                    1808   BIC:                                  3.018e+04\n",
       "Df Model:                           1                                                  \n",
       "Covariance Type:            nonrobust                                                  \n",
       "==============================================================================\n",
       "                 coef    std err          t      P>|t|      [0.025      0.975]\n",
       "------------------------------------------------------------------------------\n",
       "Bollinger      0.8952      0.003    325.191      0.000       0.890       0.901\n",
       "==============================================================================\n",
       "Omnibus:                      593.302   Durbin-Watson:                   0.122\n",
       "Prob(Omnibus):                  0.000   Jarque-Bera (JB):             3898.396\n",
       "Skew:                          -1.375   Prob(JB):                         0.00\n",
       "Kurtosis:                       9.645   Cond. No.                         1.00\n",
       "==============================================================================\n",
       "\n",
       "Notes:\n",
       "[1] R² is computed without centering (uncentered) since the model does not contain a constant.\n",
       "[2] Standard Errors assume that the covariance matrix of the errors is correctly specified.\n",
       "\"\"\""
      ]
     },
     "execution_count": 253,
     "metadata": {},
     "output_type": "execute_result"
    }
   ],
   "source": [
    "lm = sm.OLS(y_train, X_train)\n",
    "model = lm.fit()\n",
    "model.summary()"
   ]
  },
  {
   "cell_type": "markdown",
   "metadata": {},
   "source": [
    "# Model Sklearn"
   ]
  },
  {
   "cell_type": "code",
   "execution_count": 254,
   "metadata": {},
   "outputs": [],
   "source": [
    "from sklearn.linear_model import LinearRegression"
   ]
  },
  {
   "cell_type": "code",
   "execution_count": 255,
   "metadata": {},
   "outputs": [],
   "source": [
    "skitLm = LinearRegression()\n",
    "modelSkiLm = skitLm.fit(X_train, y_train)"
   ]
  },
  {
   "cell_type": "markdown",
   "metadata": {},
   "source": [
    "## Visualitizion"
   ]
  },
  {
   "cell_type": "code",
   "execution_count": 256,
   "metadata": {},
   "outputs": [],
   "source": [
    "import seaborn as sns"
   ]
  },
  {
   "cell_type": "code",
   "execution_count": 257,
   "metadata": {},
   "outputs": [],
   "source": [
    "prediction = []\n",
    "for i in range(btcTest.shape[0]):\n",
    "    data = []\n",
    "    for j in range(1):\n",
    "        data.append([btcTest.iloc[i][j]])\n",
    "    data = pd.DataFrame(data).T\n",
    "    prediction.append(modelSkiLm.predict(data)[0])"
   ]
  },
  {
   "cell_type": "code",
   "execution_count": 258,
   "metadata": {},
   "outputs": [
    {
     "data": {
      "image/png": "[encoded data removed]",
      "text/plain": [
       "<Figure size 432x288 with 1 Axes>"
      ]
     },
     "metadata": {
      "needs_background": "light"
     },
     "output_type": "display_data"
    }
   ],
   "source": [
    "sns.lineplot(y=prediction, x=btcTest.index,color=\"red\")\n",
    "sns.lineplot(y=btcTest[\"Next Day\"], x=btcTest.index);"
   ]
  },
  {
   "cell_type": "code",
   "execution_count": null,
   "metadata": {},
   "outputs": [],
   "source": []
  }
 ],
 "metadata": {
  "interpreter": {
   "hash": "3079d289965526a5670b083c2e31f1fa7e5a3c5f280ce501604a1ddbcd6b6c1d"
  },
  "kernelspec": {
   "display_name": "Python 3.8.8 64-bit ('base': conda)",
   "language": "python",
   "name": "python3"
  },
  "language_info": {
   "codemirror_mode": {
    "name": "ipython",
    "version": 3
   },
   "file_extension": ".py",
   "mimetype": "text/x-python",
   "name": "python",
   "nbconvert_exporter": "python",
   "pygments_lexer": "ipython3",
   "version": "3.8.8"
  },
  "orig_nbformat": 4
 },
 "nbformat": 4,
 "nbformat_minor": 2
}
