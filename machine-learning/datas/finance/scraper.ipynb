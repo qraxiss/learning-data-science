{
 "cells": [
  {
   "cell_type": "code",
   "execution_count": 1,
   "metadata": {},
   "outputs": [],
   "source": [
    "import pipeline as pl\n",
    "import datetime as dt\n",
    "import pandas as pd\n",
    "import ta "
   ]
  },
  {
   "cell_type": "code",
   "execution_count": 4,
   "metadata": {},
   "outputs": [],
   "source": [
    "start = dt.datetime(2022,1,1,0,0)\n",
    "end = dt.datetime(2022,1,8,0,0)\n",
    "data = pl.currency(\"BTC-USD\", \"5m\", start=start, end=end)\n",
    "\n",
    "start = dt.datetime(2022,1,1,0,5)\n",
    "end = dt.datetime(2022,1,8,0,5)\n",
    "pl.next_close(\"BTC-USD\", \"5m\", start=start, end=end, df=data)"
   ]
  },
  {
   "cell_type": "code",
   "execution_count": 13,
   "metadata": {},
   "outputs": [],
   "source": [
    "with open(\"5m.csv\", \"+a\") as file:\n",
    "    file.write(data.to_csv(sep = \",\"))"
   ]
  },
  {
   "cell_type": "code",
   "execution_count": null,
   "metadata": {},
   "outputs": [],
   "source": []
  }
 ],
 "metadata": {
  "interpreter": {
   "hash": "3079d289965526a5670b083c2e31f1fa7e5a3c5f280ce501604a1ddbcd6b6c1d"
  },
  "kernelspec": {
   "display_name": "Python 3.8.8 64-bit ('base': conda)",
   "language": "python",
   "name": "python3"
  },
  "language_info": {
   "codemirror_mode": {
    "name": "ipython",
    "version": 3
   },
   "file_extension": ".py",
   "mimetype": "text/x-python",
   "name": "python",
   "nbconvert_exporter": "python",
   "pygments_lexer": "ipython3",
   "version": "3.8.8"
  },
  "orig_nbformat": 4
 },
 "nbformat": 4,
 "nbformat_minor": 2
}
