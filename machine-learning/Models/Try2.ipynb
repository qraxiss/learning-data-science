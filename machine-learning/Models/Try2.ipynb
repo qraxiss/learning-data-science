{
 "cells": [
  {
   "cell_type": "markdown",
   "metadata": {},
   "source": [
    "# Train Data"
   ]
  },
  {
   "cell_type": "code",
   "execution_count": 269,
   "metadata": {},
   "outputs": [],
   "source": [
    "import datetime as dt\n",
    "import yfinance as yf\n",
    "import pandas as pd\n",
    "from ta.volatility import BollingerBands"
   ]
  },
  {
   "cell_type": "code",
   "execution_count": 270,
   "metadata": {},
   "outputs": [
    {
     "data": {
      "text/html": [
       "<div>\n",
       "<style scoped>\n",
       "    .dataframe tbody tr th:only-of-type {\n",
       "        vertical-align: middle;\n",
       "    }\n",
       "\n",
       "    .dataframe tbody tr th {\n",
       "        vertical-align: top;\n",
       "    }\n",
       "\n",
       "    .dataframe thead th {\n",
       "        text-align: right;\n",
       "    }\n",
       "</style>\n",
       "<table border=\"1\" class=\"dataframe\">\n",
       "  <thead>\n",
       "    <tr style=\"text-align: right;\">\n",
       "      <th></th>\n",
       "      <th>Open</th>\n",
       "      <th>Close</th>\n",
       "      <th>Bollinger</th>\n",
       "      <th>Next Day</th>\n",
       "    </tr>\n",
       "    <tr>\n",
       "      <th>Date</th>\n",
       "      <th></th>\n",
       "      <th></th>\n",
       "      <th></th>\n",
       "      <th></th>\n",
       "    </tr>\n",
       "  </thead>\n",
       "  <tbody>\n",
       "    <tr>\n",
       "      <th>2016-01-19</th>\n",
       "      <td>387.026001</td>\n",
       "      <td>380.148987</td>\n",
       "      <td>477.446889</td>\n",
       "      <td>420.230011</td>\n",
       "    </tr>\n",
       "    <tr>\n",
       "      <th>2016-01-20</th>\n",
       "      <td>379.739990</td>\n",
       "      <td>420.230011</td>\n",
       "      <td>476.861536</td>\n",
       "      <td>410.261993</td>\n",
       "    </tr>\n",
       "    <tr>\n",
       "      <th>2016-01-21</th>\n",
       "      <td>419.631989</td>\n",
       "      <td>410.261993</td>\n",
       "      <td>475.699907</td>\n",
       "      <td>382.492004</td>\n",
       "    </tr>\n",
       "    <tr>\n",
       "      <th>2016-01-22</th>\n",
       "      <td>409.751007</td>\n",
       "      <td>382.492004</td>\n",
       "      <td>475.558275</td>\n",
       "      <td>387.490997</td>\n",
       "    </tr>\n",
       "    <tr>\n",
       "      <th>2016-01-23</th>\n",
       "      <td>382.433990</td>\n",
       "      <td>387.490997</td>\n",
       "      <td>474.902889</td>\n",
       "      <td>402.971008</td>\n",
       "    </tr>\n",
       "  </tbody>\n",
       "</table>\n",
       "</div>"
      ],
      "text/plain": [
       "                  Open       Close   Bollinger    Next Day\n",
       "Date                                                      \n",
       "2016-01-19  387.026001  380.148987  477.446889  420.230011\n",
       "2016-01-20  379.739990  420.230011  476.861536  410.261993\n",
       "2016-01-21  419.631989  410.261993  475.699907  382.492004\n",
       "2016-01-22  409.751007  382.492004  475.558275  387.490997\n",
       "2016-01-23  382.433990  387.490997  474.902889  402.971008"
      ]
     },
     "execution_count": 270,
     "metadata": {},
     "output_type": "execute_result"
    }
   ],
   "source": [
    "btc = yf.Ticker(\"BTC-USD\")\n",
    "\n",
    "startDate = dt.datetime(2016,1,1)\n",
    "endDate = dt.datetime(2021,1,1)\n",
    "\n",
    "btcTrain = btc.history(start=startDate, end=endDate)[[\"Open\", \"Close\"]]\n",
    "\n",
    "bollinger = BollingerBands(close=btcTrain[\"Close\"], window=20, window_dev=2)\n",
    "btcTrain['Bollinger'] = bollinger.bollinger_hband()\n",
    "\n",
    "startDate = dt.datetime(2016,1,1)\n",
    "endDate = dt.datetime(2021,1,1)\n",
    "\n",
    "btcTrain[\"Next Day\"] = btc.history(start=startDate, end=endDate)[\"Close\"]\n",
    "\n",
    "# Index Esitleme\n",
    "startDate = dt.datetime(2016,1,2)\n",
    "endDate = dt.datetime(2021,1,2)\n",
    "NextDay = btc.history(start=startDate, end=endDate)[[\"Close\"]]\n",
    "NextDay.set_index(btcTrain.index, inplace=True)\n",
    "btcTrain[\"Next Day\"] = NextDay[\"Close\"]\n",
    "\n",
    "btcTrain=btcTrain[19:]\n",
    "btcTrain.head()"
   ]
  },
  {
   "cell_type": "markdown",
   "metadata": {},
   "source": [
    "# Test Data"
   ]
  },
  {
   "cell_type": "code",
   "execution_count": 271,
   "metadata": {},
   "outputs": [
    {
     "data": {
      "text/html": [
       "<div>\n",
       "<style scoped>\n",
       "    .dataframe tbody tr th:only-of-type {\n",
       "        vertical-align: middle;\n",
       "    }\n",
       "\n",
       "    .dataframe tbody tr th {\n",
       "        vertical-align: top;\n",
       "    }\n",
       "\n",
       "    .dataframe thead th {\n",
       "        text-align: right;\n",
       "    }\n",
       "</style>\n",
       "<table border=\"1\" class=\"dataframe\">\n",
       "  <thead>\n",
       "    <tr style=\"text-align: right;\">\n",
       "      <th></th>\n",
       "      <th>Open</th>\n",
       "      <th>Close</th>\n",
       "      <th>Bollinger</th>\n",
       "      <th>Next Day</th>\n",
       "    </tr>\n",
       "    <tr>\n",
       "      <th>Date</th>\n",
       "      <th></th>\n",
       "      <th></th>\n",
       "      <th></th>\n",
       "      <th></th>\n",
       "    </tr>\n",
       "  </thead>\n",
       "  <tbody>\n",
       "    <tr>\n",
       "      <th>2021-01-19</th>\n",
       "      <td>36642.234375</td>\n",
       "      <td>36069.804688</td>\n",
       "      <td>42125.853513</td>\n",
       "      <td>35547.750000</td>\n",
       "    </tr>\n",
       "    <tr>\n",
       "      <th>2021-01-20</th>\n",
       "      <td>36050.113281</td>\n",
       "      <td>35547.750000</td>\n",
       "      <td>41704.938542</td>\n",
       "      <td>30825.699219</td>\n",
       "    </tr>\n",
       "    <tr>\n",
       "      <th>2021-01-21</th>\n",
       "      <td>35549.398438</td>\n",
       "      <td>30825.699219</td>\n",
       "      <td>41473.107131</td>\n",
       "      <td>33005.761719</td>\n",
       "    </tr>\n",
       "    <tr>\n",
       "      <th>2021-01-22</th>\n",
       "      <td>30817.625000</td>\n",
       "      <td>33005.761719</td>\n",
       "      <td>41404.043859</td>\n",
       "      <td>32067.642578</td>\n",
       "    </tr>\n",
       "    <tr>\n",
       "      <th>2021-01-23</th>\n",
       "      <td>32985.757812</td>\n",
       "      <td>32067.642578</td>\n",
       "      <td>41464.214588</td>\n",
       "      <td>32289.378906</td>\n",
       "    </tr>\n",
       "  </tbody>\n",
       "</table>\n",
       "</div>"
      ],
      "text/plain": [
       "                    Open         Close     Bollinger      Next Day\n",
       "Date                                                              \n",
       "2021-01-19  36642.234375  36069.804688  42125.853513  35547.750000\n",
       "2021-01-20  36050.113281  35547.750000  41704.938542  30825.699219\n",
       "2021-01-21  35549.398438  30825.699219  41473.107131  33005.761719\n",
       "2021-01-22  30817.625000  33005.761719  41404.043859  32067.642578\n",
       "2021-01-23  32985.757812  32067.642578  41464.214588  32289.378906"
      ]
     },
     "execution_count": 271,
     "metadata": {},
     "output_type": "execute_result"
    }
   ],
   "source": [
    "btc = yf.Ticker(\"BTC-USD\")\n",
    "\n",
    "startDate = dt.datetime(2021,1,1)\n",
    "endDate = dt.datetime(2022,1,1)\n",
    "\n",
    "btcTest = btc.history(start=startDate, end=endDate)[[\"Open\", \"Close\"]]\n",
    "\n",
    "bollinger = BollingerBands(close=btcTest[\"Close\"], window=20, window_dev=2)\n",
    "btcTest[\"Bollinger\"] = pd.DataFrame(bollinger.bollinger_hband()).set_index(btcTest.index)\n",
    "\n",
    "startDate = dt.datetime(2021,1,1)\n",
    "endDate = dt.datetime(2022,1,1)\n",
    "\n",
    "btcTest[\"Next Day\"] = btc.history(start=startDate, end=endDate)[\"Close\"]\n",
    "\n",
    "# Index Esitleme\n",
    "startDate = dt.datetime(2021,1,2)\n",
    "endDate = dt.datetime(2022,1,2)\n",
    "NextDay = btc.history(start=startDate, end=endDate)[[\"Close\"]]\n",
    "NextDay.set_index(btcTest.index, inplace=True)\n",
    "btcTest[\"Next Day\"] = NextDay[\"Close\"]\n",
    "\n",
    "btcTest=btcTest[19:]\n",
    "btcTest.head()"
   ]
  },
  {
   "cell_type": "markdown",
   "metadata": {},
   "source": [
    "___"
   ]
  },
  {
   "cell_type": "code",
   "execution_count": 272,
   "metadata": {},
   "outputs": [],
   "source": [
    "y_train, X_train = btcTrain[\"Next Day\"], btcTrain.drop(\"Next Day\", axis=1)"
   ]
  },
  {
   "cell_type": "markdown",
   "metadata": {},
   "source": [
    "# Statsmodels"
   ]
  },
  {
   "cell_type": "code",
   "execution_count": 273,
   "metadata": {},
   "outputs": [],
   "source": [
    "import statsmodels.api as sm"
   ]
  },
  {
   "cell_type": "code",
   "execution_count": 274,
   "metadata": {},
   "outputs": [
    {
     "data": {
      "text/html": [
       "<table class=\"simpletable\">\n",
       "<caption>OLS Regression Results</caption>\n",
       "<tr>\n",
       "  <th>Dep. Variable:</th>        <td>Next Day</td>     <th>  R-squared (uncentered):</th>      <td>   0.998</td> \n",
       "</tr>\n",
       "<tr>\n",
       "  <th>Model:</th>                   <td>OLS</td>       <th>  Adj. R-squared (uncentered):</th> <td>   0.998</td> \n",
       "</tr>\n",
       "<tr>\n",
       "  <th>Method:</th>             <td>Least Squares</td>  <th>  F-statistic:       </th>          <td>3.148e+05</td>\n",
       "</tr>\n",
       "<tr>\n",
       "  <th>Date:</th>             <td>Wed, 12 Jan 2022</td> <th>  Prob (F-statistic):</th>           <td>  0.00</td>  \n",
       "</tr>\n",
       "<tr>\n",
       "  <th>Time:</th>                 <td>22:31:19</td>     <th>  Log-Likelihood:    </th>          <td> -13119.</td> \n",
       "</tr>\n",
       "<tr>\n",
       "  <th>No. Observations:</th>      <td>  1809</td>      <th>  AIC:               </th>          <td>2.624e+04</td>\n",
       "</tr>\n",
       "<tr>\n",
       "  <th>Df Residuals:</th>          <td>  1806</td>      <th>  BIC:               </th>          <td>2.626e+04</td>\n",
       "</tr>\n",
       "<tr>\n",
       "  <th>Df Model:</th>              <td>     3</td>      <th>                     </th>              <td> </td>    \n",
       "</tr>\n",
       "<tr>\n",
       "  <th>Covariance Type:</th>      <td>nonrobust</td>    <th>                     </th>              <td> </td>    \n",
       "</tr>\n",
       "</table>\n",
       "<table class=\"simpletable\">\n",
       "<tr>\n",
       "      <td></td>         <th>coef</th>     <th>std err</th>      <th>t</th>      <th>P>|t|</th>  <th>[0.025</th>    <th>0.975]</th>  \n",
       "</tr>\n",
       "<tr>\n",
       "  <th>Open</th>      <td>   -0.0253</td> <td>    0.025</td> <td>   -1.005</td> <td> 0.315</td> <td>   -0.075</td> <td>    0.024</td>\n",
       "</tr>\n",
       "<tr>\n",
       "  <th>Close</th>     <td>    1.0323</td> <td>    0.024</td> <td>   43.873</td> <td> 0.000</td> <td>    0.986</td> <td>    1.078</td>\n",
       "</tr>\n",
       "<tr>\n",
       "  <th>Bollinger</th> <td>   -0.0038</td> <td>    0.008</td> <td>   -0.463</td> <td> 0.643</td> <td>   -0.020</td> <td>    0.012</td>\n",
       "</tr>\n",
       "</table>\n",
       "<table class=\"simpletable\">\n",
       "<tr>\n",
       "  <th>Omnibus:</th>       <td>450.229</td> <th>  Durbin-Watson:     </th> <td>   1.997</td> \n",
       "</tr>\n",
       "<tr>\n",
       "  <th>Prob(Omnibus):</th> <td> 0.000</td>  <th>  Jarque-Bera (JB):  </th> <td>24071.150</td>\n",
       "</tr>\n",
       "<tr>\n",
       "  <th>Skew:</th>          <td> 0.221</td>  <th>  Prob(JB):          </th> <td>    0.00</td> \n",
       "</tr>\n",
       "<tr>\n",
       "  <th>Kurtosis:</th>      <td>20.865</td>  <th>  Cond. No.          </th> <td>    58.9</td> \n",
       "</tr>\n",
       "</table><br/><br/>Notes:<br/>[1] R² is computed without centering (uncentered) since the model does not contain a constant.<br/>[2] Standard Errors assume that the covariance matrix of the errors is correctly specified."
      ],
      "text/plain": [
       "<class 'statsmodels.iolib.summary.Summary'>\n",
       "\"\"\"\n",
       "                                 OLS Regression Results                                \n",
       "=======================================================================================\n",
       "Dep. Variable:               Next Day   R-squared (uncentered):                   0.998\n",
       "Model:                            OLS   Adj. R-squared (uncentered):              0.998\n",
       "Method:                 Least Squares   F-statistic:                          3.148e+05\n",
       "Date:                Wed, 12 Jan 2022   Prob (F-statistic):                        0.00\n",
       "Time:                        22:31:19   Log-Likelihood:                         -13119.\n",
       "No. Observations:                1809   AIC:                                  2.624e+04\n",
       "Df Residuals:                    1806   BIC:                                  2.626e+04\n",
       "Df Model:                           3                                                  \n",
       "Covariance Type:            nonrobust                                                  \n",
       "==============================================================================\n",
       "                 coef    std err          t      P>|t|      [0.025      0.975]\n",
       "------------------------------------------------------------------------------\n",
       "Open          -0.0253      0.025     -1.005      0.315      -0.075       0.024\n",
       "Close          1.0323      0.024     43.873      0.000       0.986       1.078\n",
       "Bollinger     -0.0038      0.008     -0.463      0.643      -0.020       0.012\n",
       "==============================================================================\n",
       "Omnibus:                      450.229   Durbin-Watson:                   1.997\n",
       "Prob(Omnibus):                  0.000   Jarque-Bera (JB):            24071.150\n",
       "Skew:                           0.221   Prob(JB):                         0.00\n",
       "Kurtosis:                      20.865   Cond. No.                         58.9\n",
       "==============================================================================\n",
       "\n",
       "Notes:\n",
       "[1] R² is computed without centering (uncentered) since the model does not contain a constant.\n",
       "[2] Standard Errors assume that the covariance matrix of the errors is correctly specified.\n",
       "\"\"\""
      ]
     },
     "execution_count": 274,
     "metadata": {},
     "output_type": "execute_result"
    }
   ],
   "source": [
    "lm = sm.OLS(y_train, X_train)\n",
    "model = lm.fit()\n",
    "model.summary()"
   ]
  },
  {
   "cell_type": "markdown",
   "metadata": {},
   "source": [
    "# Model Sklearn"
   ]
  },
  {
   "cell_type": "code",
   "execution_count": 275,
   "metadata": {},
   "outputs": [],
   "source": [
    "from sklearn.linear_model import LinearRegression"
   ]
  },
  {
   "cell_type": "code",
   "execution_count": 276,
   "metadata": {},
   "outputs": [],
   "source": [
    "skitLm = LinearRegression()\n",
    "modelSkiLm = skitLm.fit(X_train, y_train)"
   ]
  },
  {
   "cell_type": "markdown",
   "metadata": {},
   "source": [
    "## Visualitizion"
   ]
  },
  {
   "cell_type": "code",
   "execution_count": 277,
   "metadata": {},
   "outputs": [],
   "source": [
    "import seaborn as sns"
   ]
  },
  {
   "cell_type": "code",
   "execution_count": 278,
   "metadata": {},
   "outputs": [],
   "source": [
    "prediction = []\n",
    "for i in range(btcTest.shape[0]):\n",
    "    data = []\n",
    "    for j in range(3):\n",
    "        data.append([btcTest.iloc[i][j]])\n",
    "    data = pd.DataFrame(data).T\n",
    "    prediction.append(modelSkiLm.predict(data)[0])"
   ]
  },
  {
   "cell_type": "code",
   "execution_count": 279,
   "metadata": {},
   "outputs": [
    {
     "data": {
      "image/png": "[encoded data removed]",
      "text/plain": [
       "<Figure size 432x288 with 1 Axes>"
      ]
     },
     "metadata": {
      "needs_background": "light"
     },
     "output_type": "display_data"
    }
   ],
   "source": [
    "sns.lineplot(y=prediction, x=btcTest.index,color=\"red\")\n",
    "sns.lineplot(y=btcTest[\"Next Day\"], x=btcTest.index);"
   ]
  },
  {
   "cell_type": "code",
   "execution_count": null,
   "metadata": {},
   "outputs": [],
   "source": []
  }
 ],
 "metadata": {
  "interpreter": {
   "hash": "3079d289965526a5670b083c2e31f1fa7e5a3c5f280ce501604a1ddbcd6b6c1d"
  },
  "kernelspec": {
   "display_name": "Python 3.8.8 64-bit ('base': conda)",
   "language": "python",
   "name": "python3"
  },
  "language_info": {
   "codemirror_mode": {
    "name": "ipython",
    "version": 3
   },
   "file_extension": ".py",
   "mimetype": "text/x-python",
   "name": "python",
   "nbconvert_exporter": "python",
   "pygments_lexer": "ipython3",
   "version": "3.8.8"
  },
  "orig_nbformat": 4
 },
 "nbformat": 4,
 "nbformat_minor": 2
}
