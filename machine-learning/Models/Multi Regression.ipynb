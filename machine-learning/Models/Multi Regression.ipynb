{
 "cells": [
  {
   "cell_type": "code",
   "execution_count": 132,
   "metadata": {},
   "outputs": [],
   "source": [
    "import numpy as np\n",
    "import pandas as pd\n",
    "import seaborn as sns\n",
    "import datetime as dt\n",
    "import yfinance as yf\n",
    "from sklearn.linear_model import LinearRegression"
   ]
  },
  {
   "cell_type": "markdown",
   "metadata": {},
   "source": [
    "___"
   ]
  },
  {
   "cell_type": "markdown",
   "metadata": {},
   "source": [
    "### Train Data"
   ]
  },
  {
   "cell_type": "code",
   "execution_count": 133,
   "metadata": {},
   "outputs": [
    {
     "data": {
      "text/html": [
       "<div>\n",
       "<style scoped>\n",
       "    .dataframe tbody tr th:only-of-type {\n",
       "        vertical-align: middle;\n",
       "    }\n",
       "\n",
       "    .dataframe tbody tr th {\n",
       "        vertical-align: top;\n",
       "    }\n",
       "\n",
       "    .dataframe thead th {\n",
       "        text-align: right;\n",
       "    }\n",
       "</style>\n",
       "<table border=\"1\" class=\"dataframe\">\n",
       "  <thead>\n",
       "    <tr style=\"text-align: right;\">\n",
       "      <th></th>\n",
       "      <th>Open</th>\n",
       "      <th>High</th>\n",
       "      <th>Low</th>\n",
       "      <th>Close</th>\n",
       "      <th>CloseTomorrow</th>\n",
       "    </tr>\n",
       "  </thead>\n",
       "  <tbody>\n",
       "    <tr>\n",
       "      <th>0</th>\n",
       "      <td>425.875000</td>\n",
       "      <td>432.920990</td>\n",
       "      <td>418.734985</td>\n",
       "      <td>430.566986</td>\n",
       "      <td>434.334015</td>\n",
       "    </tr>\n",
       "    <tr>\n",
       "      <th>1</th>\n",
       "      <td>430.721008</td>\n",
       "      <td>436.246002</td>\n",
       "      <td>427.515015</td>\n",
       "      <td>434.334015</td>\n",
       "      <td>433.437988</td>\n",
       "    </tr>\n",
       "    <tr>\n",
       "      <th>2</th>\n",
       "      <td>434.622009</td>\n",
       "      <td>436.062012</td>\n",
       "      <td>431.869995</td>\n",
       "      <td>433.437988</td>\n",
       "      <td>430.010986</td>\n",
       "    </tr>\n",
       "    <tr>\n",
       "      <th>3</th>\n",
       "      <td>433.578003</td>\n",
       "      <td>433.743011</td>\n",
       "      <td>424.705994</td>\n",
       "      <td>430.010986</td>\n",
       "      <td>433.091003</td>\n",
       "    </tr>\n",
       "    <tr>\n",
       "      <th>4</th>\n",
       "      <td>430.061005</td>\n",
       "      <td>434.516998</td>\n",
       "      <td>429.084015</td>\n",
       "      <td>433.091003</td>\n",
       "      <td>431.959991</td>\n",
       "    </tr>\n",
       "    <tr>\n",
       "      <th>...</th>\n",
       "      <td>...</td>\n",
       "      <td>...</td>\n",
       "      <td>...</td>\n",
       "      <td>...</td>\n",
       "      <td>...</td>\n",
       "    </tr>\n",
       "    <tr>\n",
       "      <th>1823</th>\n",
       "      <td>26439.373047</td>\n",
       "      <td>28288.839844</td>\n",
       "      <td>25922.769531</td>\n",
       "      <td>26272.294922</td>\n",
       "      <td>27084.808594</td>\n",
       "    </tr>\n",
       "    <tr>\n",
       "      <th>1824</th>\n",
       "      <td>26280.822266</td>\n",
       "      <td>27389.111328</td>\n",
       "      <td>26207.640625</td>\n",
       "      <td>27084.808594</td>\n",
       "      <td>27362.437500</td>\n",
       "    </tr>\n",
       "    <tr>\n",
       "      <th>1825</th>\n",
       "      <td>27081.810547</td>\n",
       "      <td>27370.720703</td>\n",
       "      <td>25987.298828</td>\n",
       "      <td>27362.437500</td>\n",
       "      <td>28840.953125</td>\n",
       "    </tr>\n",
       "    <tr>\n",
       "      <th>1826</th>\n",
       "      <td>27360.089844</td>\n",
       "      <td>28937.740234</td>\n",
       "      <td>27360.089844</td>\n",
       "      <td>28840.953125</td>\n",
       "      <td>29001.720703</td>\n",
       "    </tr>\n",
       "    <tr>\n",
       "      <th>1827</th>\n",
       "      <td>28841.574219</td>\n",
       "      <td>29244.876953</td>\n",
       "      <td>28201.992188</td>\n",
       "      <td>29001.720703</td>\n",
       "      <td>29374.152344</td>\n",
       "    </tr>\n",
       "  </tbody>\n",
       "</table>\n",
       "<p>1828 rows × 5 columns</p>\n",
       "</div>"
      ],
      "text/plain": [
       "              Open          High           Low         Close  CloseTomorrow\n",
       "0       425.875000    432.920990    418.734985    430.566986     434.334015\n",
       "1       430.721008    436.246002    427.515015    434.334015     433.437988\n",
       "2       434.622009    436.062012    431.869995    433.437988     430.010986\n",
       "3       433.578003    433.743011    424.705994    430.010986     433.091003\n",
       "4       430.061005    434.516998    429.084015    433.091003     431.959991\n",
       "...            ...           ...           ...           ...            ...\n",
       "1823  26439.373047  28288.839844  25922.769531  26272.294922   27084.808594\n",
       "1824  26280.822266  27389.111328  26207.640625  27084.808594   27362.437500\n",
       "1825  27081.810547  27370.720703  25987.298828  27362.437500   28840.953125\n",
       "1826  27360.089844  28937.740234  27360.089844  28840.953125   29001.720703\n",
       "1827  28841.574219  29244.876953  28201.992188  29001.720703   29374.152344\n",
       "\n",
       "[1828 rows x 5 columns]"
      ]
     },
     "execution_count": 133,
     "metadata": {},
     "output_type": "execute_result"
    }
   ],
   "source": [
    "btc = yf.Ticker(\"BTC-USD\")\n",
    "\n",
    "startDate = dt.datetime(2016,1,1)\n",
    "endDate = dt.datetime(2021,1,1)\n",
    "btcTrain = btc.history(start=startDate, end=endDate).drop([\"Dividends\", \"Stock Splits\", \"Volume\"], axis = 1)\n",
    "btcTrain=btcTrain.set_index(np.arange(btcTrain.shape[0]))\n",
    "\n",
    "startDate = dt.datetime(2016,1,2)\n",
    "endDate = dt.datetime(2021,1,2)\n",
    "btcTomorrowTrain = btc.history(start=startDate, end=endDate).drop([\"Dividends\",\"Stock Splits\",\"Volume\",\"High\",\"Low\",\"Open\"], axis = 1)\n",
    "btcTomorrowTrain=btcTomorrowTrain.set_index(np.arange(btcTomorrowTrain.shape[0]))\n",
    "\n",
    "btcTrain[\"CloseTomorrow\"] = btcTomorrowTrain[\"Close\"]\n",
    "btcTrain"
   ]
  },
  {
   "cell_type": "markdown",
   "metadata": {},
   "source": [
    "### Test Data"
   ]
  },
  {
   "cell_type": "code",
   "execution_count": 134,
   "metadata": {},
   "outputs": [
    {
     "data": {
      "text/html": [
       "<div>\n",
       "<style scoped>\n",
       "    .dataframe tbody tr th:only-of-type {\n",
       "        vertical-align: middle;\n",
       "    }\n",
       "\n",
       "    .dataframe tbody tr th {\n",
       "        vertical-align: top;\n",
       "    }\n",
       "\n",
       "    .dataframe thead th {\n",
       "        text-align: right;\n",
       "    }\n",
       "</style>\n",
       "<table border=\"1\" class=\"dataframe\">\n",
       "  <thead>\n",
       "    <tr style=\"text-align: right;\">\n",
       "      <th></th>\n",
       "      <th>Open</th>\n",
       "      <th>High</th>\n",
       "      <th>Low</th>\n",
       "      <th>Close</th>\n",
       "      <th>CloseTomorrow</th>\n",
       "    </tr>\n",
       "  </thead>\n",
       "  <tbody>\n",
       "    <tr>\n",
       "      <th>0</th>\n",
       "      <td>28841.574219</td>\n",
       "      <td>29244.876953</td>\n",
       "      <td>28201.992188</td>\n",
       "      <td>29001.720703</td>\n",
       "      <td>29374.152344</td>\n",
       "    </tr>\n",
       "    <tr>\n",
       "      <th>1</th>\n",
       "      <td>28994.009766</td>\n",
       "      <td>29600.626953</td>\n",
       "      <td>28803.585938</td>\n",
       "      <td>29374.152344</td>\n",
       "      <td>32127.267578</td>\n",
       "    </tr>\n",
       "    <tr>\n",
       "      <th>2</th>\n",
       "      <td>29376.455078</td>\n",
       "      <td>33155.117188</td>\n",
       "      <td>29091.181641</td>\n",
       "      <td>32127.267578</td>\n",
       "      <td>32782.023438</td>\n",
       "    </tr>\n",
       "    <tr>\n",
       "      <th>3</th>\n",
       "      <td>32129.408203</td>\n",
       "      <td>34608.558594</td>\n",
       "      <td>32052.316406</td>\n",
       "      <td>32782.023438</td>\n",
       "      <td>31971.914062</td>\n",
       "    </tr>\n",
       "    <tr>\n",
       "      <th>4</th>\n",
       "      <td>32810.949219</td>\n",
       "      <td>33440.218750</td>\n",
       "      <td>28722.755859</td>\n",
       "      <td>31971.914062</td>\n",
       "      <td>33992.429688</td>\n",
       "    </tr>\n",
       "    <tr>\n",
       "      <th>...</th>\n",
       "      <td>...</td>\n",
       "      <td>...</td>\n",
       "      <td>...</td>\n",
       "      <td>...</td>\n",
       "      <td>...</td>\n",
       "    </tr>\n",
       "    <tr>\n",
       "      <th>370</th>\n",
       "      <td>45899.359375</td>\n",
       "      <td>46929.046875</td>\n",
       "      <td>42798.222656</td>\n",
       "      <td>43569.003906</td>\n",
       "      <td>43160.929688</td>\n",
       "    </tr>\n",
       "    <tr>\n",
       "      <th>371</th>\n",
       "      <td>43565.511719</td>\n",
       "      <td>43748.718750</td>\n",
       "      <td>42645.539062</td>\n",
       "      <td>43160.929688</td>\n",
       "      <td>41557.902344</td>\n",
       "    </tr>\n",
       "    <tr>\n",
       "      <th>372</th>\n",
       "      <td>43153.570312</td>\n",
       "      <td>43153.570312</td>\n",
       "      <td>41077.445312</td>\n",
       "      <td>41557.902344</td>\n",
       "      <td>41733.941406</td>\n",
       "    </tr>\n",
       "    <tr>\n",
       "      <th>373</th>\n",
       "      <td>41561.464844</td>\n",
       "      <td>42228.941406</td>\n",
       "      <td>40672.277344</td>\n",
       "      <td>41733.941406</td>\n",
       "      <td>41911.601562</td>\n",
       "    </tr>\n",
       "    <tr>\n",
       "      <th>374</th>\n",
       "      <td>41734.726562</td>\n",
       "      <td>42663.949219</td>\n",
       "      <td>41338.160156</td>\n",
       "      <td>41911.601562</td>\n",
       "      <td>41821.261719</td>\n",
       "    </tr>\n",
       "  </tbody>\n",
       "</table>\n",
       "<p>375 rows × 5 columns</p>\n",
       "</div>"
      ],
      "text/plain": [
       "             Open          High           Low         Close  CloseTomorrow\n",
       "0    28841.574219  29244.876953  28201.992188  29001.720703   29374.152344\n",
       "1    28994.009766  29600.626953  28803.585938  29374.152344   32127.267578\n",
       "2    29376.455078  33155.117188  29091.181641  32127.267578   32782.023438\n",
       "3    32129.408203  34608.558594  32052.316406  32782.023438   31971.914062\n",
       "4    32810.949219  33440.218750  28722.755859  31971.914062   33992.429688\n",
       "..            ...           ...           ...           ...            ...\n",
       "370  45899.359375  46929.046875  42798.222656  43569.003906   43160.929688\n",
       "371  43565.511719  43748.718750  42645.539062  43160.929688   41557.902344\n",
       "372  43153.570312  43153.570312  41077.445312  41557.902344   41733.941406\n",
       "373  41561.464844  42228.941406  40672.277344  41733.941406   41911.601562\n",
       "374  41734.726562  42663.949219  41338.160156  41911.601562   41821.261719\n",
       "\n",
       "[375 rows x 5 columns]"
      ]
     },
     "execution_count": 134,
     "metadata": {},
     "output_type": "execute_result"
    }
   ],
   "source": [
    "startDate = dt.datetime(2021,1,1)\n",
    "endDate = dt.datetime(2022,1,10)\n",
    "btcTest = btc.history(start=startDate, end=endDate).drop([\"Dividends\", \"Stock Splits\", \"Volume\"], axis = 1)\n",
    "btcTest=btcTest.set_index(np.arange(btcTest.shape[0]))\n",
    "\n",
    "\n",
    "startDate = dt.datetime(2021,1,2)\n",
    "endDate = dt.datetime(2022,1,11)\n",
    "btcTomorrowTest = btc.history(start=startDate, end=endDate).drop([\"Dividends\",\"Stock Splits\",\"Volume\",\"High\",\"Low\",\"Open\"], axis = 1)\n",
    "btcTomorrowTest=btcTomorrowTest.set_index(np.arange(btcTomorrowTest.shape[0]))\n",
    "\n",
    "btcTest[\"CloseTomorrow\"] = btcTomorrowTest[\"Close\"]\n",
    "btcTest"
   ]
  },
  {
   "cell_type": "markdown",
   "metadata": {},
   "source": [
    "____"
   ]
  },
  {
   "cell_type": "markdown",
   "metadata": {},
   "source": [
    "### Model"
   ]
  },
  {
   "cell_type": "code",
   "execution_count": 135,
   "metadata": {},
   "outputs": [],
   "source": [
    "linearModel = LinearRegression()\n",
    "model = linearModel.fit(btcTrain.drop([\"CloseTomorrow\"], axis = 1),btcTrain[\"CloseTomorrow\"])"
   ]
  },
  {
   "cell_type": "markdown",
   "metadata": {},
   "source": [
    "### Test"
   ]
  },
  {
   "cell_type": "code",
   "execution_count": 142,
   "metadata": {},
   "outputs": [
    {
     "data": {
      "text/plain": [
       "375"
      ]
     },
     "execution_count": 142,
     "metadata": {},
     "output_type": "execute_result"
    }
   ],
   "source": [
    "results = []\n",
    "for i in range(btcTest.shape[0]):\n",
    "    data = []\n",
    "    for j in range(4):\n",
    "        data.append([btcTest.iloc[i][j]])\n",
    "    data = pd.DataFrame(data).T\n",
    "    results.append(model.predict(data)[0])\n",
    "btcTest.shape[0]"
   ]
  },
  {
   "cell_type": "markdown",
   "metadata": {},
   "source": [
    "____"
   ]
  },
  {
   "cell_type": "markdown",
   "metadata": {},
   "source": [
    "### Visualizition"
   ]
  },
  {
   "cell_type": "markdown",
   "metadata": {},
   "source": [
    "#### History Index"
   ]
  },
  {
   "cell_type": "code",
   "execution_count": 137,
   "metadata": {},
   "outputs": [],
   "source": [
    "startDate = dt.datetime(2021,1,1)\n",
    "endDate = dt.datetime(2022,1,10)\n",
    "history = btc.history(start=startDate, end=endDate)"
   ]
  },
  {
   "cell_type": "markdown",
   "metadata": {},
   "source": [
    "#### Lineplot"
   ]
  },
  {
   "cell_type": "code",
   "execution_count": 138,
   "metadata": {},
   "outputs": [
    {
     "data": {
      "image/png": "[encoded data removed]",
      "text/plain": [
       "<Figure size 432x288 with 1 Axes>"
      ]
     },
     "metadata": {
      "needs_background": "light"
     },
     "output_type": "display_data"
    }
   ],
   "source": [
    "sns.lineplot(y=results, x=history.index)\n",
    "sns.lineplot(y=btcTest[\"Close\"], x=history.index);"
   ]
  },
  {
   "cell_type": "code",
   "execution_count": 152,
   "metadata": {},
   "outputs": [
    {
     "data": {
      "text/plain": [
       "42024.90802924305"
      ]
     },
     "execution_count": 152,
     "metadata": {},
     "output_type": "execute_result"
    }
   ],
   "source": [
    "for j in range(4):\n",
    "        data.append([btcTest.iloc[-1][j]])\n",
    "data\n",
    "data = pd.DataFrame(data).T\n",
    "model.predict(data)[0]"
   ]
  },
  {
   "cell_type": "code",
   "execution_count": null,
   "metadata": {},
   "outputs": [],
   "source": []
  }
 ],
 "metadata": {
  "interpreter": {
   "hash": "3079d289965526a5670b083c2e31f1fa7e5a3c5f280ce501604a1ddbcd6b6c1d"
  },
  "kernelspec": {
   "display_name": "Python 3.8.8 64-bit ('base': conda)",
   "language": "python",
   "name": "python3"
  },
  "language_info": {
   "codemirror_mode": {
    "name": "ipython",
    "version": 3
   },
   "file_extension": ".py",
   "mimetype": "text/x-python",
   "name": "python",
   "nbconvert_exporter": "python",
   "pygments_lexer": "ipython3",
   "version": "3.8.8"
  },
  "orig_nbformat": 4
 },
 "nbformat": 4,
 "nbformat_minor": 2
}
