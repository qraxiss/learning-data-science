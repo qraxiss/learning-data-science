{
  "nbformat": 4,
  "nbformat_minor": 0,
  "metadata": {
    "colab": {
      "name": "Lojistik Regresyon.ipynb",
      "provenance": [],
      "collapsed_sections": [],
      "authorship_tag": "ABX9TyMftVzGH2RWrJ5ku6NmL13x",
      "include_colab_link": true
    },
    "kernelspec": {
      "name": "python3",
      "display_name": "Python 3"
    },
    "language_info": {
      "name": "python"
    }
  },
  "cells": [
    {
      "cell_type": "markdown",
      "metadata": {
        "id": "view-in-github",
        "colab_type": "text"
      },
      "source": [
        "<a href=\"https://colab.research.google.com/github/qraxiss/learning-data-science/blob/main/machine-learning/classification/catb.ipynb\" target=\"_parent\"><img src=\"https://colab.research.google.com/assets/colab-badge.svg\" alt=\"Open In Colab\"/></a>"
      ]
    },
    {
      "cell_type": "markdown",
      "source": [
        "# Data & Libs"
      ],
      "metadata": {
        "id": "w4oYWyu2_UbM"
      }
    },
    {
      "cell_type": "code",
      "source": [
        "!pip install catboost"
      ],
      "metadata": {
        "id": "26vDqqBwHXAP"
      },
      "execution_count": null,
      "outputs": []
    },
    {
      "cell_type": "code",
      "source": [
        "# Libs\n",
        "import numpy as np\n",
        "import pandas as pd \n",
        "from sklearn.model_selection import train_test_split, cross_val_score, GridSearchCV\n",
        "from sklearn.metrics import confusion_matrix, accuracy_score, classification_report\n",
        "from sklearn.metrics import roc_auc_score,roc_curve\n",
        "import matplotlib.pyplot as plt\n",
        "from catboost import CatBoostClassifier\n",
        "from google.colab import drive\n",
        "from warnings import filterwarnings\n",
        "filterwarnings('ignore')\n",
        "\n",
        "# Data\n",
        "drive.mount('/content/gdrive')\n",
        "df = pd.read_csv(\"/content/gdrive/MyDrive/Colab Notebooks/learning-data-science-main/machine-learning/datas/diabetes.csv\")\n",
        "df = df.dropna()\n",
        "df.index = np.arange(df.shape[0])\n",
        "\n",
        "# X&y\n",
        "y = df[\"Outcome\"]\n",
        "X = df.drop([\"Outcome\"], axis=1)\n",
        "\n",
        "# Test Train\n",
        "X_train, X_test, y_train, y_test = train_test_split(X, y, test_size = 0.30, random_state=31)"
      ],
      "metadata": {
        "id": "dZ25M-qc9ZrU",
        "colab": {
          "base_uri": "https://localhost:8080/"
        },
        "outputId": "148cf8da-a3ed-4d70-a9ae-64028de9926e"
      },
      "execution_count": 78,
      "outputs": [
        {
          "output_type": "stream",
          "name": "stdout",
          "text": [
            "Drive already mounted at /content/gdrive; to attempt to forcibly remount, call drive.mount(\"/content/gdrive\", force_remount=True).\n"
          ]
        }
      ]
    },
    {
      "cell_type": "markdown",
      "source": [
        "# Model"
      ],
      "metadata": {
        "id": "ksdKpa-v_Vkq"
      }
    },
    {
      "cell_type": "code",
      "source": [
        "cat_model = CatBoostClassifier().fit(X_train, y_train)"
      ],
      "metadata": {
        "id": "9qgcaMxn_Yry"
      },
      "execution_count": null,
      "outputs": []
    },
    {
      "cell_type": "markdown",
      "source": [
        "# Predict"
      ],
      "metadata": {
        "id": "2_ExYe1f_1Us"
      }
    },
    {
      "cell_type": "code",
      "source": [
        "basic = accuracy_score(y_test, cat_model.predict(X_test))\n",
        "cv = cross_val_score(cat_model,X_test,y_test,cv=10).mean()"
      ],
      "metadata": {
        "id": "yBXcy2f2IIRA"
      },
      "execution_count": null,
      "outputs": []
    },
    {
      "cell_type": "code",
      "source": [
        "print(\"Basic Accuracy Score\",basic)\n",
        "print(\"CV Accuracy Score\",cv)"
      ],
      "metadata": {
        "colab": {
          "base_uri": "https://localhost:8080/"
        },
        "id": "2SE1Fde_eKi-",
        "outputId": "fa4d975f-4086-42b6-e128-fb170aaedec4"
      },
      "execution_count": 83,
      "outputs": [
        {
          "output_type": "stream",
          "name": "stdout",
          "text": [
            "Basic Accuracy Score 0.7575757575757576\n",
            "CV Accuracy Score 0.7614130434782609\n"
          ]
        }
      ]
    },
    {
      "cell_type": "markdown",
      "source": [
        "# Model Tuning"
      ],
      "metadata": {
        "id": "qJdPA5QviKN7"
      }
    },
    {
      "cell_type": "code",
      "source": [
        "catb_params = {\n",
        "    'iterations': [200,500],\n",
        "    'learning_rate': [0.01,0.05, 0.1],\n",
        "    'depth': [3,5,8] }\n",
        "\n",
        "catb = CatBoostClassifier()\n",
        "catb_cv = GridSearchCV(catb, catb_params, cv = 3, n_jobs = -1, verbose = 2)\n",
        "catb_cv_model = catb_cv.fit(X_train, y_train)"
      ],
      "metadata": {
        "id": "YwpW0KibiOY6"
      },
      "execution_count": null,
      "outputs": []
    },
    {
      "cell_type": "code",
      "source": [
        "print(\"En iyi skor:\" + str(catb_cv_model.best_score_))\n",
        "print(\"En iyi parametreler: \" + str(catb_cv_model.best_params_))\n",
        "params = pd.Series(catb_cv_model.best_params_)\n",
        "params"
      ],
      "metadata": {
        "colab": {
          "base_uri": "https://localhost:8080/"
        },
        "id": "LB8yIVaFiZSK",
        "outputId": "490ab981-9bc3-4b78-c62e-95c34e8efbb2"
      },
      "execution_count": 85,
      "outputs": [
        {
          "output_type": "stream",
          "name": "stdout",
          "text": [
            "En iyi skor:0.7448676690894968\n",
            "En iyi parametreler: {'depth': 3, 'iterations': 200, 'learning_rate': 0.05}\n"
          ]
        },
        {
          "output_type": "execute_result",
          "data": {
            "text/plain": [
              "depth              3.00\n",
              "iterations       200.00\n",
              "learning_rate      0.05\n",
              "dtype: float64"
            ]
          },
          "metadata": {},
          "execution_count": 85
        }
      ]
    },
    {
      "cell_type": "markdown",
      "source": [
        "## Tuned Model"
      ],
      "metadata": {
        "id": "ZFBjYB9EilAI"
      }
    },
    {
      "cell_type": "code",
      "source": [
        "catb = CatBoostClassifier(depth = int(params[0]), iterations=int(params[1]), learning_rate = float(params[2]))\n",
        "catb_tuned = catb.fit(X_train, y_train) "
      ],
      "metadata": {
        "id": "FdmezHKKimdO"
      },
      "execution_count": null,
      "outputs": []
    },
    {
      "cell_type": "code",
      "source": [
        "basic = accuracy_score(y_test, catb_tuned.predict(X_test))\n",
        "cv = cross_val_score(catb_tuned,X_test,y_test,cv=10).mean()"
      ],
      "metadata": {
        "id": "HVi59M7oJHso"
      },
      "execution_count": null,
      "outputs": []
    },
    {
      "cell_type": "code",
      "source": [
        "print(\"Basic Accuracy Score\",basic)\n",
        "print(\"CV Accuracy Score\",cv)"
      ],
      "metadata": {
        "colab": {
          "base_uri": "https://localhost:8080/"
        },
        "id": "_GqIvAyXjCGh",
        "outputId": "caf4e677-02d3-4cb5-c307-a3b1ccfeb357"
      },
      "execution_count": 90,
      "outputs": [
        {
          "output_type": "stream",
          "name": "stdout",
          "text": [
            "Basic Accuracy Score 0.7792207792207793\n",
            "CV Accuracy Score 0.7614130434782609\n"
          ]
        }
      ]
    },
    {
      "cell_type": "code",
      "source": [
        "# Yüzdesel Oranlar\n",
        "y_probs = pd.DataFrame(catb_tuned.predict_proba(X_test))\n",
        "max = []\n",
        "for j in np.arange(0,1,0.01):\n",
        "  y_pred = np.array([1 if i > j else 0 for i in list(y_probs[1])])\n",
        "  max.append([j ,accuracy_score(y_test, y_pred)])\n",
        "\n",
        "max = np.array(max)\n",
        "\n",
        "# Plot\n",
        "import seaborn as sns\n",
        "sns.lineplot(y=max[:,1], x=max[:,0])"
      ],
      "metadata": {
        "colab": {
          "base_uri": "https://localhost:8080/",
          "height": 284
        },
        "id": "4DiXsqfEB6tQ",
        "outputId": "7a006c2c-09fb-46af-fa8e-f5f02bd27caa"
      },
      "execution_count": 91,
      "outputs": [
        {
          "output_type": "execute_result",
          "data": {
            "text/plain": [
              "<matplotlib.axes._subplots.AxesSubplot at 0x7f8a37734cd0>"
            ]
          },
          "metadata": {},
          "execution_count": 91
        },
        {
          "output_type": "display_data",
          "data": {
            "image/png": "[encoded data removed]",
            "text/plain": [
              "<Figure size 432x288 with 1 Axes>"
            ]
          },
          "metadata": {
            "needs_background": "light"
          }
        }
      ]
    },
    {
      "cell_type": "markdown",
      "source": [
        "# Plot"
      ],
      "metadata": {
        "id": "UA68TYhdaAld"
      }
    },
    {
      "cell_type": "code",
      "source": [
        "logit_roc_auc = roc_auc_score(y_test, catb_tuned.predict(X_test))\n",
        "\n",
        "fpr, tpr, thresholds = roc_curve(y_test, catb_tuned.predict_proba(X_test)[:,1])\n",
        "plt.figure()\n",
        "plt.plot(fpr, tpr, label='AUC (area = %0.2f)' % logit_roc_auc)\n",
        "plt.plot([0, 1], [0, 1],'r--')\n",
        "plt.xlim([0.0, 1.0])\n",
        "plt.ylim([0.0, 1.05])\n",
        "plt.xlabel('False Positive Oranı')\n",
        "plt.ylabel('True Positive Oranı')\n",
        "plt.title('ROC')\n",
        "plt.show()"
      ],
      "metadata": {
        "colab": {
          "base_uri": "https://localhost:8080/",
          "height": 295
        },
        "id": "5WzkYHvgb44g",
        "outputId": "b86abb29-ba33-4394-d77d-1b081c4aa4fa"
      },
      "execution_count": 92,
      "outputs": [
        {
          "output_type": "display_data",
          "data": {
            "image/png": "[encoded data removed]",
            "text/plain": [
              "<Figure size 432x288 with 1 Axes>"
            ]
          },
          "metadata": {
            "needs_background": "light"
          }
        }
      ]
    },
    {
      "cell_type": "code",
      "source": [
        ""
      ],
      "metadata": {
        "id": "66JkI6dZ6iVt"
      },
      "execution_count": null,
      "outputs": []
    }
  ]
}