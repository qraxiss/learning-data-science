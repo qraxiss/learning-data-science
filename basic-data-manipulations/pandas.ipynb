{
 "cells": [
  {
   "cell_type": "markdown",
   "metadata": {},
   "source": [
    "# Pandas Series"
   ]
  },
  {
   "cell_type": "markdown",
   "metadata": {},
   "source": [
    "git add .\n",
    "\n",
    "git commit -m \"Index Operations on Series\"\n",
    "\n",
    "git push"
   ]
  },
  {
   "cell_type": "code",
   "execution_count": 2,
   "metadata": {},
   "outputs": [],
   "source": [
    "import pandas as pd\n",
    "import numpy as np"
   ]
  },
  {
   "cell_type": "code",
   "execution_count": 10,
   "metadata": {},
   "outputs": [
    {
     "data": {
      "text/plain": [
       "array([10, 18, 14, 18, 14, 11, 10, 10, 14, 14])"
      ]
     },
     "execution_count": 10,
     "metadata": {},
     "output_type": "execute_result"
    }
   ],
   "source": [
    "series = pd.Series(np.random.randint(10, 20, size = 10))\n",
    "series.values"
   ]
  },
  {
   "cell_type": "code",
   "execution_count": 11,
   "metadata": {},
   "outputs": [
    {
     "name": "stdout",
     "output_type": "stream",
     "text": [
      "10 int32 [RangeIndex(start=0, stop=10, step=1)]\n"
     ]
    }
   ],
   "source": [
    "print(series.size, series.dtype, series.axes)"
   ]
  },
  {
   "cell_type": "markdown",
   "metadata": {},
   "source": [
    "## Index Operations on Series"
   ]
  },
  {
   "cell_type": "code",
   "execution_count": 26,
   "metadata": {},
   "outputs": [
    {
     "name": "stdout",
     "output_type": "stream",
     "text": [
      "20    17\n",
      "19    17\n",
      "18    17\n",
      "17    16\n",
      "16    12\n",
      "15    17\n",
      "14    18\n",
      "13    15\n",
      "12    12\n",
      "11    10\n",
      "dtype: int32\n",
      "a    14\n",
      "b    16\n",
      "c    13\n",
      "d    17\n",
      "e    11\n",
      "dtype: int32\n"
     ]
    }
   ],
   "source": [
    "seriesIndex = pd.Series(np.random.randint(10, 20, size = 10), index = [np.arange(20,10,-1)])\n",
    "print(seriesIndex)\n",
    "seriesIndex = pd.Series(np.random.randint(10, 20, size = 5), index = [\"a\",\"b\",\"c\",\"d\",\"e\"])\n",
    "print(seriesIndex)"
   ]
  },
  {
   "cell_type": "code",
   "execution_count": 25,
   "metadata": {},
   "outputs": [
    {
     "data": {
      "text/plain": [
       "a    11\n",
       "b    13\n",
       "c    18\n",
       "dtype: int32"
      ]
     },
     "execution_count": 25,
     "metadata": {},
     "output_type": "execute_result"
    }
   ],
   "source": [
    "seriesIndex[\"a\":\"c\"]"
   ]
  }
 ],
 "metadata": {
  "interpreter": {
   "hash": "3079d289965526a5670b083c2e31f1fa7e5a3c5f280ce501604a1ddbcd6b6c1d"
  },
  "kernelspec": {
   "display_name": "Python 3.8.8 64-bit ('base': conda)",
   "language": "python",
   "name": "python3"
  },
  "language_info": {
   "codemirror_mode": {
    "name": "ipython",
    "version": 3
   },
   "file_extension": ".py",
   "mimetype": "text/x-python",
   "name": "python",
   "nbconvert_exporter": "python",
   "pygments_lexer": "ipython3",
   "version": "3.8.8"
  },
  "orig_nbformat": 4
 },
 "nbformat": 4,
 "nbformat_minor": 2
}
