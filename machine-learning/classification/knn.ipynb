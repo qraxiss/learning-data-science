{
  "nbformat": 4,
  "nbformat_minor": 0,
  "metadata": {
    "colab": {
      "name": "Lojistik Regresyon.ipynb",
      "provenance": [],
      "collapsed_sections": [],
      "authorship_tag": "ABX9TyODHH5MBIUwcEYP6YdeMbMY",
      "include_colab_link": true
    },
    "kernelspec": {
      "name": "python3",
      "display_name": "Python 3"
    },
    "language_info": {
      "name": "python"
    }
  },
  "cells": [
    {
      "cell_type": "markdown",
      "metadata": {
        "id": "view-in-github",
        "colab_type": "text"
      },
      "source": [
        "<a href=\"https://colab.research.google.com/github/qraxiss/learning-data-science/blob/main/machine-learning/classification/knn.ipynb\" target=\"_parent\"><img src=\"https://colab.research.google.com/assets/colab-badge.svg\" alt=\"Open In Colab\"/></a>"
      ]
    },
    {
      "cell_type": "markdown",
      "source": [
        "# Data & Libs"
      ],
      "metadata": {
        "id": "w4oYWyu2_UbM"
      }
    },
    {
      "cell_type": "code",
      "source": [
        "# Libs\n",
        "import numpy as np\n",
        "import pandas as pd \n",
        "from sklearn.model_selection import train_test_split, cross_val_score, GridSearchCV\n",
        "from sklearn.metrics import confusion_matrix, accuracy_score, classification_report\n",
        "from sklearn.metrics import roc_auc_score,roc_curve\n",
        "import matplotlib.pyplot as plt\n",
        "from sklearn.neighbors import KNeighborsClassifier\n",
        "\n",
        "from warnings import filterwarnings\n",
        "filterwarnings('ignore')\n",
        "\n",
        "# Data\n",
        "drive.mount('/content/gdrive')\n",
        "df = pd.read_csv(\"/content/gdrive/MyDrive/Colab Notebooks/learning-data-science-main/machine-learning/datas/diabetes.csv\")\n",
        "df = df.dropna()\n",
        "df.index = np.arange(df.shape[0])\n",
        "\n",
        "# X&y\n",
        "y = df[\"Outcome\"]\n",
        "X = df.drop([\"Outcome\"], axis=1)\n",
        "\n",
        "# Test Train\n",
        "X_train, X_test, y_train, y_test = train_test_split(X, y, test_size = 0.30, random_state=31)"
      ],
      "metadata": {
        "id": "dZ25M-qc9ZrU",
        "colab": {
          "base_uri": "https://localhost:8080/"
        },
        "outputId": "c19d2800-6bb5-4fda-8afc-7b8b41353292"
      },
      "execution_count": 70,
      "outputs": [
        {
          "output_type": "stream",
          "name": "stdout",
          "text": [
            "Drive already mounted at /content/gdrive; to attempt to forcibly remount, call drive.mount(\"/content/gdrive\", force_remount=True).\n"
          ]
        }
      ]
    },
    {
      "cell_type": "markdown",
      "source": [
        "# Model"
      ],
      "metadata": {
        "id": "ksdKpa-v_Vkq"
      }
    },
    {
      "cell_type": "code",
      "source": [
        "knn_model = KNeighborsClassifier().fit(X_train, y_train)"
      ],
      "metadata": {
        "id": "9qgcaMxn_Yry"
      },
      "execution_count": 65,
      "outputs": []
    },
    {
      "cell_type": "markdown",
      "source": [
        "# Predict"
      ],
      "metadata": {
        "id": "2_ExYe1f_1Us"
      }
    },
    {
      "cell_type": "code",
      "source": [
        "print(\"Basic Accuracy Score\",accuracy_score(y_test, knn_model.predict(X_test)))\n",
        "print(\"CV Accuracy Score\",cross_val_score(knn_model,\n",
        "                                          X_test, \n",
        "                                          y_test, \n",
        "                                          cv=10).mean())"
      ],
      "metadata": {
        "colab": {
          "base_uri": "https://localhost:8080/"
        },
        "id": "2SE1Fde_eKi-",
        "outputId": "b509fede-2c71-4d53-ef66-1a280665ee29"
      },
      "execution_count": 66,
      "outputs": [
        {
          "output_type": "stream",
          "name": "stdout",
          "text": [
            "Basic Accuracy Score 0.7402597402597403\n",
            "CV Accuracy Score 0.7139492753623189\n"
          ]
        }
      ]
    },
    {
      "cell_type": "code",
      "source": [
        "# Yüzdesel Oranlar\n",
        "y_probs = pd.DataFrame(knn_model.predict_proba(X_test))\n",
        "y_pred = [1 if i > 0.60 else 0 for i in list(y_probs[1])]\n",
        "\n",
        "print(\"Basic Accuracy Score\",accuracy_score(y_test, y_pred))"
      ],
      "metadata": {
        "colab": {
          "base_uri": "https://localhost:8080/"
        },
        "id": "4DiXsqfEB6tQ",
        "outputId": "3c90fe5f-6b73-46d5-db5e-9b3c5158c80e"
      },
      "execution_count": 68,
      "outputs": [
        {
          "output_type": "stream",
          "name": "stdout",
          "text": [
            "Basic Accuracy Score 0.683982683982684\n"
          ]
        }
      ]
    },
    {
      "cell_type": "markdown",
      "source": [
        "# Model Tuning"
      ],
      "metadata": {
        "id": "qJdPA5QviKN7"
      }
    },
    {
      "cell_type": "code",
      "source": [
        "knn_params = {\"n_neighbors\": np.arange(1,50)}\n",
        "knn = KNeighborsClassifier()\n",
        "knn_cv = GridSearchCV(knn, knn_params, cv=10)\n",
        "knn_cv.fit(X_train, y_train)"
      ],
      "metadata": {
        "id": "YwpW0KibiOY6"
      },
      "execution_count": null,
      "outputs": []
    },
    {
      "cell_type": "code",
      "source": [
        "print(\"En iyi skor:\" + str(knn_cv.best_score_))\n",
        "print(\"En iyi parametreler: \" + str(knn_cv.best_params_))\n",
        "params = pd.Series(knn_cv.best_params_)"
      ],
      "metadata": {
        "colab": {
          "base_uri": "https://localhost:8080/"
        },
        "id": "LB8yIVaFiZSK",
        "outputId": "fdcd457a-bf60-4037-850a-2e12cbfca185"
      },
      "execution_count": 73,
      "outputs": [
        {
          "output_type": "stream",
          "name": "stdout",
          "text": [
            "En iyi skor:0.7598881900768693\n",
            "En iyi parametreler: {'n_neighbors': 15}\n"
          ]
        }
      ]
    },
    {
      "cell_type": "markdown",
      "source": [
        "## Tuned Model"
      ],
      "metadata": {
        "id": "ZFBjYB9EilAI"
      }
    },
    {
      "cell_type": "code",
      "source": [
        "knn = KNeighborsClassifier(params[0])\n",
        "knn_tuned = knn.fit(X_train, y_train)"
      ],
      "metadata": {
        "id": "FdmezHKKimdO"
      },
      "execution_count": 79,
      "outputs": []
    },
    {
      "cell_type": "code",
      "source": [
        "print(\"Basic Accuracy Score\",accuracy_score(y_test, knn_tuned.predict(X_test)))\n",
        "print(\"CV Accuracy Score\",cross_val_score(knn_tuned,\n",
        "                                          X_test, \n",
        "                                          y_test, \n",
        "                                          cv=10).mean())"
      ],
      "metadata": {
        "colab": {
          "base_uri": "https://localhost:8080/"
        },
        "id": "_GqIvAyXjCGh",
        "outputId": "e052e9fc-6664-4d56-c1fb-0c5e93ee2bd0"
      },
      "execution_count": 80,
      "outputs": [
        {
          "output_type": "stream",
          "name": "stdout",
          "text": [
            "Basic Accuracy Score 0.7229437229437229\n",
            "CV Accuracy Score 0.7355072463768116\n"
          ]
        }
      ]
    },
    {
      "cell_type": "markdown",
      "source": [
        "# Plot"
      ],
      "metadata": {
        "id": "UA68TYhdaAld"
      }
    },
    {
      "cell_type": "code",
      "source": [
        "logit_roc_auc = roc_auc_score(y, knn_tuned.predict(X))\n",
        "\n",
        "fpr, tpr, thresholds = roc_curve(y_test, knn_tuned.predict_proba(X_test)[:,1])\n",
        "plt.figure()\n",
        "plt.plot(fpr, tpr, label='AUC (area = %0.2f)' % logit_roc_auc)\n",
        "plt.plot([0, 1], [0, 1],'r--')\n",
        "plt.xlim([0.0, 1.0])\n",
        "plt.ylim([0.0, 1.05])\n",
        "plt.xlabel('False Positive Oranı')\n",
        "plt.ylabel('True Positive Oranı')\n",
        "plt.title('ROC')\n",
        "plt.show()"
      ],
      "metadata": {
        "colab": {
          "base_uri": "https://localhost:8080/",
          "height": 295
        },
        "id": "5WzkYHvgb44g",
        "outputId": "f9fefb83-0957-4c2b-de94-0f4bd286c53e"
      },
      "execution_count": 81,
      "outputs": [
        {
          "output_type": "display_data",
          "data": {
            "image/png": "[encoded data removed]",
            "text/plain": [
              "<Figure size 432x288 with 1 Axes>"
            ]
          },
          "metadata": {
            "needs_background": "light"
          }
        }
      ]
    },
    {
      "cell_type": "code",
      "source": [
        ""
      ],
      "metadata": {
        "id": "sbBSXf-WcGL4"
      },
      "execution_count": null,
      "outputs": []
    }
  ]
}